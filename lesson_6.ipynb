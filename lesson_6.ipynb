{
  "cells": [
    {
      "cell_type": "markdown",
      "metadata": {
        "id": "view-in-github",
        "colab_type": "text"
      },
      "source": [
        "<a href=\"https://colab.research.google.com/github/alexDx12/gb_statistics/blob/lesson_6/lesson_6.ipynb\" target=\"_parent\"><img src=\"https://colab.research.google.com/assets/colab-badge.svg\" alt=\"Open In Colab\"/></a>"
      ]
    },
    {
      "cell_type": "markdown",
      "id": "269343cc",
      "metadata": {
        "id": "269343cc"
      },
      "source": [
        "# Теория вероятностей и математическая статистика\n",
        "\n",
        "## Урок 6\n",
        "\n",
        "## Взаимосвязь величин. Показатели корреляции. Корреляционный анализ. Проверка на нормальность\n",
        "\n",
        "### Домашнее задание"
      ]
    },
    {
      "cell_type": "markdown",
      "id": "82a2e172",
      "metadata": {
        "id": "82a2e172"
      },
      "source": [
        "### Задача 1"
      ]
    },
    {
      "cell_type": "markdown",
      "id": "77532014",
      "metadata": {
        "id": "77532014"
      },
      "source": [
        "__Постановка задачи__"
      ]
    },
    {
      "cell_type": "markdown",
      "id": "e82a2af8",
      "metadata": {
        "id": "e82a2af8"
      },
      "source": [
        "Даны значения величины заработной платы заемщиков банка (zp) и значения их поведенческого кредитного скоринга (ks):\n",
        "zp = [35, 45, 190, 200, 40, 70, 54, 150, 120, 110],\n",
        "ks = [401, 574, 874, 919, 459, 739, 653, 902, 746, 832].\n",
        "Найдите ковариацию этих двух величин с помощью элементарных действий, а затем с помощью функции cov из numpy.\n",
        "Полученные значения должны быть равны.\n",
        "Найдите коэффициент корреляции Пирсона с помощью ковариации и среднеквадратичных отклонений двух признаков,\n",
        "а затем с использованием функций из библиотек numpy и pandas."
      ]
    },
    {
      "cell_type": "markdown",
      "id": "edaf4cda",
      "metadata": {
        "id": "edaf4cda"
      },
      "source": [
        "__Решение__"
      ]
    },
    {
      "cell_type": "markdown",
      "id": "3d32e18d",
      "metadata": {
        "id": "3d32e18d"
      },
      "source": [
        "Импорт библиотек и скриптов:"
      ]
    },
    {
      "cell_type": "code",
      "execution_count": null,
      "id": "ef52067f",
      "metadata": {
        "id": "ef52067f"
      },
      "outputs": [],
      "source": [
        "import numpy as np"
      ]
    },
    {
      "cell_type": "markdown",
      "id": "bb71209c",
      "metadata": {
        "id": "bb71209c"
      },
      "source": [
        "Значения величины заработной платы заемщиков (zp) и их поведенческого кредитного скоринга (ks) исходя из постановки задачи:"
      ]
    },
    {
      "cell_type": "code",
      "execution_count": null,
      "id": "d90f5bad",
      "metadata": {
        "id": "d90f5bad"
      },
      "outputs": [],
      "source": [
        "zp = np.array([35, 45, 190, 200, 40, 70, 54, 150, 120, 110])\n",
        "ks = np.array([401, 574, 874, 919, 459, 739, 653, 902, 746, 832])"
      ]
    },
    {
      "cell_type": "markdown",
      "id": "a78e9120",
      "metadata": {
        "id": "a78e9120"
      },
      "source": [
        "Выборочное среднее величины заработной платы заемщиков (M_zp):"
      ]
    },
    {
      "cell_type": "code",
      "execution_count": null,
      "id": "e180f85f",
      "metadata": {
        "id": "e180f85f",
        "outputId": "cd93e825-238f-4980-d19d-2cf02e2a0be3"
      },
      "outputs": [
        {
          "data": {
            "text/plain": [
              "101.4"
            ]
          },
          "execution_count": 132,
          "metadata": {},
          "output_type": "execute_result"
        }
      ],
      "source": [
        "M_zp = zp.mean()\n",
        "M_zp"
      ]
    },
    {
      "cell_type": "markdown",
      "id": "ba5dd391",
      "metadata": {
        "id": "ba5dd391"
      },
      "source": [
        "Выборочное среднее значения поведенческого кредитного скоринга заемщиков (M_ks):"
      ]
    },
    {
      "cell_type": "code",
      "execution_count": null,
      "id": "6d513c86",
      "metadata": {
        "id": "6d513c86",
        "outputId": "c504f75b-1f89-4385-89dd-3e377fc6ef01"
      },
      "outputs": [
        {
          "data": {
            "text/plain": [
              "709.9"
            ]
          },
          "execution_count": 133,
          "metadata": {},
          "output_type": "execute_result"
        }
      ],
      "source": [
        "M_ks = ks.mean()\n",
        "M_ks"
      ]
    },
    {
      "cell_type": "markdown",
      "id": "ee1b74be",
      "metadata": {
        "id": "ee1b74be"
      },
      "source": [
        "Ковариация, расчитываемая с помощью элементарных действий (cov):"
      ]
    },
    {
      "cell_type": "code",
      "execution_count": null,
      "id": "fe9f6245",
      "metadata": {
        "id": "fe9f6245",
        "outputId": "b67c019b-6675-4f19-8dd1-ba69fe36fdce"
      },
      "outputs": [
        {
          "data": {
            "text/plain": [
              "10175.38"
            ]
          },
          "execution_count": 134,
          "metadata": {},
          "output_type": "execute_result"
        }
      ],
      "source": [
        "cov = ((zp - M_zp) * (ks - M_ks)).sum() / (zp.shape[0] - 1)\n",
        "round(cov, 2)"
      ]
    },
    {
      "cell_type": "markdown",
      "id": "17ebf4fd",
      "metadata": {
        "id": "17ebf4fd"
      },
      "source": [
        "Ковариация, расчитываемая с помощью библиотеки numpy (np_cov):"
      ]
    },
    {
      "cell_type": "code",
      "execution_count": null,
      "id": "f0a0e54c",
      "metadata": {
        "id": "f0a0e54c",
        "outputId": "eee8b4eb-bf82-4fb8-8cdb-8d6117eabc76"
      },
      "outputs": [
        {
          "data": {
            "text/plain": [
              "10175.38"
            ]
          },
          "execution_count": 135,
          "metadata": {},
          "output_type": "execute_result"
        }
      ],
      "source": [
        "np_cov = np.cov(zp, ks, ddof=1)[1][0]\n",
        "round(np_cov, 2)"
      ]
    },
    {
      "cell_type": "markdown",
      "id": "b6be3043",
      "metadata": {
        "id": "b6be3043"
      },
      "source": [
        "Проверка равенства значений cov и np_cov (True - значения равны, False - значения не равны):"
      ]
    },
    {
      "cell_type": "code",
      "execution_count": null,
      "id": "4d00bb6d",
      "metadata": {
        "id": "4d00bb6d",
        "outputId": "1055461b-485b-4758-fee7-643dfbf1d945"
      },
      "outputs": [
        {
          "data": {
            "text/plain": [
              "True"
            ]
          },
          "execution_count": 136,
          "metadata": {},
          "output_type": "execute_result"
        }
      ],
      "source": [
        "round(cov, 2) == round(np_cov, 2)"
      ]
    },
    {
      "cell_type": "markdown",
      "id": "8dc2d7c8",
      "metadata": {
        "id": "8dc2d7c8"
      },
      "source": [
        "Коэффициент корреляции Пирсона, рассчитанный с помощью ковариации и среднеквадратичных отклонений признаков (corr):"
      ]
    },
    {
      "cell_type": "code",
      "execution_count": null,
      "id": "f639c09b",
      "metadata": {
        "id": "f639c09b",
        "outputId": "84c4562b-9f83-45be-cce4-87b346bc0255"
      },
      "outputs": [
        {
          "data": {
            "text/plain": [
              "0.89"
            ]
          },
          "execution_count": 137,
          "metadata": {},
          "output_type": "execute_result"
        }
      ],
      "source": [
        "corr = cov / (zp.std(ddof=1) * ks.std(ddof=1))\n",
        "round(corr, 2)"
      ]
    },
    {
      "cell_type": "markdown",
      "id": "58f38005",
      "metadata": {
        "id": "58f38005"
      },
      "source": [
        "Коэффициент корреляции Пирсона, рассчитанный с помощью библиотеки numpy (np_corr):"
      ]
    },
    {
      "cell_type": "code",
      "execution_count": null,
      "id": "8b1a82b6",
      "metadata": {
        "id": "8b1a82b6",
        "outputId": "5582347c-a32b-4310-b40c-9dc5e49e942e"
      },
      "outputs": [
        {
          "data": {
            "text/plain": [
              "0.89"
            ]
          },
          "execution_count": 138,
          "metadata": {},
          "output_type": "execute_result"
        }
      ],
      "source": [
        "np_corr = np.corrcoef(zp, ks)[1][0]\n",
        "round(np_corr, 2)"
      ]
    },
    {
      "cell_type": "markdown",
      "id": "de33085b",
      "metadata": {
        "id": "de33085b"
      },
      "source": [
        "Проверка равенства значений corr и np_corr (True - значения равны, False - значения не равны):"
      ]
    },
    {
      "cell_type": "code",
      "execution_count": null,
      "id": "5ed3d4d0",
      "metadata": {
        "id": "5ed3d4d0",
        "outputId": "3d7c36a2-2e19-47b1-c915-ae4e11e04666"
      },
      "outputs": [
        {
          "data": {
            "text/plain": [
              "True"
            ]
          },
          "execution_count": 139,
          "metadata": {},
          "output_type": "execute_result"
        }
      ],
      "source": [
        "round(corr, 2) == round(np_corr, 2)"
      ]
    },
    {
      "cell_type": "markdown",
      "id": "30fe6d83",
      "metadata": {
        "id": "30fe6d83"
      },
      "source": [
        "Ответ: ковариация значений равна 10175.38, коэффициент корреляции Пирсона равен 0.89."
      ]
    },
    {
      "cell_type": "markdown",
      "id": "f8097bf0",
      "metadata": {
        "id": "f8097bf0"
      },
      "source": [
        "### Задача 2"
      ]
    },
    {
      "cell_type": "markdown",
      "id": "86abb8f8",
      "metadata": {
        "id": "86abb8f8"
      },
      "source": [
        "__Постановка задачи__"
      ]
    },
    {
      "cell_type": "markdown",
      "id": "a1d29e06",
      "metadata": {
        "id": "a1d29e06"
      },
      "source": [
        "Измерены значения IQ выборки студентов,\n",
        "обучающихся в местных технических вузах:\n",
        "131, 125, 115, 122, 131, 115, 107, 99, 125, 111.\n",
        "Известно, что в генеральной совокупности IQ распределен нормально.\n",
        "Найдите доверительный интервал для математического ожидания с надежностью 0.95."
      ]
    },
    {
      "cell_type": "markdown",
      "id": "0ab2848d",
      "metadata": {
        "id": "0ab2848d"
      },
      "source": [
        "__Решение__"
      ]
    },
    {
      "cell_type": "markdown",
      "id": "d3263820",
      "metadata": {
        "id": "d3263820"
      },
      "source": [
        "Импорт библиотек и скриптов:"
      ]
    },
    {
      "cell_type": "code",
      "execution_count": null,
      "id": "239c8370",
      "metadata": {
        "id": "239c8370"
      },
      "outputs": [],
      "source": [
        "import numpy as np\n",
        "from scipy import stats"
      ]
    },
    {
      "cell_type": "markdown",
      "id": "733a3064",
      "metadata": {
        "id": "733a3064"
      },
      "source": [
        "Значения выборки IQ студентов (iq_sample) и надёжности (p) исходя из постановки задачи:"
      ]
    },
    {
      "cell_type": "code",
      "execution_count": null,
      "id": "644e2f7e",
      "metadata": {
        "id": "644e2f7e"
      },
      "outputs": [],
      "source": [
        "iq_sample = np.array([131, 125, 115, 122, 131, 115, 107, 99, 125, 111])\n",
        "p = 0.95"
      ]
    },
    {
      "cell_type": "markdown",
      "id": "7a4e00a9",
      "metadata": {
        "id": "7a4e00a9"
      },
      "source": [
        "Выборочное среднее выборки IQ студентов (mean):"
      ]
    },
    {
      "cell_type": "code",
      "execution_count": null,
      "id": "72f7fd0f",
      "metadata": {
        "id": "72f7fd0f",
        "outputId": "c6dc5a0e-dc91-4d1b-ffec-b3433fbef8c8"
      },
      "outputs": [
        {
          "data": {
            "text/plain": [
              "118.1"
            ]
          },
          "execution_count": 142,
          "metadata": {},
          "output_type": "execute_result"
        }
      ],
      "source": [
        "mean = iq_sample.mean()\n",
        "mean"
      ]
    },
    {
      "cell_type": "markdown",
      "id": "3c21352a",
      "metadata": {
        "id": "3c21352a"
      },
      "source": [
        "Несмещённая оценка стандатного отклонения выборки IQ студентов (std):"
      ]
    },
    {
      "cell_type": "code",
      "execution_count": null,
      "id": "a0f481b6",
      "metadata": {
        "id": "a0f481b6",
        "outputId": "4daf3b67-5ee2-4b94-88c9-46ce811a4cd3"
      },
      "outputs": [
        {
          "data": {
            "text/plain": [
              "10.54566788359614"
            ]
          },
          "execution_count": 143,
          "metadata": {},
          "output_type": "execute_result"
        }
      ],
      "source": [
        "std = iq_sample.std(ddof=1)\n",
        "std"
      ]
    },
    {
      "cell_type": "markdown",
      "id": "9a4880f1",
      "metadata": {
        "id": "9a4880f1"
      },
      "source": [
        "Уровень значимости (alpha):"
      ]
    },
    {
      "cell_type": "code",
      "execution_count": null,
      "id": "8f56c5df",
      "metadata": {
        "id": "8f56c5df",
        "outputId": "8538426d-2b25-4a99-b482-476934036dd1"
      },
      "outputs": [
        {
          "data": {
            "text/plain": [
              "0.050000000000000044"
            ]
          },
          "execution_count": 144,
          "metadata": {},
          "output_type": "execute_result"
        }
      ],
      "source": [
        "alpha = 1 - p\n",
        "alpha"
      ]
    },
    {
      "cell_type": "markdown",
      "id": "1526f12a",
      "metadata": {
        "id": "1526f12a"
      },
      "source": [
        "Объём выборки (n):"
      ]
    },
    {
      "cell_type": "code",
      "execution_count": null,
      "id": "98107977",
      "metadata": {
        "id": "98107977",
        "outputId": "7b64ad78-39f0-4240-e86f-80aee3943533"
      },
      "outputs": [
        {
          "data": {
            "text/plain": [
              "10"
            ]
          },
          "execution_count": 145,
          "metadata": {},
          "output_type": "execute_result"
        }
      ],
      "source": [
        "n = len(iq_sample)\n",
        "n"
      ]
    },
    {
      "cell_type": "markdown",
      "id": "f6d240a8",
      "metadata": {
        "id": "f6d240a8"
      },
      "source": [
        "Квантили распределения (t1, t2):"
      ]
    },
    {
      "cell_type": "code",
      "execution_count": null,
      "id": "d6b06431",
      "metadata": {
        "id": "d6b06431",
        "outputId": "5141098c-ae91-41b4-9ff8-53539d3494c7"
      },
      "outputs": [
        {
          "data": {
            "text/plain": [
              "(-2.2621571627409915, 2.2621571627409915)"
            ]
          },
          "execution_count": 146,
          "metadata": {},
          "output_type": "execute_result"
        }
      ],
      "source": [
        "t1 = stats.t.ppf(alpha / 2, df=n - 1)\n",
        "t2 = stats.t.ppf(1 - alpha / 2, df=n - 1)\n",
        "t1, t2"
      ]
    },
    {
      "cell_type": "markdown",
      "id": "888cb07e",
      "metadata": {
        "id": "888cb07e"
      },
      "source": [
        "Доверительный интервал (conf):"
      ]
    },
    {
      "cell_type": "code",
      "execution_count": null,
      "id": "2727b683",
      "metadata": {
        "id": "2727b683",
        "outputId": "a7a02ede-0fe3-485e-b51c-9d9f65ad30a9"
      },
      "outputs": [
        {
          "data": {
            "text/plain": [
              "(110.55608365158724, 125.64391634841274)"
            ]
          },
          "execution_count": 147,
          "metadata": {},
          "output_type": "execute_result"
        }
      ],
      "source": [
        "conf = (mean + t1 * std / np.sqrt(n), mean + t2 * std / np.sqrt(n))\n",
        "conf"
      ]
    },
    {
      "cell_type": "markdown",
      "id": "d9848952",
      "metadata": {
        "id": "d9848952"
      },
      "source": [
        "Ответ: доверительный интервал составляет от 110.556 до 125.644."
      ]
    },
    {
      "cell_type": "markdown",
      "id": "c7731eff",
      "metadata": {
        "id": "c7731eff"
      },
      "source": [
        "### Задача 3"
      ]
    },
    {
      "cell_type": "markdown",
      "id": "bc8be54e",
      "metadata": {
        "id": "bc8be54e"
      },
      "source": [
        "__Постановка задачи__"
      ]
    },
    {
      "cell_type": "markdown",
      "id": "18915d01",
      "metadata": {
        "id": "18915d01"
      },
      "source": [
        "Известно, что рост футболистов в сборной распределен нормально\n",
        "с дисперсией генеральной совокупности, равной 25 кв.см. Объем выборки равен 27,\n",
        "среднее выборочное составляет 174.2. Найдите доверительный интервал для математического\n",
        "ожидания с надежностью 0.95."
      ]
    },
    {
      "cell_type": "markdown",
      "id": "79642d57",
      "metadata": {
        "id": "79642d57"
      },
      "source": [
        "__Решение__"
      ]
    },
    {
      "cell_type": "markdown",
      "id": "1ea1d2b6",
      "metadata": {
        "id": "1ea1d2b6"
      },
      "source": [
        "Импорт библиотек и скриптов:"
      ]
    },
    {
      "cell_type": "code",
      "execution_count": null,
      "id": "80e6cac9",
      "metadata": {
        "id": "80e6cac9"
      },
      "outputs": [],
      "source": [
        "from scipy import stats"
      ]
    },
    {
      "cell_type": "markdown",
      "id": "0e737dee",
      "metadata": {
        "id": "0e737dee"
      },
      "source": [
        "Значения дисперсии генеральной совокупности (variance), объёма выборки (n), среднего выборочного (mean) и надёжности (p) исходя из постановки задачи:"
      ]
    },
    {
      "cell_type": "code",
      "execution_count": null,
      "id": "4e81deb2",
      "metadata": {
        "id": "4e81deb2"
      },
      "outputs": [],
      "source": [
        "variance = 25\n",
        "n = 27\n",
        "mean = 174.2\n",
        "p = 0.95"
      ]
    },
    {
      "cell_type": "markdown",
      "id": "9ccd2d9c",
      "metadata": {
        "id": "9ccd2d9c"
      },
      "source": [
        "Несмещённая оценка стандатного отклонения (std):"
      ]
    },
    {
      "cell_type": "code",
      "execution_count": null,
      "id": "864bec74",
      "metadata": {
        "id": "864bec74",
        "outputId": "34fd5d1e-428d-4c69-956b-e268ecebdbf7"
      },
      "outputs": [
        {
          "data": {
            "text/plain": [
              "5.0"
            ]
          },
          "execution_count": 150,
          "metadata": {},
          "output_type": "execute_result"
        }
      ],
      "source": [
        "std = variance ** 0.5\n",
        "std"
      ]
    },
    {
      "cell_type": "markdown",
      "id": "2987cc06",
      "metadata": {
        "id": "2987cc06"
      },
      "source": [
        "Уровень значимости (alpha):"
      ]
    },
    {
      "cell_type": "code",
      "execution_count": null,
      "id": "5b2af429",
      "metadata": {
        "id": "5b2af429",
        "outputId": "832e0045-12f2-448a-9457-f8d645eb9fba"
      },
      "outputs": [
        {
          "data": {
            "text/plain": [
              "0.05"
            ]
          },
          "execution_count": 151,
          "metadata": {},
          "output_type": "execute_result"
        }
      ],
      "source": [
        "alpha = 1 - p\n",
        "round(alpha, 2)"
      ]
    },
    {
      "cell_type": "markdown",
      "id": "2974c52d",
      "metadata": {
        "id": "2974c52d"
      },
      "source": [
        "Квантили распределения (t1, t2):"
      ]
    },
    {
      "cell_type": "code",
      "execution_count": null,
      "id": "514130b3",
      "metadata": {
        "id": "514130b3",
        "outputId": "3d81390b-aae1-4092-9b50-f6ba94081b95"
      },
      "outputs": [
        {
          "data": {
            "text/plain": [
              "(-1.959963984540054, 1.959963984540054)"
            ]
          },
          "execution_count": 152,
          "metadata": {},
          "output_type": "execute_result"
        }
      ],
      "source": [
        "t1 = stats.norm.ppf(alpha / 2)\n",
        "t2 = stats.norm.ppf(1 - alpha / 2)\n",
        "t1, t2"
      ]
    },
    {
      "cell_type": "markdown",
      "id": "dc45e28b",
      "metadata": {
        "id": "dc45e28b"
      },
      "source": [
        "Доверительный интервал (conf):"
      ]
    },
    {
      "cell_type": "code",
      "execution_count": null,
      "id": "dede4652",
      "metadata": {
        "id": "dede4652",
        "outputId": "c806530e-39d0-4a75-a834-6c28ade6d8d3"
      },
      "outputs": [
        {
          "data": {
            "text/plain": [
              "(172.3140237765397, 176.08597622346028)"
            ]
          },
          "execution_count": 153,
          "metadata": {},
          "output_type": "execute_result"
        }
      ],
      "source": [
        "conf = (mean + t1 * std / np.sqrt(n), mean + t2 * std / np.sqrt(n))\n",
        "conf"
      ]
    },
    {
      "cell_type": "markdown",
      "id": "60f37d8d",
      "metadata": {
        "id": "60f37d8d"
      },
      "source": [
        "Ответ: доверительный интервал составляет от 172.314 до 176.086."
      ]
    },
    {
      "cell_type": "markdown",
      "id": "cdc9093d",
      "metadata": {
        "id": "cdc9093d"
      },
      "source": [
        "### Задача 4"
      ]
    },
    {
      "cell_type": "markdown",
      "id": "89f978f8",
      "metadata": {
        "id": "89f978f8"
      },
      "source": [
        "__Постановка задачи__"
      ]
    },
    {
      "cell_type": "markdown",
      "id": "f45e2c86",
      "metadata": {
        "id": "f45e2c86"
      },
      "source": [
        "Выберите тему для проектной работы по курсу Теории вероятностей и математической статистики\n",
        "и напишите ее в комментарии к Практическому заданию."
      ]
    },
    {
      "cell_type": "markdown",
      "id": "a9246ab3",
      "metadata": {
        "id": "a9246ab3"
      },
      "source": [
        "__Решение__"
      ]
    },
    {
      "cell_type": "markdown",
      "id": "49651993",
      "metadata": {
        "id": "49651993"
      },
      "source": [
        "Тема проектной работы: Exploratory Data Analysis (EDA) на примере задачи \"Titanic - Machine Learning from Disaster\" платформы kaggle (https://www.kaggle.com)\"."
      ]
    },
    {
      "cell_type": "code",
      "execution_count": null,
      "id": "3dfb0b22",
      "metadata": {
        "id": "3dfb0b22"
      },
      "outputs": [],
      "source": [
        ""
      ]
    }
  ],
  "metadata": {
    "kernelspec": {
      "display_name": "Python 3 (ipykernel)",
      "language": "python",
      "name": "python3"
    },
    "language_info": {
      "codemirror_mode": {
        "name": "ipython",
        "version": 3
      },
      "file_extension": ".py",
      "mimetype": "text/x-python",
      "name": "python",
      "nbconvert_exporter": "python",
      "pygments_lexer": "ipython3",
      "version": "3.9.7"
    },
    "colab": {
      "name": "lesson_6.ipynb",
      "provenance": [],
      "include_colab_link": true
    }
  },
  "nbformat": 4,
  "nbformat_minor": 5
}