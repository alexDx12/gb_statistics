{
  "cells": [
    {
      "cell_type": "markdown",
      "metadata": {
        "id": "view-in-github",
        "colab_type": "text"
      },
      "source": [
        "<a href=\"https://colab.research.google.com/github/alexDx12/gb_statistics/blob/lesson_6/lesson_6.ipynb\" target=\"_parent\"><img src=\"https://colab.research.google.com/assets/colab-badge.svg\" alt=\"Open In Colab\"/></a>"
      ]
    },
    {
      "cell_type": "markdown",
      "id": "303727c5",
      "metadata": {
        "id": "303727c5"
      },
      "source": [
        "# Теория вероятностей и математическая статистика\n",
        "\n",
        "## Урок 6\n",
        "\n",
        "## Взаимосвязь величин. Показатели корреляции. Корреляционный анализ. Проверка на нормальность\n",
        "\n",
        "### Домашнее задание"
      ]
    },
    {
      "cell_type": "markdown",
      "id": "f714e84c",
      "metadata": {
        "id": "f714e84c"
      },
      "source": [
        "### Задача 1"
      ]
    },
    {
      "cell_type": "markdown",
      "id": "b07ca632",
      "metadata": {
        "id": "b07ca632"
      },
      "source": [
        "__Постановка задачи__"
      ]
    },
    {
      "cell_type": "markdown",
      "id": "e82a2af8",
      "metadata": {
        "id": "e82a2af8"
      },
      "source": [
        "Даны значения величины заработной платы заемщиков банка (zp) и значения их поведенческого кредитного скоринга (ks):\n",
        "zp = [35, 45, 190, 200, 40, 70, 54, 150, 120, 110],\n",
        "ks = [401, 574, 874, 919, 459, 739, 653, 902, 746, 832].\n",
        "Найдите ковариацию этих двух величин с помощью элементарных действий, а затем с помощью функции cov из numpy.\n",
        "Полученные значения должны быть равны.\n",
        "Найдите коэффициент корреляции Пирсона с помощью ковариации и среднеквадратичных отклонений двух признаков,\n",
        "а затем с использованием функций из библиотек numpy и pandas."
      ]
    },
    {
      "cell_type": "markdown",
      "id": "58b8178a",
      "metadata": {
        "id": "58b8178a"
      },
      "source": [
        "__Решение__"
      ]
    },
    {
      "cell_type": "markdown",
      "id": "483a0d73",
      "metadata": {
        "id": "483a0d73"
      },
      "source": [
        "Импорт библиотек и скриптов:"
      ]
    },
    {
      "cell_type": "code",
      "execution_count": null,
      "id": "ef52067f",
      "metadata": {
        "id": "ef52067f"
      },
      "outputs": [],
      "source": [
        "import numpy as np"
      ]
    },
    {
      "cell_type": "markdown",
      "id": "a44b9a51",
      "metadata": {
        "id": "a44b9a51"
      },
      "source": [
        "Значения величины заработной платы заемщиков (zp) и их поведенческого кредитного скоринга (ks) исходя из постановки задачи:"
      ]
    },
    {
      "cell_type": "code",
      "execution_count": null,
      "id": "d90f5bad",
      "metadata": {
        "id": "d90f5bad"
      },
      "outputs": [],
      "source": [
        "zp = np.array([35, 45, 190, 200, 40, 70, 54, 150, 120, 110])\n",
        "ks = np.array([401, 574, 874, 919, 459, 739, 653, 902, 746, 832])"
      ]
    },
    {
      "cell_type": "markdown",
      "id": "464864f2",
      "metadata": {
        "id": "464864f2"
      },
      "source": [
        "Выборочное среднее величины заработной платы заемщиков (M_zp):"
      ]
    },
    {
      "cell_type": "code",
      "execution_count": null,
      "id": "e180f85f",
      "metadata": {
        "id": "e180f85f",
        "outputId": "1029e419-09fe-48a6-f3f8-9d771f27428f"
      },
      "outputs": [
        {
          "data": {
            "text/plain": [
              "101.4"
            ]
          },
          "execution_count": 74,
          "metadata": {},
          "output_type": "execute_result"
        }
      ],
      "source": [
        "M_zp = zp.mean()\n",
        "M_zp"
      ]
    },
    {
      "cell_type": "markdown",
      "id": "2011793a",
      "metadata": {
        "id": "2011793a"
      },
      "source": [
        "Выборочное среднее значения поведенческого кредитного скоринга заемщиков (M_ks):"
      ]
    },
    {
      "cell_type": "code",
      "execution_count": null,
      "id": "f5bd81ed",
      "metadata": {
        "id": "f5bd81ed",
        "outputId": "75ef21f9-75d7-46cd-d3de-700155d8eb66"
      },
      "outputs": [
        {
          "data": {
            "text/plain": [
              "709.9"
            ]
          },
          "execution_count": 75,
          "metadata": {},
          "output_type": "execute_result"
        }
      ],
      "source": [
        "M_ks = ks.mean()\n",
        "M_ks"
      ]
    },
    {
      "cell_type": "markdown",
      "id": "95d032b7",
      "metadata": {
        "id": "95d032b7"
      },
      "source": [
        "Ковариация, расчитываемая с помощью элементарных действий (cov):"
      ]
    },
    {
      "cell_type": "code",
      "execution_count": null,
      "id": "fe9f6245",
      "metadata": {
        "id": "fe9f6245",
        "outputId": "388e4b1a-b13f-4387-82aa-e14966f4b65c"
      },
      "outputs": [
        {
          "data": {
            "text/plain": [
              "10175.38"
            ]
          },
          "execution_count": 76,
          "metadata": {},
          "output_type": "execute_result"
        }
      ],
      "source": [
        "cov = ((zp - M_zp) * (ks - M_ks)).sum() / (zp.shape[0] - 1)\n",
        "round(cov, 2)"
      ]
    },
    {
      "cell_type": "markdown",
      "id": "7ea568ca",
      "metadata": {
        "id": "7ea568ca"
      },
      "source": [
        "Ковариация, расчитываемая с помощью библиотеки numpy (np_cov):"
      ]
    },
    {
      "cell_type": "code",
      "execution_count": null,
      "id": "f0a0e54c",
      "metadata": {
        "id": "f0a0e54c",
        "outputId": "575ee7f6-1f06-4c18-d200-779935802fee"
      },
      "outputs": [
        {
          "data": {
            "text/plain": [
              "10175.38"
            ]
          },
          "execution_count": 77,
          "metadata": {},
          "output_type": "execute_result"
        }
      ],
      "source": [
        "np_cov = np.cov(zp, ks, ddof=1)[1][0]\n",
        "round(np_cov, 2)"
      ]
    },
    {
      "cell_type": "markdown",
      "id": "4df1d717",
      "metadata": {
        "id": "4df1d717"
      },
      "source": [
        "Проверка равенства значений cov и np_cov (True - значения равны, False - значения не равны):"
      ]
    },
    {
      "cell_type": "code",
      "execution_count": null,
      "id": "a74b9cb4",
      "metadata": {
        "id": "a74b9cb4",
        "outputId": "ac966a18-f6a1-448a-efc6-38ca76295142"
      },
      "outputs": [
        {
          "data": {
            "text/plain": [
              "True"
            ]
          },
          "execution_count": 78,
          "metadata": {},
          "output_type": "execute_result"
        }
      ],
      "source": [
        "round(cov, 2) == round(np_cov, 2)"
      ]
    },
    {
      "cell_type": "markdown",
      "id": "3fa1888b",
      "metadata": {
        "id": "3fa1888b"
      },
      "source": [
        "Коэффициент корреляции Пирсона, рассчитанный с помощью ковариации и среднеквадратичных отклонений признаков (corr):"
      ]
    },
    {
      "cell_type": "code",
      "execution_count": null,
      "id": "f639c09b",
      "metadata": {
        "id": "f639c09b",
        "outputId": "f41d3233-357c-4863-fefd-48156aa6a18b"
      },
      "outputs": [
        {
          "data": {
            "text/plain": [
              "0.89"
            ]
          },
          "execution_count": 79,
          "metadata": {},
          "output_type": "execute_result"
        }
      ],
      "source": [
        "corr = cov / (zp.std(ddof=1) * ks.std(ddof=1))\n",
        "round(corr, 2)"
      ]
    },
    {
      "cell_type": "markdown",
      "id": "228ba7bd",
      "metadata": {
        "id": "228ba7bd"
      },
      "source": [
        "Коэффициент корреляции Пирсона, рассчитанный с помощью библиотеки numpy (np_corr):"
      ]
    },
    {
      "cell_type": "code",
      "execution_count": null,
      "id": "8b1a82b6",
      "metadata": {
        "id": "8b1a82b6",
        "outputId": "4f8ca98d-331f-42fd-9aff-d5484f192d2a"
      },
      "outputs": [
        {
          "data": {
            "text/plain": [
              "0.89"
            ]
          },
          "execution_count": 80,
          "metadata": {},
          "output_type": "execute_result"
        }
      ],
      "source": [
        "np_corr = np.corrcoef(zp, ks)[1][0]\n",
        "round(np_corr, 2)"
      ]
    },
    {
      "cell_type": "markdown",
      "id": "f851f4cb",
      "metadata": {
        "id": "f851f4cb"
      },
      "source": [
        "Проверка равенства значений corr и np_corr (True - значения равны, False - значения не равны):"
      ]
    },
    {
      "cell_type": "code",
      "execution_count": null,
      "id": "f46940c3",
      "metadata": {
        "id": "f46940c3",
        "outputId": "7d735f5c-9ac2-4a56-c37d-d0cfe2e774a4"
      },
      "outputs": [
        {
          "data": {
            "text/plain": [
              "True"
            ]
          },
          "execution_count": 81,
          "metadata": {},
          "output_type": "execute_result"
        }
      ],
      "source": [
        "round(corr, 2) == round(np_corr, 2)"
      ]
    },
    {
      "cell_type": "markdown",
      "id": "77a0f60d",
      "metadata": {
        "id": "77a0f60d"
      },
      "source": [
        "Ответ: ковариация значений равна 10175.38, коэффициент корреляции Пирсона равен 0.89."
      ]
    },
    {
      "cell_type": "markdown",
      "id": "d631838e",
      "metadata": {
        "id": "d631838e"
      },
      "source": [
        "### Задача 2"
      ]
    },
    {
      "cell_type": "markdown",
      "id": "a3ec5b2f",
      "metadata": {
        "id": "a3ec5b2f"
      },
      "source": [
        "__Постановка задачи__"
      ]
    },
    {
      "cell_type": "markdown",
      "id": "a1d29e06",
      "metadata": {
        "id": "a1d29e06"
      },
      "source": [
        "Измерены значения IQ выборки студентов,\n",
        "обучающихся в местных технических вузах:\n",
        "131, 125, 115, 122, 131, 115, 107, 99, 125, 111.\n",
        "Известно, что в генеральной совокупности IQ распределен нормально.\n",
        "Найдите доверительный интервал для математического ожидания с надежностью 0.95."
      ]
    },
    {
      "cell_type": "markdown",
      "id": "74c5222a",
      "metadata": {
        "id": "74c5222a"
      },
      "source": [
        "__Решение__"
      ]
    },
    {
      "cell_type": "markdown",
      "id": "ab46a21d",
      "metadata": {
        "id": "ab46a21d"
      },
      "source": [
        "Импорт библиотек и скриптов:"
      ]
    },
    {
      "cell_type": "code",
      "execution_count": null,
      "id": "239c8370",
      "metadata": {
        "id": "239c8370"
      },
      "outputs": [],
      "source": [
        "import numpy as np\n",
        "from scipy import stats"
      ]
    },
    {
      "cell_type": "markdown",
      "id": "2b5b7ef8",
      "metadata": {
        "id": "2b5b7ef8"
      },
      "source": [
        "Значения выборки IQ студентов (iq_sample) и надёжности (p) исходя из постановки задачи:"
      ]
    },
    {
      "cell_type": "code",
      "execution_count": null,
      "id": "644e2f7e",
      "metadata": {
        "id": "644e2f7e"
      },
      "outputs": [],
      "source": [
        "iq_sample = np.array([131, 125, 115, 122, 131, 115, 107, 99, 125, 111])\n",
        "p = 0.95"
      ]
    },
    {
      "cell_type": "markdown",
      "id": "f50eb32b",
      "metadata": {
        "id": "f50eb32b"
      },
      "source": [
        "Выборочное среднее выборки IQ студентов (mean):"
      ]
    },
    {
      "cell_type": "code",
      "execution_count": null,
      "id": "72f7fd0f",
      "metadata": {
        "id": "72f7fd0f",
        "outputId": "6dec08b9-649b-48ba-9b71-cf68eac7bf6b"
      },
      "outputs": [
        {
          "data": {
            "text/plain": [
              "118.1"
            ]
          },
          "execution_count": 84,
          "metadata": {},
          "output_type": "execute_result"
        }
      ],
      "source": [
        "mean = iq_sample.mean()\n",
        "mean"
      ]
    },
    {
      "cell_type": "markdown",
      "id": "c39298fe",
      "metadata": {
        "id": "c39298fe"
      },
      "source": [
        "Несмещённая оценка стандатного отклонения выборки IQ студентов (std):"
      ]
    },
    {
      "cell_type": "code",
      "execution_count": null,
      "id": "a0f481b6",
      "metadata": {
        "id": "a0f481b6",
        "outputId": "4791f767-bf5c-4bac-8cea-4765ecf502ed"
      },
      "outputs": [
        {
          "data": {
            "text/plain": [
              "10.54566788359614"
            ]
          },
          "execution_count": 85,
          "metadata": {},
          "output_type": "execute_result"
        }
      ],
      "source": [
        "std = iq_sample.std(ddof=1)\n",
        "std"
      ]
    },
    {
      "cell_type": "markdown",
      "id": "108b9675",
      "metadata": {
        "id": "108b9675"
      },
      "source": [
        "Уровень значимости (alpha):"
      ]
    },
    {
      "cell_type": "code",
      "execution_count": null,
      "id": "8f56c5df",
      "metadata": {
        "id": "8f56c5df",
        "outputId": "ab4e9341-e2df-4cc6-e48f-7c3df3d98758"
      },
      "outputs": [
        {
          "data": {
            "text/plain": [
              "0.050000000000000044"
            ]
          },
          "execution_count": 86,
          "metadata": {},
          "output_type": "execute_result"
        }
      ],
      "source": [
        "alpha = 1 - p\n",
        "alpha"
      ]
    },
    {
      "cell_type": "markdown",
      "id": "b6cbed74",
      "metadata": {
        "id": "b6cbed74"
      },
      "source": [
        "Объём выборки (n):"
      ]
    },
    {
      "cell_type": "code",
      "execution_count": null,
      "id": "98107977",
      "metadata": {
        "id": "98107977",
        "outputId": "3e5554a6-2b97-474a-bcfb-127cbdde659d"
      },
      "outputs": [
        {
          "data": {
            "text/plain": [
              "10"
            ]
          },
          "execution_count": 87,
          "metadata": {},
          "output_type": "execute_result"
        }
      ],
      "source": [
        "n = len(iq_sample)\n",
        "n"
      ]
    },
    {
      "cell_type": "markdown",
      "id": "b53aba7f",
      "metadata": {
        "id": "b53aba7f"
      },
      "source": [
        "Квантили распределения (t1, t2):"
      ]
    },
    {
      "cell_type": "code",
      "execution_count": null,
      "id": "d6b06431",
      "metadata": {
        "id": "d6b06431",
        "outputId": "9682188d-4d4e-467d-f794-3d60952b9d9b"
      },
      "outputs": [
        {
          "data": {
            "text/plain": [
              "(-2.2621571627409915, 2.2621571627409915)"
            ]
          },
          "execution_count": 88,
          "metadata": {},
          "output_type": "execute_result"
        }
      ],
      "source": [
        "t1 = stats.t.ppf(alpha / 2, df=n - 1)\n",
        "t2 = stats.t.ppf(1 - alpha / 2, df=n - 1)\n",
        "t1, t2"
      ]
    },
    {
      "cell_type": "markdown",
      "id": "a0782aea",
      "metadata": {
        "id": "a0782aea"
      },
      "source": [
        "Доверительный интервал (conf):"
      ]
    },
    {
      "cell_type": "code",
      "execution_count": null,
      "id": "2727b683",
      "metadata": {
        "id": "2727b683",
        "outputId": "4afd72b8-7de2-4f7b-ce48-1d257d07d312"
      },
      "outputs": [
        {
          "data": {
            "text/plain": [
              "(110.55608365158724, 125.64391634841274)"
            ]
          },
          "execution_count": 89,
          "metadata": {},
          "output_type": "execute_result"
        }
      ],
      "source": [
        "conf = (mean + t1 * std / np.sqrt(n), mean + t2 * std / np.sqrt(n))\n",
        "conf"
      ]
    },
    {
      "cell_type": "markdown",
      "id": "462e8cbe",
      "metadata": {
        "id": "462e8cbe"
      },
      "source": [
        "Ответ: доверительный интервал составляет от 110.556 до 125.644."
      ]
    },
    {
      "cell_type": "markdown",
      "id": "6d4c486b",
      "metadata": {
        "id": "6d4c486b"
      },
      "source": [
        "### Задача 3"
      ]
    },
    {
      "cell_type": "markdown",
      "id": "ff943b17",
      "metadata": {
        "id": "ff943b17"
      },
      "source": [
        "__Постановка задачи__"
      ]
    },
    {
      "cell_type": "markdown",
      "id": "18915d01",
      "metadata": {
        "id": "18915d01"
      },
      "source": [
        "Известно, что рост футболистов в сборной распределен нормально\n",
        "с дисперсией генеральной совокупности, равной 25 кв.см. Объем выборки равен 27,\n",
        "среднее выборочное составляет 174.2. Найдите доверительный интервал для математического\n",
        "ожидания с надежностью 0.95."
      ]
    },
    {
      "cell_type": "markdown",
      "id": "7c99a884",
      "metadata": {
        "id": "7c99a884"
      },
      "source": [
        "__Решение__"
      ]
    },
    {
      "cell_type": "markdown",
      "id": "70378522",
      "metadata": {
        "id": "70378522"
      },
      "source": [
        "Импорт библиотек и скриптов:"
      ]
    },
    {
      "cell_type": "code",
      "execution_count": null,
      "id": "4e13dcdf",
      "metadata": {
        "id": "4e13dcdf"
      },
      "outputs": [],
      "source": [
        "from scipy import stats"
      ]
    },
    {
      "cell_type": "markdown",
      "id": "6c811d43",
      "metadata": {
        "id": "6c811d43"
      },
      "source": [
        "Значения дисперсии генеральной совокупности (variance), объёма выборки (n), среднего выборочного (mean) и надёжности (p) исходя из постановки задачи:"
      ]
    },
    {
      "cell_type": "code",
      "execution_count": null,
      "id": "4e81deb2",
      "metadata": {
        "id": "4e81deb2"
      },
      "outputs": [],
      "source": [
        "variance = 25\n",
        "n = 27\n",
        "mean = 174.2\n",
        "p = 0.95"
      ]
    },
    {
      "cell_type": "markdown",
      "id": "2040818c",
      "metadata": {
        "id": "2040818c"
      },
      "source": [
        "Уровень значимости (alpha):"
      ]
    },
    {
      "cell_type": "code",
      "execution_count": null,
      "id": "5b2af429",
      "metadata": {
        "id": "5b2af429",
        "outputId": "1d559a58-b8a1-4b4b-ec56-05f5ebb7a233"
      },
      "outputs": [
        {
          "data": {
            "text/plain": [
              "0.050000000000000044"
            ]
          },
          "execution_count": 92,
          "metadata": {},
          "output_type": "execute_result"
        }
      ],
      "source": [
        "alpha = 1 - p\n",
        "alpha"
      ]
    },
    {
      "cell_type": "markdown",
      "id": "cd2ff26d",
      "metadata": {
        "id": "cd2ff26d"
      },
      "source": [
        "Квантили распределения (t1, t2):"
      ]
    },
    {
      "cell_type": "code",
      "execution_count": null,
      "id": "514130b3",
      "metadata": {
        "id": "514130b3",
        "outputId": "c5d2dfe8-2496-45c2-8384-5d210bcffafd"
      },
      "outputs": [
        {
          "data": {
            "text/plain": [
              "(-1.959963984540054, 1.959963984540054)"
            ]
          },
          "execution_count": 93,
          "metadata": {},
          "output_type": "execute_result"
        }
      ],
      "source": [
        "t1 = stats.norm.ppf(alpha / 2)\n",
        "t2 = stats.norm.ppf(1 - alpha / 2)\n",
        "t1, t2"
      ]
    },
    {
      "cell_type": "markdown",
      "id": "ffaed799",
      "metadata": {
        "id": "ffaed799"
      },
      "source": [
        "Доверительный интервал (conf):"
      ]
    },
    {
      "cell_type": "code",
      "execution_count": null,
      "id": "dede4652",
      "metadata": {
        "id": "dede4652",
        "outputId": "860e3545-f7e1-4b61-dc15-df0a5fb40d1b"
      },
      "outputs": [
        {
          "data": {
            "text/plain": [
              "(170.22222422220577, 178.1777757777942)"
            ]
          },
          "execution_count": 94,
          "metadata": {},
          "output_type": "execute_result"
        }
      ],
      "source": [
        "conf = (mean + t1 * std / np.sqrt(n), mean + t2 * std / np.sqrt(n))\n",
        "conf"
      ]
    },
    {
      "cell_type": "markdown",
      "id": "34a19f58",
      "metadata": {
        "id": "34a19f58"
      },
      "source": [
        "Ответ: доверительный интервал составляет от 170.222 до 178.178."
      ]
    },
    {
      "cell_type": "markdown",
      "id": "7689a052",
      "metadata": {
        "id": "7689a052"
      },
      "source": [
        "### Задача 4"
      ]
    },
    {
      "cell_type": "markdown",
      "id": "47b12c18",
      "metadata": {
        "id": "47b12c18"
      },
      "source": [
        "__Постановка задачи__"
      ]
    },
    {
      "cell_type": "markdown",
      "id": "f45e2c86",
      "metadata": {
        "id": "f45e2c86"
      },
      "source": [
        "Выберите тему для проектной работы по курсу Теории вероятностей и математической статистики\n",
        "и напишите ее в комментарии к Практическому заданию."
      ]
    },
    {
      "cell_type": "markdown",
      "id": "83975059",
      "metadata": {
        "id": "83975059"
      },
      "source": [
        "__Решение__"
      ]
    },
    {
      "cell_type": "markdown",
      "id": "a4784ce3",
      "metadata": {
        "id": "a4784ce3"
      },
      "source": [
        "Тема проектной работы: Exploratory Data Analysis (EDA) на примере задачи \"Titanic - Machine Learning from Disaster\" платформы kaggle (https://www.kaggle.com)\"."
      ]
    },
    {
      "cell_type": "code",
      "execution_count": null,
      "id": "3399a637",
      "metadata": {
        "id": "3399a637"
      },
      "outputs": [],
      "source": [
        ""
      ]
    }
  ],
  "metadata": {
    "kernelspec": {
      "display_name": "Python 3 (ipykernel)",
      "language": "python",
      "name": "python3"
    },
    "language_info": {
      "codemirror_mode": {
        "name": "ipython",
        "version": 3
      },
      "file_extension": ".py",
      "mimetype": "text/x-python",
      "name": "python",
      "nbconvert_exporter": "python",
      "pygments_lexer": "ipython3",
      "version": "3.9.7"
    },
    "colab": {
      "name": "lesson_6.ipynb",
      "provenance": [],
      "include_colab_link": true
    }
  },
  "nbformat": 4,
  "nbformat_minor": 5
}