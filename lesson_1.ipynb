{
  "cells": [
    {
      "cell_type": "markdown",
      "metadata": {
        "id": "view-in-github",
        "colab_type": "text"
      },
      "source": [
        "<a href=\"https://colab.research.google.com/github/alexDx12/gb_statistics/blob/lesson_1/lesson_1.ipynb\" target=\"_parent\"><img src=\"https://colab.research.google.com/assets/colab-badge.svg\" alt=\"Open In Colab\"/></a>"
      ]
    },
    {
      "cell_type": "markdown",
      "id": "b33ba221",
      "metadata": {
        "id": "b33ba221"
      },
      "source": [
        "## Основные задачи"
      ]
    },
    {
      "cell_type": "markdown",
      "id": "6cde6859",
      "metadata": {
        "id": "6cde6859"
      },
      "source": [
        "### Задача 1"
      ]
    },
    {
      "cell_type": "markdown",
      "id": "dccb01b5",
      "metadata": {
        "id": "dccb01b5"
      },
      "source": [
        "#### Постановка задачи"
      ]
    },
    {
      "cell_type": "markdown",
      "id": "0c4d5486",
      "metadata": {
        "id": "0c4d5486"
      },
      "source": [
        "Имеется колода в 52 карты. Найти число возможностей вытянуть из неё 4 карты так, чтобы среди них был хотя бы один туз."
      ]
    },
    {
      "cell_type": "markdown",
      "id": "d12da3bf",
      "metadata": {
        "id": "d12da3bf"
      },
      "source": [
        "#### Решение"
      ]
    },
    {
      "cell_type": "markdown",
      "id": "a75c8e2b",
      "metadata": {
        "id": "a75c8e2b"
      },
      "source": [
        "Импорт библиотек и скриптов:"
      ]
    },
    {
      "cell_type": "code",
      "execution_count": null,
      "id": "4968a484",
      "metadata": {
        "id": "4968a484"
      },
      "outputs": [],
      "source": [
        "import numpy as np"
      ]
    },
    {
      "cell_type": "markdown",
      "id": "d406dcde",
      "metadata": {
        "id": "d406dcde"
      },
      "source": [
        "Разделим колоду на 2 части - в первую часть отложим четыре туза, а во вторую - оставшиеся карты. После этого определим общее количество сочетаний для каждого случая количества выбранных тузов."
      ]
    },
    {
      "cell_type": "markdown",
      "id": "8316cb48",
      "metadata": {
        "id": "8316cb48"
      },
      "source": [
        "Массив сочетаний карт из первой части колоды (4 карты):"
      ]
    },
    {
      "cell_type": "code",
      "execution_count": null,
      "id": "b289bf8e",
      "metadata": {
        "id": "b289bf8e",
        "outputId": "9fefcc80-9294-4b82-f994-33ec5fb73c85"
      },
      "outputs": [
        {
          "data": {
            "text/plain": [
              "array([4, 6, 4, 1])"
            ]
          },
          "execution_count": 14,
          "metadata": {},
          "output_type": "execute_result"
        }
      ],
      "source": [
        "C1 = np.array([np.math.factorial(4) // (np.math.factorial(k1) * np.math.factorial(4 - k1)) for k1 in range(1, 5)])\n",
        "C1"
      ]
    },
    {
      "cell_type": "markdown",
      "id": "f6d57003",
      "metadata": {
        "id": "f6d57003"
      },
      "source": [
        "Массив сочетаний карт из второй части колоды (48 карт):"
      ]
    },
    {
      "cell_type": "code",
      "execution_count": null,
      "id": "056e682f",
      "metadata": {
        "id": "056e682f",
        "outputId": "6eced4e9-3c3b-49fd-e1af-f7f52ea23fe4"
      },
      "outputs": [
        {
          "data": {
            "text/plain": [
              "array([17296,  1128,    48,     1])"
            ]
          },
          "execution_count": 15,
          "metadata": {},
          "output_type": "execute_result"
        }
      ],
      "source": [
        "C2 = np.array([np.math.factorial(48) // (np.math.factorial(4 - k2) * np.math.factorial(48 - (4 - k2))) for k2 in range(1, 5)])\n",
        "C2"
      ]
    },
    {
      "cell_type": "markdown",
      "id": "36f15671",
      "metadata": {
        "id": "36f15671"
      },
      "source": [
        "Массив сочетаний карт из обоих частей колоды:"
      ]
    },
    {
      "cell_type": "code",
      "execution_count": null,
      "id": "b53eb5d3",
      "metadata": {
        "id": "b53eb5d3",
        "outputId": "ba9047d1-4add-41c0-bd15-8307d446eee3"
      },
      "outputs": [
        {
          "data": {
            "text/plain": [
              "array([69184,  6768,   192,     1])"
            ]
          },
          "execution_count": 16,
          "metadata": {},
          "output_type": "execute_result"
        }
      ],
      "source": [
        "C = C1 * C2\n",
        "C"
      ]
    },
    {
      "cell_type": "markdown",
      "id": "15a76b9d",
      "metadata": {
        "id": "15a76b9d"
      },
      "source": [
        "Общее количество всех сочетаний карт:"
      ]
    },
    {
      "cell_type": "code",
      "execution_count": null,
      "id": "9b5be700",
      "metadata": {
        "id": "9b5be700",
        "outputId": "438718b8-5b2e-46a5-95eb-a83cdbd92137"
      },
      "outputs": [
        {
          "data": {
            "text/plain": [
              "76145"
            ]
          },
          "execution_count": 17,
          "metadata": {},
          "output_type": "execute_result"
        }
      ],
      "source": [
        "sum(C)"
      ]
    },
    {
      "cell_type": "markdown",
      "id": "c1e607aa",
      "metadata": {
        "id": "c1e607aa"
      },
      "source": [
        "Ответ: существует 76145 возможностей вытянуть из колоды 4 карты так, чтобы среди них был хотя бы один туз."
      ]
    },
    {
      "cell_type": "markdown",
      "id": "0c732f7d",
      "metadata": {
        "id": "0c732f7d"
      },
      "source": [
        "### Задачи 2 и 3"
      ]
    },
    {
      "cell_type": "markdown",
      "id": "808770c1",
      "metadata": {
        "id": "808770c1"
      },
      "source": [
        "#### Постановка задач"
      ]
    },
    {
      "cell_type": "markdown",
      "id": "30b33b2c",
      "metadata": {
        "id": "30b33b2c"
      },
      "source": [
        "Из 60 вопросов, входящих в экзаменационные билеты, студент знает 50. Случайным образом студент вытягивает 3 вопроса. Какова вероятность, что все выбранные вопросы знакомы студенту? Какова вероятность что два из трёх вопросов знакомы студенту?"
      ]
    },
    {
      "cell_type": "markdown",
      "id": "1d3cf2de",
      "metadata": {
        "id": "1d3cf2de"
      },
      "source": [
        "#### Решение"
      ]
    },
    {
      "cell_type": "markdown",
      "id": "8b7f398b",
      "metadata": {
        "id": "8b7f398b"
      },
      "source": [
        "Импорт библиотек и скриптов:"
      ]
    },
    {
      "cell_type": "code",
      "execution_count": null,
      "id": "ca47c7c7",
      "metadata": {
        "id": "ca47c7c7"
      },
      "outputs": [],
      "source": [
        "import numpy as np"
      ]
    },
    {
      "cell_type": "markdown",
      "id": "b62de458",
      "metadata": {
        "id": "b62de458"
      },
      "source": [
        "Общее количество исходов при вытягивании трёх вопросов из шестидесяти:"
      ]
    },
    {
      "cell_type": "code",
      "execution_count": null,
      "id": "341bf906",
      "metadata": {
        "id": "341bf906",
        "outputId": "dd4c15c8-8a28-4744-e541-9844026fef4c"
      },
      "outputs": [
        {
          "data": {
            "text/plain": [
              "34220"
            ]
          },
          "execution_count": 19,
          "metadata": {},
          "output_type": "execute_result"
        }
      ],
      "source": [
        "n1 = np.math.factorial(60) // (np.math.factorial(3) * np.math.factorial(60 - 3))\n",
        "n1"
      ]
    },
    {
      "cell_type": "markdown",
      "id": "e4d336f7",
      "metadata": {
        "id": "e4d336f7"
      },
      "source": [
        "Количество исходов при вытягивании трёх знакомых студенту вопросов из пятидесяти: "
      ]
    },
    {
      "cell_type": "code",
      "execution_count": null,
      "id": "4a568419",
      "metadata": {
        "id": "4a568419",
        "outputId": "2ac4702e-154f-428f-8785-ddbc3f8c91d2"
      },
      "outputs": [
        {
          "data": {
            "text/plain": [
              "19600"
            ]
          },
          "execution_count": 20,
          "metadata": {},
          "output_type": "execute_result"
        }
      ],
      "source": [
        "n2 = np.math.factorial(50) // (np.math.factorial(3) * np.math.factorial(50 - 3))\n",
        "n2"
      ]
    },
    {
      "cell_type": "markdown",
      "id": "bdee721d",
      "metadata": {
        "id": "bdee721d"
      },
      "source": [
        "Вероятность вытягивания трёх знакомых студенту вопросов из шестидесяти:"
      ]
    },
    {
      "cell_type": "code",
      "execution_count": null,
      "id": "25a1089c",
      "metadata": {
        "id": "25a1089c",
        "outputId": "2b0df997-d7a3-4c59-99ed-f9a98168dca3"
      },
      "outputs": [
        {
          "data": {
            "text/plain": [
              "0.5727644652250146"
            ]
          },
          "execution_count": 21,
          "metadata": {},
          "output_type": "execute_result"
        }
      ],
      "source": [
        "p1 = n2 / n1\n",
        "p1"
      ]
    },
    {
      "cell_type": "code",
      "execution_count": null,
      "id": "4d4e9009",
      "metadata": {
        "id": "4d4e9009",
        "outputId": "23142530-f1dd-4455-baaf-7704e6faeadd"
      },
      "outputs": [
        {
          "data": {
            "text/plain": [
              "0.57"
            ]
          },
          "execution_count": 22,
          "metadata": {},
          "output_type": "execute_result"
        }
      ],
      "source": [
        "round(p1, 2)"
      ]
    },
    {
      "cell_type": "markdown",
      "id": "24dd2e7c",
      "metadata": {
        "id": "24dd2e7c"
      },
      "source": [
        "Количество исходов при вытягивании двух знакомых студенту вопросов:"
      ]
    },
    {
      "cell_type": "code",
      "execution_count": null,
      "id": "9b89154c",
      "metadata": {
        "id": "9b89154c",
        "outputId": "91550698-fbe7-4fe3-d5af-99cd557b5317"
      },
      "outputs": [
        {
          "data": {
            "text/plain": [
              "1225"
            ]
          },
          "execution_count": 23,
          "metadata": {},
          "output_type": "execute_result"
        }
      ],
      "source": [
        "n3 = np.math.factorial(50) // (np.math.factorial(2) * np.math.factorial(50 - 2))\n",
        "n3"
      ]
    },
    {
      "cell_type": "markdown",
      "id": "25a1faf0",
      "metadata": {
        "id": "25a1faf0"
      },
      "source": [
        "Количество исходов при вытягивании одного не знакомого студенту вопроса:"
      ]
    },
    {
      "cell_type": "code",
      "execution_count": null,
      "id": "a2f7c951",
      "metadata": {
        "id": "a2f7c951",
        "outputId": "0faa2649-1ee0-46af-db16-06c436a8b0a4"
      },
      "outputs": [
        {
          "data": {
            "text/plain": [
              "10"
            ]
          },
          "execution_count": 24,
          "metadata": {},
          "output_type": "execute_result"
        }
      ],
      "source": [
        "n4 = np.math.factorial(10) // (np.math.factorial(1) * np.math.factorial(10 - 1))\n",
        "n4"
      ]
    },
    {
      "cell_type": "markdown",
      "id": "d3b328c8",
      "metadata": {
        "id": "d3b328c8"
      },
      "source": [
        "Количество исходов при одновременном вытягивании двух знакомых и одного не знакомого студенту вопроса:"
      ]
    },
    {
      "cell_type": "code",
      "execution_count": null,
      "id": "feb7c682",
      "metadata": {
        "id": "feb7c682",
        "outputId": "6294e5bd-4285-4e72-bd8a-809e6f71a623"
      },
      "outputs": [
        {
          "data": {
            "text/plain": [
              "12250"
            ]
          },
          "execution_count": 25,
          "metadata": {},
          "output_type": "execute_result"
        }
      ],
      "source": [
        "n5 = n3 * n4\n",
        "n5"
      ]
    },
    {
      "cell_type": "markdown",
      "id": "588c2c2b",
      "metadata": {
        "id": "588c2c2b"
      },
      "source": [
        "Вероятность вытягивания двух знакомых и одного не знакомого студенту вопроса:"
      ]
    },
    {
      "cell_type": "code",
      "execution_count": null,
      "id": "a6c59e3f",
      "metadata": {
        "id": "a6c59e3f",
        "outputId": "e309a673-b8c1-4440-f3c6-cc903adc8050"
      },
      "outputs": [
        {
          "data": {
            "text/plain": [
              "0.35797779076563413"
            ]
          },
          "execution_count": 26,
          "metadata": {},
          "output_type": "execute_result"
        }
      ],
      "source": [
        "p2 = n5 / n1\n",
        "p2"
      ]
    },
    {
      "cell_type": "code",
      "execution_count": null,
      "id": "0d95d486",
      "metadata": {
        "id": "0d95d486",
        "outputId": "23c34196-3ff5-491e-be94-e05554e25c83"
      },
      "outputs": [
        {
          "data": {
            "text/plain": [
              "0.36"
            ]
          },
          "execution_count": 27,
          "metadata": {},
          "output_type": "execute_result"
        }
      ],
      "source": [
        "round(p2, 2)"
      ]
    },
    {
      "cell_type": "markdown",
      "id": "2efb2565",
      "metadata": {
        "id": "2efb2565"
      },
      "source": [
        "Ответ: вероятность того, что все выбранные вопросы знакомы студенту равяется 0.57, вероятность того, что два из трёх вопросов знакомы студенту равняется 0.36."
      ]
    },
    {
      "cell_type": "markdown",
      "id": "8b23055a",
      "metadata": {
        "id": "8b23055a"
      },
      "source": [
        "### Задача 4"
      ]
    },
    {
      "cell_type": "markdown",
      "id": "955f09db",
      "metadata": {
        "id": "955f09db"
      },
      "source": [
        "#### Постановка задачи"
      ]
    },
    {
      "cell_type": "markdown",
      "id": "dd9880b2",
      "metadata": {
        "id": "dd9880b2"
      },
      "source": [
        "Допустим, имеется некоторая очень редкая болезнь (поражает 0.1% населения). Вы приходите к врачу, вам делают тест на эту болезнь, и тест оказывается положительным. Врач говорит вам, что этот тест верно выявляет 99% больных этой болезнью и всего лишь в 1% случаев даёт ложный положительный ответ."
      ]
    },
    {
      "cell_type": "markdown",
      "id": "d3565521",
      "metadata": {
        "id": "d3565521"
      },
      "source": [
        "Вопрос: какова вероятность, что вы действительно больны ей?"
      ]
    },
    {
      "cell_type": "markdown",
      "id": "881c07fd",
      "metadata": {
        "id": "881c07fd"
      },
      "source": [
        "Подсказка: используйте формулу Байеса с раскрытием знаменателя с помощью формулы полной вероятности."
      ]
    },
    {
      "cell_type": "markdown",
      "id": "942f28e3",
      "metadata": {
        "id": "942f28e3"
      },
      "source": [
        "#### Решение"
      ]
    },
    {
      "cell_type": "markdown",
      "id": "d0a13b07",
      "metadata": {
        "id": "d0a13b07"
      },
      "source": [
        "Определим следующие события. Событие $A$ — вы больны этой болезнью, событие $B$ — для вас тест на эту болезнь оказался положительным.\n",
        "В этом случае нам нужно найти вероятность $P(A | B)$ (поскольку вы уже знаете, что тест дал положительный результат). По формуле Байеса:\n",
        "$$P(A|B) = \\frac{P(B \\cap A)}{P(B)} = \\frac{P(B | A) \\cdot P(A)}{P(B)}$$\n",
        "\n",
        "Также раскроем знаменатель по формуле полной вероятности следующим образом:\n",
        "$$P(B) = P(B | A) \\cdot P(A) + P \\left( B | \\overline{A} \\right) \\cdot P \\left( \\overline{A} \\right)$$"
      ]
    },
    {
      "cell_type": "code",
      "execution_count": null,
      "id": "7f34ac2c",
      "metadata": {
        "id": "7f34ac2c",
        "outputId": "2b830922-7f00-438a-b0ef-0248454d88fe"
      },
      "outputs": [
        {
          "data": {
            "text/plain": [
              "0.01098"
            ]
          },
          "execution_count": 28,
          "metadata": {},
          "output_type": "execute_result"
        }
      ],
      "source": [
        "P_b = 0.001 * 0.99 + 0.999 * 0.01\n",
        "P_b"
      ]
    },
    {
      "cell_type": "code",
      "execution_count": null,
      "id": "0e8c3257",
      "metadata": {
        "id": "0e8c3257",
        "outputId": "ccea9d8d-2f06-4f3f-cc45-a96273a1a028"
      },
      "outputs": [
        {
          "data": {
            "text/plain": [
              "0.09"
            ]
          },
          "execution_count": 29,
          "metadata": {},
          "output_type": "execute_result"
        }
      ],
      "source": [
        "P_a_b = (0.001 * 0.99) / (0.99 * 0.001 + 0.01 * 0.999)\n",
        "round(P_a_b, 2)"
      ]
    },
    {
      "cell_type": "markdown",
      "id": "14181aab",
      "metadata": {
        "id": "14181aab"
      },
      "source": [
        "Ответ: вероятность болезни составляет 0.09."
      ]
    },
    {
      "cell_type": "markdown",
      "id": "5403057a",
      "metadata": {
        "id": "5403057a"
      },
      "source": [
        "## Дополнительные задачи"
      ]
    },
    {
      "cell_type": "markdown",
      "id": "6ec7c849",
      "metadata": {
        "id": "6ec7c849"
      },
      "source": [
        "### Задача 1"
      ]
    },
    {
      "cell_type": "markdown",
      "id": "bedc1828",
      "metadata": {
        "id": "bedc1828"
      },
      "source": [
        "#### Постановка задачи"
      ]
    },
    {
      "cell_type": "markdown",
      "id": "80dfe886",
      "metadata": {
        "id": "80dfe886"
      },
      "source": [
        "Подбрасываются три игральных кубика. Оцените вероятность того, что сумма значений этих кубиков не будет превышать 6.\n",
        "\n",
        "_Подсказка_: оценкой вероятности может служить, например, относительная частота при большом числе опытов. Попробуйте реализовать наибольшее число опытов, которое позволяют ваш компьютер и/или ваше терпение.\n",
        "\n",
        "_Замечание_: вообще в этом курсе мы не используем такие численные методы оценки вероятностей, и в будущем мы не будем их применять. Но тут сделаем исключение один раз."
      ]
    },
    {
      "cell_type": "markdown",
      "id": "ce8c97fb",
      "metadata": {
        "id": "ce8c97fb"
      },
      "source": [
        "#### Решение"
      ]
    },
    {
      "cell_type": "code",
      "execution_count": null,
      "id": "d3e2e576",
      "metadata": {
        "id": "d3e2e576"
      },
      "outputs": [],
      "source": [
        "import random"
      ]
    },
    {
      "cell_type": "markdown",
      "id": "e50cf946",
      "metadata": {
        "id": "e50cf946"
      },
      "source": [
        "Найдём количесто реализаций, при которых сумма значений кубиков не превысит 6 (m) при подбрасывании их определённое количество раз (n). Ограничение количества подбрасываний задаим с помощью переменной limit."
      ]
    },
    {
      "cell_type": "code",
      "execution_count": null,
      "id": "161bf3df",
      "metadata": {
        "id": "161bf3df"
      },
      "outputs": [],
      "source": [
        "limit = 10000000\n",
        "m = 0\n",
        "n = 0\n",
        "while n < limit:\n",
        "    dice_1 = random.randint(1, 6)\n",
        "    dice_2 = random.randint(1, 6)\n",
        "    dice_3 = random.randint(1, 6)\n",
        "    dice_sum = dice_1 + dice_2 + dice_3\n",
        "    if dice_sum <= 6:\n",
        "        m += 1\n",
        "    n += 1"
      ]
    },
    {
      "cell_type": "markdown",
      "id": "f5a63d41",
      "metadata": {
        "id": "f5a63d41"
      },
      "source": [
        "Количесто реализаций, при которых сумма значений кубиков не превысит 6:"
      ]
    },
    {
      "cell_type": "code",
      "execution_count": null,
      "id": "be9b6f7e",
      "metadata": {
        "id": "be9b6f7e",
        "outputId": "ab9d96a9-b99d-445f-c163-499d4b8b41b6"
      },
      "outputs": [
        {
          "data": {
            "text/plain": [
              "925238"
            ]
          },
          "execution_count": 32,
          "metadata": {},
          "output_type": "execute_result"
        }
      ],
      "source": [
        "m"
      ]
    },
    {
      "cell_type": "markdown",
      "id": "f8a3781c",
      "metadata": {
        "id": "f8a3781c"
      },
      "source": [
        "Количество подбрасываний кубиков:"
      ]
    },
    {
      "cell_type": "code",
      "execution_count": null,
      "id": "7a8eda11",
      "metadata": {
        "id": "7a8eda11",
        "outputId": "a2d6ec65-5fd5-40b2-d5cf-aa7dee229639"
      },
      "outputs": [
        {
          "data": {
            "text/plain": [
              "10000000"
            ]
          },
          "execution_count": 33,
          "metadata": {},
          "output_type": "execute_result"
        }
      ],
      "source": [
        "n"
      ]
    },
    {
      "cell_type": "markdown",
      "id": "b02acfbf",
      "metadata": {
        "id": "b02acfbf"
      },
      "source": [
        "Искомая веротность:"
      ]
    },
    {
      "cell_type": "code",
      "execution_count": null,
      "id": "dea6634b",
      "metadata": {
        "id": "dea6634b",
        "outputId": "54218131-4805-4f24-cfc5-84a2dfb702d6"
      },
      "outputs": [
        {
          "data": {
            "text/plain": [
              "0.0925"
            ]
          },
          "execution_count": 34,
          "metadata": {},
          "output_type": "execute_result"
        }
      ],
      "source": [
        "P = m/n\n",
        "round(P, 4)"
      ]
    },
    {
      "cell_type": "markdown",
      "id": "8c89b00d",
      "metadata": {
        "id": "8c89b00d"
      },
      "source": [
        "Ответ: вероятность того, что сумма значений этих кубиков не будет превышать 6 составляет: 0,0927."
      ]
    },
    {
      "cell_type": "markdown",
      "id": "567d1a69",
      "metadata": {
        "id": "567d1a69"
      },
      "source": [
        "### Задача 2"
      ]
    },
    {
      "cell_type": "markdown",
      "id": "127e94cd",
      "metadata": {
        "id": "127e94cd"
      },
      "source": [
        "#### Постановка задачи"
      ]
    },
    {
      "cell_type": "markdown",
      "id": "afb77f95",
      "metadata": {
        "id": "afb77f95"
      },
      "source": [
        "Бросается игральная кость. Пусть событие `A` - появление чётного числа, событие `B` - появление числа больше трёх. Являются ли эти события независимыми? Почему?"
      ]
    },
    {
      "cell_type": "markdown",
      "id": "41875fa0",
      "metadata": {
        "id": "41875fa0"
      },
      "source": [
        "#### Решение"
      ]
    },
    {
      "cell_type": "markdown",
      "id": "179917a4",
      "metadata": {
        "id": "179917a4"
      },
      "source": [
        "Вероятность события A при условии наступления события B (выпадение чётных чисел 4 и 6 срдеи чисел больше трёх - 4, 5 и 6):"
      ]
    },
    {
      "cell_type": "code",
      "execution_count": null,
      "id": "d062fe80",
      "metadata": {
        "id": "d062fe80",
        "outputId": "8744ab3a-e77e-49e1-babf-8b76fbf5c5d8"
      },
      "outputs": [
        {
          "data": {
            "text/plain": [
              "0.6666666666666666"
            ]
          },
          "execution_count": 35,
          "metadata": {},
          "output_type": "execute_result"
        }
      ],
      "source": [
        "2 / 3"
      ]
    },
    {
      "cell_type": "markdown",
      "id": "66a94903",
      "metadata": {
        "id": "66a94903"
      },
      "source": [
        "Вероятность события A (выпадение чётных чисел 2, 4 и 6 из остальных - 1, 2, 3, 4, 5 и 6):"
      ]
    },
    {
      "cell_type": "code",
      "execution_count": null,
      "id": "2b47920c",
      "metadata": {
        "id": "2b47920c",
        "outputId": "45a1105e-b844-4e6d-8e30-f0dbfefbf71c"
      },
      "outputs": [
        {
          "data": {
            "text/plain": [
              "0.5"
            ]
          },
          "execution_count": 36,
          "metadata": {},
          "output_type": "execute_result"
        }
      ],
      "source": [
        "3 / 6"
      ]
    },
    {
      "cell_type": "markdown",
      "id": "846967a7",
      "metadata": {
        "id": "846967a7"
      },
      "source": [
        "По определению события $A$ и $B$ являются независимыми, если $P(A|B) = P(A)$. Поскольку в рассмотренном случае $P(A|B) \\neq P(A)$, то события A и B являются зависимыми."
      ]
    },
    {
      "cell_type": "markdown",
      "id": "b725d056",
      "metadata": {
        "id": "b725d056"
      },
      "source": [
        "Ответ: события A и B являются зависимыми, т.к. $P(A|B) = P(A)$."
      ]
    }
  ],
  "metadata": {
    "kernelspec": {
      "display_name": "Python 3 (ipykernel)",
      "language": "python",
      "name": "python3"
    },
    "language_info": {
      "codemirror_mode": {
        "name": "ipython",
        "version": 3
      },
      "file_extension": ".py",
      "mimetype": "text/x-python",
      "name": "python",
      "nbconvert_exporter": "python",
      "pygments_lexer": "ipython3",
      "version": "3.8.8"
    },
    "colab": {
      "name": "lesson_1.ipynb",
      "provenance": [],
      "include_colab_link": true
    }
  },
  "nbformat": 4,
  "nbformat_minor": 5
}