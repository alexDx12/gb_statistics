{
  "cells": [
    {
      "cell_type": "markdown",
      "metadata": {
        "id": "view-in-github",
        "colab_type": "text"
      },
      "source": [
        "<a href=\"https://colab.research.google.com/github/alexDx12/gb_statistics/blob/lesson_4/lesson_4.ipynb\" target=\"_parent\"><img src=\"https://colab.research.google.com/assets/colab-badge.svg\" alt=\"Open In Colab\"/></a>"
      ]
    },
    {
      "cell_type": "markdown",
      "id": "af221011",
      "metadata": {
        "id": "af221011"
      },
      "source": [
        "# Теория вероятностей и математическая статистика\n",
        "\n",
        "## Урок 4\n",
        "\n",
        "## Непрерывные случайные величины. Функция распределения и функция плотности. Нормальное распределение. Центральная предельная теорема\n",
        "\n",
        "### Домашнее задание"
      ]
    },
    {
      "cell_type": "markdown",
      "id": "da8eb933",
      "metadata": {
        "id": "da8eb933"
      },
      "source": [
        "### Задача 1"
      ]
    },
    {
      "cell_type": "markdown",
      "id": "314f9779",
      "metadata": {
        "id": "314f9779"
      },
      "source": [
        "__Постановка задачи__"
      ]
    },
    {
      "cell_type": "markdown",
      "id": "9136888a",
      "metadata": {
        "id": "9136888a"
      },
      "source": [
        "Случайная непрерывная величина A имеет равномерное распределение на промежутке (200, 800].\n",
        "Найдите ее среднее значение и дисперсию."
      ]
    },
    {
      "cell_type": "markdown",
      "id": "3d834db7",
      "metadata": {
        "id": "3d834db7"
      },
      "source": [
        "__Решение__"
      ]
    },
    {
      "cell_type": "markdown",
      "id": "dd0b6edc",
      "metadata": {
        "id": "dd0b6edc"
      },
      "source": [
        "Левая (a) и правая (b) границы промежутка величины A исходя из постановки задачи:"
      ]
    },
    {
      "cell_type": "code",
      "execution_count": null,
      "id": "365f08c9",
      "metadata": {
        "id": "365f08c9"
      },
      "outputs": [],
      "source": [
        "a = 200\n",
        "b = 800"
      ]
    },
    {
      "cell_type": "markdown",
      "id": "a041adf6",
      "metadata": {
        "id": "a041adf6"
      },
      "source": [
        "Среднее значение величины A исходя из свойств равномерного распределения (mean):"
      ]
    },
    {
      "cell_type": "code",
      "execution_count": null,
      "id": "3917ab68",
      "metadata": {
        "id": "3917ab68",
        "outputId": "e5eb02a3-7fff-425e-8dc9-29ef295f8101"
      },
      "outputs": [
        {
          "data": {
            "text/plain": [
              "500.0"
            ]
          },
          "execution_count": 31,
          "metadata": {},
          "output_type": "execute_result"
        }
      ],
      "source": [
        "mean = (a + b) / 2\n",
        "mean"
      ]
    },
    {
      "cell_type": "markdown",
      "id": "fdac27be",
      "metadata": {
        "id": "fdac27be"
      },
      "source": [
        "Дисперсия величины A исходя из свойств равномерного распределения (var):"
      ]
    },
    {
      "cell_type": "code",
      "execution_count": null,
      "id": "c1a9998c",
      "metadata": {
        "id": "c1a9998c",
        "outputId": "775c330a-0a13-49bd-c0af-9408c4bd048e"
      },
      "outputs": [
        {
          "data": {
            "text/plain": [
              "30000.0"
            ]
          },
          "execution_count": 32,
          "metadata": {},
          "output_type": "execute_result"
        }
      ],
      "source": [
        "var = (b - a) ** 2 / 12\n",
        "var"
      ]
    },
    {
      "cell_type": "markdown",
      "id": "81c409f0",
      "metadata": {
        "id": "81c409f0"
      },
      "source": [
        "Ответ: среднее значение величины A равно 500, её дисперсия равна 30000."
      ]
    },
    {
      "cell_type": "markdown",
      "id": "25c6397b",
      "metadata": {
        "id": "25c6397b"
      },
      "source": [
        "### Задача 2"
      ]
    },
    {
      "cell_type": "markdown",
      "id": "5dc3a2e3",
      "metadata": {
        "id": "5dc3a2e3"
      },
      "source": [
        "__Постановка задачи__"
      ]
    },
    {
      "cell_type": "markdown",
      "id": "c2bf69e3",
      "metadata": {
        "id": "c2bf69e3"
      },
      "source": [
        "О случайной непрерывной равномерно распределенной величине B известно, что ее дисперсия равна 0.2.\n",
        "Можно ли найти правую границу величины B и ее среднее значение зная, что левая граница равна 0.5?\n",
        "Если да, найдите ее."
      ]
    },
    {
      "cell_type": "markdown",
      "id": "6b58bea3",
      "metadata": {
        "id": "6b58bea3"
      },
      "source": [
        "__Решение__"
      ]
    },
    {
      "cell_type": "markdown",
      "id": "fd562d79",
      "metadata": {
        "id": "fd562d79"
      },
      "source": [
        "Дисперсия (var) и левая граница (a) непрерывной величины B исходя из постановки задачи:"
      ]
    },
    {
      "cell_type": "code",
      "execution_count": null,
      "id": "b59c6ef6",
      "metadata": {
        "id": "b59c6ef6"
      },
      "outputs": [],
      "source": [
        "var = 0.2\n",
        "a = 0.5"
      ]
    },
    {
      "cell_type": "markdown",
      "id": "269dbe52",
      "metadata": {
        "id": "269dbe52"
      },
      "source": [
        "Правая граница (b) при этом не известна исходя из постановки задачи."
      ]
    },
    {
      "cell_type": "markdown",
      "id": "cd6e5dbf",
      "metadata": {
        "id": "cd6e5dbf"
      },
      "source": [
        "Исходя из свойств непрерывной равномерно распределённой величины, её дисперсия (var) вычисляется в соотвествии со следующей формулой:\n",
        "\n",
        "$$var=\\dfrac{(b-a)^2}{12}$$\n",
        "\n",
        "Запишем данную формулу относительно правой границы (b):\n",
        "$$b=\\sqrt{12 \\cdot var} + a$$"
      ]
    },
    {
      "cell_type": "markdown",
      "id": "0e14f0a0",
      "metadata": {
        "id": "0e14f0a0"
      },
      "source": [
        "Правая граница (b):"
      ]
    },
    {
      "cell_type": "code",
      "execution_count": null,
      "id": "d05da640",
      "metadata": {
        "id": "d05da640",
        "outputId": "38b8db7c-64b8-4d66-cbb1-63592120774d"
      },
      "outputs": [
        {
          "data": {
            "text/plain": [
              "2.049193338482967"
            ]
          },
          "execution_count": 34,
          "metadata": {},
          "output_type": "execute_result"
        }
      ],
      "source": [
        "b = (12 * var) ** 0.5 + a\n",
        "b"
      ]
    },
    {
      "cell_type": "markdown",
      "id": "0b79b51f",
      "metadata": {
        "id": "0b79b51f"
      },
      "source": [
        "Исходя из свойств непрерывной равномерно распределённой величины, её среднее (mean) вычисляется в соотвествии со следующей формулой:\n",
        "\n",
        "$$mean=\\dfrac{a + b}{2}$$"
      ]
    },
    {
      "cell_type": "markdown",
      "id": "c0eccf1b",
      "metadata": {
        "id": "c0eccf1b"
      },
      "source": [
        "Среднее (mean):"
      ]
    },
    {
      "cell_type": "code",
      "execution_count": null,
      "id": "16f8ef27",
      "metadata": {
        "id": "16f8ef27",
        "outputId": "75924ab2-70ca-487e-b7d8-4b9eeaaaf876"
      },
      "outputs": [
        {
          "data": {
            "text/plain": [
              "1.2745966692414834"
            ]
          },
          "execution_count": 35,
          "metadata": {},
          "output_type": "execute_result"
        }
      ],
      "source": [
        "mean = (a + b) / 2\n",
        "mean"
      ]
    },
    {
      "cell_type": "markdown",
      "id": "7e2e63e1",
      "metadata": {
        "id": "7e2e63e1"
      },
      "source": [
        "Ответ: правая граница величины B равна 2.049, её среднее равно 1.275."
      ]
    },
    {
      "cell_type": "markdown",
      "id": "9269052a",
      "metadata": {
        "id": "9269052a"
      },
      "source": [
        "### Задача 3"
      ]
    },
    {
      "cell_type": "markdown",
      "id": "06ace9aa",
      "metadata": {
        "id": "06ace9aa"
      },
      "source": [
        "__Постановка задачи__"
      ]
    },
    {
      "cell_type": "markdown",
      "id": "62164b30",
      "metadata": {
        "id": "62164b30"
      },
      "source": [
        "Непрерывная случайная величина X распределена нормально и задана плотностью распределения\n",
        "f(x) = (1 / (4 * sqrt(2*pi))) * (exp(-(x+2)**2) / 32).\n",
        "Найдите:\n",
        "а). M(X)\n",
        "б). D(X)\n",
        "в). std(X) (среднее квадратичное отклонение)."
      ]
    },
    {
      "cell_type": "markdown",
      "id": "27181895",
      "metadata": {
        "id": "27181895"
      },
      "source": [
        "__Решение__"
      ]
    },
    {
      "cell_type": "markdown",
      "id": "c2fd562e",
      "metadata": {
        "id": "c2fd562e"
      },
      "source": [
        "Плотность распределения непрерывной случайной величины с нормальным распределением оперелеется по формуле:\n",
        "$$f(x) = \\dfrac{1}{\\sqrt{2 \\pi \\sigma^2}} \\cdot \\exp \\left(- \\frac{(x - \\mu)^2}{2 \\sigma^2} \\right)$$\n",
        "\n",
        "Параметры $\\mu$ и $\\sigma$ задают, соответственно, математическое ожидание и среднее квадратическое отклонение случайной величины:\n",
        "$$M(X) = \\mu, \\:\\: D(X) = \\sigma^2$$\n",
        "В результате сопоставления данной формулы с формулой, заданной в постановке задачи, получены следующие результаты:\n",
        "M(X) = -2\n",
        "D(X) = 16\n",
        "std(X) = 4."
      ]
    },
    {
      "cell_type": "markdown",
      "id": "638dd18c",
      "metadata": {
        "id": "638dd18c"
      },
      "source": [
        "Ответ: M(X) = -2, D(X) = 16, std(X) = 4."
      ]
    },
    {
      "cell_type": "markdown",
      "id": "d210d405",
      "metadata": {
        "id": "d210d405"
      },
      "source": [
        "### Задача 4"
      ]
    },
    {
      "cell_type": "markdown",
      "id": "ba87ae60",
      "metadata": {
        "id": "ba87ae60"
      },
      "source": [
        "__Постановка задачи__"
      ]
    },
    {
      "cell_type": "markdown",
      "id": "97ecfe72",
      "metadata": {
        "id": "97ecfe72"
      },
      "source": [
        "Рост взрослого населения города X имеет нормальное распределение.\n",
        "Причем, средний рост равен 174 см, а среднее квадратичное отклонение равно 8 см.\n",
        "Какова вероятность того, что случайным образом выбранный взрослый человек имеет рост:\n",
        "а). больше 182 см\n",
        "б). больше 190 см\n",
        "в). от 166 см до 190 см\n",
        "г). от 166 см до 182 см\n",
        "д). от 158 см до 190 см\n",
        "е). не выше 150 см или не ниже 190 см\n",
        "ё). не выше 150 см или не ниже 198 см\n",
        "ж). ниже 166 см."
      ]
    },
    {
      "cell_type": "markdown",
      "id": "2c334ebb",
      "metadata": {
        "id": "2c334ebb"
      },
      "source": [
        "__Решение__"
      ]
    },
    {
      "cell_type": "markdown",
      "id": "39d60119",
      "metadata": {
        "id": "39d60119"
      },
      "source": [
        "Импорт библиотек и скриптов:"
      ]
    },
    {
      "cell_type": "code",
      "execution_count": null,
      "id": "393dbc1e",
      "metadata": {
        "id": "393dbc1e"
      },
      "outputs": [],
      "source": [
        "from scipy import stats"
      ]
    },
    {
      "cell_type": "markdown",
      "id": "abcc9ff9",
      "metadata": {
        "id": "abcc9ff9"
      },
      "source": [
        "Среднее (mean) и среднее квадратичное отклонение (std) исходя из постановки задачи:"
      ]
    },
    {
      "cell_type": "code",
      "execution_count": null,
      "id": "d84cbbee",
      "metadata": {
        "id": "d84cbbee"
      },
      "outputs": [],
      "source": [
        "mean = 174\n",
        "std = 8"
      ]
    },
    {
      "cell_type": "markdown",
      "id": "58f8dc70",
      "metadata": {
        "id": "58f8dc70"
      },
      "source": [
        "Объект функций нормального распределения (norm):"
      ]
    },
    {
      "cell_type": "code",
      "execution_count": null,
      "id": "8bb74647",
      "metadata": {
        "id": "8bb74647"
      },
      "outputs": [],
      "source": [
        "norm = stats.norm(mean, std)"
      ]
    },
    {
      "cell_type": "markdown",
      "id": "daf0bc04",
      "metadata": {
        "id": "daf0bc04"
      },
      "source": [
        "Вопрос a:"
      ]
    },
    {
      "cell_type": "code",
      "execution_count": null,
      "id": "224a280c",
      "metadata": {
        "id": "224a280c",
        "outputId": "f27e9bf8-1b34-4ccd-dbbb-b80c3ffa315c"
      },
      "outputs": [
        {
          "data": {
            "text/plain": [
              "0.15865525393145707"
            ]
          },
          "execution_count": 42,
          "metadata": {},
          "output_type": "execute_result"
        }
      ],
      "source": [
        "p = 1 - norm.cdf(182)\n",
        "p"
      ]
    },
    {
      "cell_type": "markdown",
      "id": "c478390e",
      "metadata": {
        "id": "c478390e"
      },
      "source": [
        "Вопрос б:"
      ]
    },
    {
      "cell_type": "code",
      "execution_count": null,
      "id": "9b109f35",
      "metadata": {
        "id": "9b109f35",
        "outputId": "43a48c1d-99a0-438f-b659-92e57b863fe1"
      },
      "outputs": [
        {
          "data": {
            "text/plain": [
              "0.02275013194817921"
            ]
          },
          "execution_count": 45,
          "metadata": {},
          "output_type": "execute_result"
        }
      ],
      "source": [
        "p = 1 - norm.cdf(190)\n",
        "p"
      ]
    },
    {
      "cell_type": "markdown",
      "id": "4010395e",
      "metadata": {
        "id": "4010395e"
      },
      "source": [
        "Вопрос в:"
      ]
    },
    {
      "cell_type": "code",
      "execution_count": null,
      "id": "60d1710b",
      "metadata": {
        "id": "60d1710b",
        "outputId": "552c8c37-6f6d-47aa-d62c-5d81d9063479"
      },
      "outputs": [
        {
          "data": {
            "text/plain": [
              "0.8185946141203637"
            ]
          },
          "execution_count": 47,
          "metadata": {},
          "output_type": "execute_result"
        }
      ],
      "source": [
        "p = norm.cdf(190) - norm.cdf(166)\n",
        "p"
      ]
    },
    {
      "cell_type": "markdown",
      "id": "45e6f5ba",
      "metadata": {
        "id": "45e6f5ba"
      },
      "source": [
        "Вопрос г:"
      ]
    },
    {
      "cell_type": "code",
      "execution_count": null,
      "id": "ddfd4a48",
      "metadata": {
        "id": "ddfd4a48",
        "outputId": "72e88498-4575-49a6-e875-3f4ecd2e6e26"
      },
      "outputs": [
        {
          "data": {
            "text/plain": [
              "0.6826894921370859"
            ]
          },
          "execution_count": 48,
          "metadata": {},
          "output_type": "execute_result"
        }
      ],
      "source": [
        "p = norm.cdf(182) - norm.cdf(166)\n",
        "p"
      ]
    },
    {
      "cell_type": "markdown",
      "id": "cb9e483b",
      "metadata": {
        "id": "cb9e483b"
      },
      "source": [
        "Вопрос д:"
      ]
    },
    {
      "cell_type": "code",
      "execution_count": null,
      "id": "c8bb0044",
      "metadata": {
        "id": "c8bb0044",
        "outputId": "ef898b56-a017-4f5a-9f2a-74321cd0c03e"
      },
      "outputs": [
        {
          "data": {
            "text/plain": [
              "0.9544997361036416"
            ]
          },
          "execution_count": 49,
          "metadata": {},
          "output_type": "execute_result"
        }
      ],
      "source": [
        "p = norm.cdf(190) - norm.cdf(158)\n",
        "p"
      ]
    },
    {
      "cell_type": "markdown",
      "id": "29d20770",
      "metadata": {
        "id": "29d20770"
      },
      "source": [
        "Вопрос е:"
      ]
    },
    {
      "cell_type": "code",
      "execution_count": null,
      "id": "66478497",
      "metadata": {
        "id": "66478497",
        "outputId": "66c335b4-5216-4486-d868-4e5a30bc45e1"
      },
      "outputs": [
        {
          "data": {
            "text/plain": [
              "0.0241000299798092"
            ]
          },
          "execution_count": 50,
          "metadata": {},
          "output_type": "execute_result"
        }
      ],
      "source": [
        "p = norm.cdf(150) + 1 - norm.cdf(190)\n",
        "p"
      ]
    },
    {
      "cell_type": "markdown",
      "id": "ff12cf6c",
      "metadata": {
        "id": "ff12cf6c"
      },
      "source": [
        "Вопрос ё:"
      ]
    },
    {
      "cell_type": "code",
      "execution_count": null,
      "id": "38990a0e",
      "metadata": {
        "id": "38990a0e",
        "outputId": "f9c8bd3f-2958-4077-9fe5-fa1c99bd8a9d"
      },
      "outputs": [
        {
          "data": {
            "text/plain": [
              "0.002699796063260096"
            ]
          },
          "execution_count": 51,
          "metadata": {},
          "output_type": "execute_result"
        }
      ],
      "source": [
        "p = norm.cdf(150) + 1 - norm.cdf(198)\n",
        "p"
      ]
    },
    {
      "cell_type": "markdown",
      "id": "9ff606d5",
      "metadata": {
        "id": "9ff606d5"
      },
      "source": [
        "Вопрос ж:"
      ]
    },
    {
      "cell_type": "code",
      "execution_count": null,
      "id": "523f8821",
      "metadata": {
        "id": "523f8821",
        "outputId": "e75a4d10-b78d-466a-ce8a-45f792bd85d9"
      },
      "outputs": [
        {
          "data": {
            "text/plain": [
              "0.15865525393145707"
            ]
          },
          "execution_count": 52,
          "metadata": {},
          "output_type": "execute_result"
        }
      ],
      "source": [
        "p = norm.cdf(166)\n",
        "p"
      ]
    },
    {
      "cell_type": "markdown",
      "id": "8f2d2f5f",
      "metadata": {
        "id": "8f2d2f5f"
      },
      "source": [
        "Ответ: а) 0.15866; б) 0.02275; в) 0.81859; г) 0.68269; д) 0.95450; е) 0.02410; ё) 0.00270; ж) 0.15866."
      ]
    },
    {
      "cell_type": "markdown",
      "id": "c387aa9e",
      "metadata": {
        "id": "c387aa9e"
      },
      "source": [
        "### Задача 5"
      ]
    },
    {
      "cell_type": "markdown",
      "id": "a595c09f",
      "metadata": {
        "id": "a595c09f"
      },
      "source": [
        "__Постановка задачи__"
      ]
    },
    {
      "cell_type": "markdown",
      "id": "04fc9721",
      "metadata": {
        "id": "04fc9721"
      },
      "source": [
        "На сколько сигм (средних квадратичных отклонений) отклоняется рост человека, равный 190 см, от\n",
        "математического ожидания роста в популяции, в которой M(X) = 178 см и D(X) = 25 кв.см?"
      ]
    },
    {
      "cell_type": "markdown",
      "id": "98bb1886",
      "metadata": {
        "id": "98bb1886"
      },
      "source": [
        "__Решение__"
      ]
    },
    {
      "cell_type": "markdown",
      "id": "873fc8ec",
      "metadata": {
        "id": "873fc8ec"
      },
      "source": [
        "Дисперсия (var) исходя из постановки задачи:"
      ]
    },
    {
      "cell_type": "code",
      "execution_count": null,
      "id": "56de6e40",
      "metadata": {
        "id": "56de6e40"
      },
      "outputs": [],
      "source": [
        "var = 25"
      ]
    },
    {
      "cell_type": "markdown",
      "id": "a97c482c",
      "metadata": {
        "id": "a97c482c"
      },
      "source": [
        "Среднее квадратичное отклонение (sigma):"
      ]
    },
    {
      "cell_type": "code",
      "execution_count": null,
      "id": "dc972677",
      "metadata": {
        "id": "dc972677",
        "outputId": "f4b1a34f-3d85-4547-c4f5-5f61ae6af933"
      },
      "outputs": [
        {
          "data": {
            "text/plain": [
              "5.0"
            ]
          },
          "execution_count": 55,
          "metadata": {},
          "output_type": "execute_result"
        }
      ],
      "source": [
        "sigma = var ** 0.5\n",
        "sigma"
      ]
    },
    {
      "cell_type": "markdown",
      "id": "92242fc8",
      "metadata": {
        "id": "92242fc8"
      },
      "source": [
        "Относительное отклонение роста человека от математического ожидания (delta) в сигмах:"
      ]
    },
    {
      "cell_type": "code",
      "execution_count": null,
      "id": "7249a068",
      "metadata": {
        "id": "7249a068",
        "outputId": "5016aff6-8804-4edd-f99a-e8592e0e9800"
      },
      "outputs": [
        {
          "data": {
            "text/plain": [
              "2.4"
            ]
          },
          "execution_count": 56,
          "metadata": {},
          "output_type": "execute_result"
        }
      ],
      "source": [
        "delta = (190 - 178) / sigma\n",
        "delta"
      ]
    },
    {
      "cell_type": "markdown",
      "id": "3bbadb94",
      "metadata": {
        "id": "3bbadb94"
      },
      "source": [
        "Ответ: 2.4 сигмы."
      ]
    },
    {
      "cell_type": "code",
      "execution_count": null,
      "id": "d3e054e9",
      "metadata": {
        "id": "d3e054e9"
      },
      "outputs": [],
      "source": [
        ""
      ]
    }
  ],
  "metadata": {
    "kernelspec": {
      "display_name": "Python 3 (ipykernel)",
      "language": "python",
      "name": "python3"
    },
    "language_info": {
      "codemirror_mode": {
        "name": "ipython",
        "version": 3
      },
      "file_extension": ".py",
      "mimetype": "text/x-python",
      "name": "python",
      "nbconvert_exporter": "python",
      "pygments_lexer": "ipython3",
      "version": "3.8.8"
    },
    "colab": {
      "name": "lesson_4.ipynb",
      "provenance": [],
      "include_colab_link": true
    }
  },
  "nbformat": 4,
  "nbformat_minor": 5
}