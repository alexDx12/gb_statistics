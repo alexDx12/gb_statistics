{
  "cells": [
    {
      "cell_type": "markdown",
      "metadata": {
        "id": "view-in-github",
        "colab_type": "text"
      },
      "source": [
        "<a href=\"https://colab.research.google.com/github/alexDx12/gb_statistics/blob/lesson_8/lesson_8.ipynb\" target=\"_parent\"><img src=\"https://colab.research.google.com/assets/colab-badge.svg\" alt=\"Open In Colab\"/></a>"
      ]
    },
    {
      "cell_type": "markdown",
      "id": "ce370788",
      "metadata": {
        "id": "ce370788"
      },
      "source": [
        "# Теория вероятностей и математическая статистика\n",
        "\n",
        "## Урок 7\n",
        "\n",
        "## Дисперсионный анализ. Метод главных компонент. Логистическая регрессия\n",
        "\n",
        "### Домашнее задание"
      ]
    },
    {
      "cell_type": "markdown",
      "id": "e3f0a7c8",
      "metadata": {
        "id": "e3f0a7c8"
      },
      "source": [
        "### Задача 1"
      ]
    },
    {
      "cell_type": "markdown",
      "id": "c4acf5c0",
      "metadata": {
        "id": "c4acf5c0"
      },
      "source": [
        "__Постановка задачи__"
      ]
    },
    {
      "cell_type": "markdown",
      "id": "458813a2",
      "metadata": {
        "id": "458813a2"
      },
      "source": [
        "Используя данные о хоккеистах, проверьте, является ли среди хоккеистов из Финляндии, Норвегии и Дании значимым отличие: а) роста, б) BMI."
      ]
    },
    {
      "cell_type": "markdown",
      "id": "7507c3ff",
      "metadata": {
        "id": "7507c3ff"
      },
      "source": [
        "__Решение__"
      ]
    },
    {
      "cell_type": "markdown",
      "id": "375936cb",
      "metadata": {
        "id": "375936cb"
      },
      "source": [
        "Импорт библиотек и скриптов:"
      ]
    },
    {
      "cell_type": "code",
      "execution_count": null,
      "id": "c62bfee4",
      "metadata": {
        "id": "c62bfee4"
      },
      "outputs": [],
      "source": [
        "import numpy as np\n",
        "import pandas as pd\n",
        "from scipy import stats\n",
        "from matplotlib import pyplot as plt"
      ]
    },
    {
      "cell_type": "markdown",
      "id": "5b1ac266",
      "metadata": {
        "id": "5b1ac266"
      },
      "source": [
        "Настройки:"
      ]
    },
    {
      "cell_type": "code",
      "execution_count": null,
      "id": "5400ce73",
      "metadata": {
        "id": "5400ce73"
      },
      "outputs": [],
      "source": [
        "plt.style.use('seaborn-whitegrid')\n",
        "%config InlineBackend.figure_formats = ['svg']"
      ]
    },
    {
      "cell_type": "markdown",
      "id": "df4b5e7b",
      "metadata": {
        "id": "df4b5e7b"
      },
      "source": [
        "Создание вспомогательных структур:"
      ]
    },
    {
      "cell_type": "code",
      "execution_count": null,
      "id": "083b65c9",
      "metadata": {
        "id": "083b65c9"
      },
      "outputs": [],
      "source": [
        "def anova(*ys: np.ndarray) -> float:\n",
        "    \"\"\"Функция возвращает значение F-статистики\n",
        "    для дисперсионного анализа.\n",
        "    \"\"\"\n",
        "    \n",
        "    y = np.concatenate(ys)\n",
        "\n",
        "    ss_b = sum((yi.mean() - y.mean()) ** 2 * yi.size for yi in ys)\n",
        "    ss_w = sum(((yi - yi.mean()) ** 2).sum() for yi in ys)\n",
        "    \n",
        "    sigma_b = ss_b / (len(ys) - 1)\n",
        "    sigma_w = ss_w / (y.size - len(ys))\n",
        "    \n",
        "    return sigma_b / sigma_w"
      ]
    },
    {
      "cell_type": "markdown",
      "id": "5e657b9c",
      "metadata": {
        "id": "5e657b9c"
      },
      "source": [
        "Загрузка и первичный обзор датасета:"
      ]
    },
    {
      "cell_type": "code",
      "execution_count": null,
      "id": "3043f541",
      "metadata": {
        "id": "3043f541",
        "outputId": "c11ce686-465a-4216-fba8-0b97771dd295"
      },
      "outputs": [
        {
          "data": {
            "text/html": [
              "<div>\n",
              "<style scoped>\n",
              "    .dataframe tbody tr th:only-of-type {\n",
              "        vertical-align: middle;\n",
              "    }\n",
              "\n",
              "    .dataframe tbody tr th {\n",
              "        vertical-align: top;\n",
              "    }\n",
              "\n",
              "    .dataframe thead th {\n",
              "        text-align: right;\n",
              "    }\n",
              "</style>\n",
              "<table border=\"1\" class=\"dataframe\">\n",
              "  <thead>\n",
              "    <tr style=\"text-align: right;\">\n",
              "      <th></th>\n",
              "      <th>year</th>\n",
              "      <th>country</th>\n",
              "      <th>no</th>\n",
              "      <th>name</th>\n",
              "      <th>position</th>\n",
              "      <th>side</th>\n",
              "      <th>height</th>\n",
              "      <th>weight</th>\n",
              "      <th>birth</th>\n",
              "      <th>club</th>\n",
              "      <th>age</th>\n",
              "      <th>cohort</th>\n",
              "      <th>bmi</th>\n",
              "    </tr>\n",
              "  </thead>\n",
              "  <tbody>\n",
              "    <tr>\n",
              "      <th>0</th>\n",
              "      <td>2001</td>\n",
              "      <td>RUS</td>\n",
              "      <td>10</td>\n",
              "      <td>tverdovsky oleg</td>\n",
              "      <td>D</td>\n",
              "      <td>L</td>\n",
              "      <td>185</td>\n",
              "      <td>84.0</td>\n",
              "      <td>1976-05-18</td>\n",
              "      <td>anaheim mighty ducks</td>\n",
              "      <td>24.952772</td>\n",
              "      <td>1976</td>\n",
              "      <td>24.543462</td>\n",
              "    </tr>\n",
              "    <tr>\n",
              "      <th>1</th>\n",
              "      <td>2001</td>\n",
              "      <td>RUS</td>\n",
              "      <td>2</td>\n",
              "      <td>vichnevsky vitali</td>\n",
              "      <td>D</td>\n",
              "      <td>L</td>\n",
              "      <td>188</td>\n",
              "      <td>86.0</td>\n",
              "      <td>1980-03-18</td>\n",
              "      <td>anaheim mighty ducks</td>\n",
              "      <td>21.119781</td>\n",
              "      <td>1980</td>\n",
              "      <td>24.332277</td>\n",
              "    </tr>\n",
              "  </tbody>\n",
              "</table>\n",
              "</div>"
            ],
            "text/plain": [
              "   year country  no                name position side  height  weight  \\\n",
              "0  2001     RUS  10    tverdovsky oleg         D    L     185    84.0   \n",
              "1  2001     RUS   2  vichnevsky vitali         D    L     188    86.0   \n",
              "\n",
              "        birth                   club        age  cohort        bmi  \n",
              "0  1976-05-18  anaheim mighty ducks   24.952772    1976  24.543462  \n",
              "1  1980-03-18  anaheim mighty ducks   21.119781    1980  24.332277  "
            ]
          },
          "execution_count": 4,
          "metadata": {},
          "output_type": "execute_result"
        }
      ],
      "source": [
        "df = pd.read_csv('./hockey_players.csv', encoding = 'ISO-8859-1')\n",
        "df.head(2)"
      ]
    },
    {
      "cell_type": "code",
      "execution_count": null,
      "id": "816cf7e5",
      "metadata": {
        "id": "816cf7e5",
        "outputId": "24e4cca9-90b0-4864-8b6b-bca3493c7502"
      },
      "outputs": [
        {
          "data": {
            "text/plain": [
              "array(['RUS', 'AUT', 'BLR', 'CAN', 'CZE', 'FIN', 'GER', 'ITA', 'JPN',\n",
              "       'LAT', 'NOR', 'SUI', 'SVK', 'SWE', 'UKR', 'USA', 'POL', 'SLO',\n",
              "       'DEN', 'FRA', 'KAZ', 'HUN'], dtype=object)"
            ]
          },
          "execution_count": 5,
          "metadata": {},
          "output_type": "execute_result"
        }
      ],
      "source": [
        "df['country'].unique()"
      ]
    },
    {
      "cell_type": "markdown",
      "id": "547bd628",
      "metadata": {
        "id": "547bd628"
      },
      "source": [
        "Список наименований целевых стран (countries):"
      ]
    },
    {
      "cell_type": "code",
      "execution_count": null,
      "id": "de33801d",
      "metadata": {
        "id": "de33801d"
      },
      "outputs": [],
      "source": [
        "countries = ['FIN', 'NOR', 'DEN']"
      ]
    },
    {
      "cell_type": "markdown",
      "id": "a873b68e",
      "metadata": {
        "id": "a873b68e"
      },
      "source": [
        "Выборки роста хоккеистов целевых стран (ys):"
      ]
    },
    {
      "cell_type": "code",
      "execution_count": null,
      "id": "6dd5ebb4",
      "metadata": {
        "id": "6dd5ebb4",
        "outputId": "f8f2ebe6-8ba8-4d96-b9c1-aac5d5997a62"
      },
      "outputs": [
        {
          "data": {
            "text/plain": [
              "[120     184\n",
              " 121     178\n",
              " 122     178\n",
              " 123     185\n",
              " 124     192\n",
              "        ... \n",
              " 6038    189\n",
              " 6039    192\n",
              " 6040    179\n",
              " 6041    200\n",
              " 6042    187\n",
              " Name: height, Length: 396, dtype: int64,\n",
              " 237     179\n",
              " 238     178\n",
              " 239     183\n",
              " 240     179\n",
              " 241     183\n",
              "        ... \n",
              " 6188    179\n",
              " 6189    186\n",
              " 6190    185\n",
              " 6191    190\n",
              " 6192    180\n",
              " Name: height, Length: 290, dtype: int64,\n",
              " 878     184\n",
              " 879     192\n",
              " 880     184\n",
              " 881     188\n",
              " 882     180\n",
              "        ... \n",
              " 6013    185\n",
              " 6014    180\n",
              " 6015    188\n",
              " 6016    186\n",
              " 6017    176\n",
              " Name: height, Length: 340, dtype: int64]"
            ]
          },
          "execution_count": 7,
          "metadata": {},
          "output_type": "execute_result"
        }
      ],
      "source": [
        "ys = [df.loc[df['country'] == country, 'height'] for country in countries]\n",
        "ys"
      ]
    },
    {
      "cell_type": "markdown",
      "id": "b2419081",
      "metadata": {
        "id": "b2419081"
      },
      "source": [
        "Статистика роста хоккеистов целевых стран (F):"
      ]
    },
    {
      "cell_type": "code",
      "execution_count": null,
      "id": "fdf8b543",
      "metadata": {
        "id": "fdf8b543",
        "outputId": "103cbd59-412c-493a-e28d-92270ae5b011"
      },
      "outputs": [
        {
          "data": {
            "text/plain": [
              "4.273207343917213"
            ]
          },
          "execution_count": 8,
          "metadata": {},
          "output_type": "execute_result"
        }
      ],
      "source": [
        "F = anova(*ys)\n",
        "F"
      ]
    },
    {
      "cell_type": "markdown",
      "id": "ee52abd6",
      "metadata": {
        "id": "ee52abd6"
      },
      "source": [
        "Параметры для определения оценок дисперсий (k1, k2):"
      ]
    },
    {
      "cell_type": "code",
      "execution_count": null,
      "id": "5c45e5d1",
      "metadata": {
        "id": "5c45e5d1",
        "outputId": "66af04cd-9ac0-44b9-ade1-9856dae925ce"
      },
      "outputs": [
        {
          "data": {
            "text/plain": [
              "(2, 1023)"
            ]
          },
          "execution_count": 9,
          "metadata": {},
          "output_type": "execute_result"
        }
      ],
      "source": [
        "k = len(countries)\n",
        "n = sum(y.size for y in ys)\n",
        "k1 = k - 1\n",
        "k2 = n - k\n",
        "k1, k2"
      ]
    },
    {
      "cell_type": "markdown",
      "id": "edbc12b9",
      "metadata": {
        "id": "edbc12b9"
      },
      "source": [
        "Квантиль распределения Фишера (t):"
      ]
    },
    {
      "cell_type": "code",
      "execution_count": null,
      "id": "84fb4b6f",
      "metadata": {
        "id": "84fb4b6f",
        "outputId": "a2d72a7c-63f1-459f-ed14-ec19b499b456"
      },
      "outputs": [
        {
          "data": {
            "text/plain": [
              "3.0045220661840073"
            ]
          },
          "execution_count": 10,
          "metadata": {},
          "output_type": "execute_result"
        }
      ],
      "source": [
        "alpha = 0.05\n",
        "t = stats.f.ppf(1 - alpha, k1, k2)\n",
        "t"
      ]
    },
    {
      "cell_type": "markdown",
      "id": "5228ba3f",
      "metadata": {
        "id": "5228ba3f"
      },
      "source": [
        "Визуализация критической области:"
      ]
    },
    {
      "cell_type": "code",
      "execution_count": null,
      "id": "d309e941",
      "metadata": {
        "id": "d309e941",
        "outputId": "a729eb33-4233-4245-e9f8-75cea0b3c4a5"
      },
      "outputs": [
        {
          "data": {
            "text/plain": [
              "<matplotlib.collections.PolyCollection at 0x1cf91952100>"
            ]
          },
          "execution_count": 11,
          "metadata": {},
          "output_type": "execute_result"
        },
        {
          "data": {
            "image/svg+xml": [
              "<?xml version=\"1.0\" encoding=\"utf-8\" standalone=\"no\"?>\r\n",
              "<!DOCTYPE svg PUBLIC \"-//W3C//DTD SVG 1.1//EN\"\r\n",
              "  \"http://www.w3.org/Graphics/SVG/1.1/DTD/svg11.dtd\">\r\n",
              "<svg height=\"244.485312pt\" version=\"1.1\" viewBox=\"0 0 366.6 244.485312\" width=\"366.6pt\" xmlns=\"http://www.w3.org/2000/svg\" xmlns:xlink=\"http://www.w3.org/1999/xlink\">\r\n",
              " <metadata>\r\n",
              "  <rdf:RDF xmlns:cc=\"http://creativecommons.org/ns#\" xmlns:dc=\"http://purl.org/dc/elements/1.1/\" xmlns:rdf=\"http://www.w3.org/1999/02/22-rdf-syntax-ns#\">\r\n",
              "   <cc:Work>\r\n",
              "    <dc:type rdf:resource=\"http://purl.org/dc/dcmitype/StillImage\"/>\r\n",
              "    <dc:date>2022-02-23T15:19:11.350581</dc:date>\r\n",
              "    <dc:format>image/svg+xml</dc:format>\r\n",
              "    <dc:creator>\r\n",
              "     <cc:Agent>\r\n",
              "      <dc:title>Matplotlib v3.4.3, https://matplotlib.org/</dc:title>\r\n",
              "     </cc:Agent>\r\n",
              "    </dc:creator>\r\n",
              "   </cc:Work>\r\n",
              "  </rdf:RDF>\r\n",
              " </metadata>\r\n",
              " <defs>\r\n",
              "  <style type=\"text/css\">*{stroke-linecap:butt;stroke-linejoin:round;}</style>\r\n",
              " </defs>\r\n",
              " <g id=\"figure_1\">\r\n",
              "  <g id=\"patch_1\">\r\n",
              "   <path d=\"M 0 244.485312 \r\n",
              "L 366.6 244.485312 \r\n",
              "L 366.6 0 \r\n",
              "L 0 0 \r\n",
              "z\r\n",
              "\" style=\"fill:#ffffff;\"/>\r\n",
              "  </g>\r\n",
              "  <g id=\"axes_1\">\r\n",
              "   <g id=\"patch_2\">\r\n",
              "    <path d=\"M 24.6 224.64 \r\n",
              "L 359.4 224.64 \r\n",
              "L 359.4 7.2 \r\n",
              "L 24.6 7.2 \r\n",
              "z\r\n",
              "\" style=\"fill:#ffffff;\"/>\r\n",
              "   </g>\r\n",
              "   <g id=\"matplotlib.axis_1\">\r\n",
              "    <g id=\"xtick_1\">\r\n",
              "     <g id=\"line2d_1\">\r\n",
              "      <path clip-path=\"url(#p2bfcbcd4da)\" d=\"M 39.818182 224.64 \r\n",
              "L 39.818182 7.2 \r\n",
              "\" style=\"fill:none;stroke:#cccccc;stroke-linecap:round;stroke-width:0.8;\"/>\r\n",
              "     </g>\r\n",
              "     <g id=\"line2d_2\"/>\r\n",
              "     <g id=\"text_1\">\r\n",
              "      <!-- 0 -->\r\n",
              "      <g style=\"fill:#262626;\" transform=\"translate(37.037713 235.297812)scale(0.1 -0.1)\">\r\n",
              "       <defs>\r\n",
              "        <path d=\"M 266 2259 \r\n",
              "Q 266 3072 433 3567 \r\n",
              "Q 600 4063 929 4331 \r\n",
              "Q 1259 4600 1759 4600 \r\n",
              "Q 2128 4600 2406 4451 \r\n",
              "Q 2684 4303 2865 4023 \r\n",
              "Q 3047 3744 3150 3342 \r\n",
              "Q 3253 2941 3253 2259 \r\n",
              "Q 3253 1453 3087 958 \r\n",
              "Q 2922 463 2592 192 \r\n",
              "Q 2263 -78 1759 -78 \r\n",
              "Q 1097 -78 719 397 \r\n",
              "Q 266 969 266 2259 \r\n",
              "z\r\n",
              "M 844 2259 \r\n",
              "Q 844 1131 1108 757 \r\n",
              "Q 1372 384 1759 384 \r\n",
              "Q 2147 384 2411 759 \r\n",
              "Q 2675 1134 2675 2259 \r\n",
              "Q 2675 3391 2411 3762 \r\n",
              "Q 2147 4134 1753 4134 \r\n",
              "Q 1366 4134 1134 3806 \r\n",
              "Q 844 3388 844 2259 \r\n",
              "z\r\n",
              "\" id=\"ArialMT-30\" transform=\"scale(0.015625)\"/>\r\n",
              "       </defs>\r\n",
              "       <use xlink:href=\"#ArialMT-30\"/>\r\n",
              "      </g>\r\n",
              "     </g>\r\n",
              "    </g>\r\n",
              "    <g id=\"xtick_2\">\r\n",
              "     <g id=\"line2d_3\">\r\n",
              "      <path clip-path=\"url(#p2bfcbcd4da)\" d=\"M 100.690909 224.64 \r\n",
              "L 100.690909 7.2 \r\n",
              "\" style=\"fill:none;stroke:#cccccc;stroke-linecap:round;stroke-width:0.8;\"/>\r\n",
              "     </g>\r\n",
              "     <g id=\"line2d_4\"/>\r\n",
              "     <g id=\"text_2\">\r\n",
              "      <!-- 1 -->\r\n",
              "      <g style=\"fill:#262626;\" transform=\"translate(97.91044 235.297812)scale(0.1 -0.1)\">\r\n",
              "       <defs>\r\n",
              "        <path d=\"M 2384 0 \r\n",
              "L 1822 0 \r\n",
              "L 1822 3584 \r\n",
              "Q 1619 3391 1289 3197 \r\n",
              "Q 959 3003 697 2906 \r\n",
              "L 697 3450 \r\n",
              "Q 1169 3672 1522 3987 \r\n",
              "Q 1875 4303 2022 4600 \r\n",
              "L 2384 4600 \r\n",
              "L 2384 0 \r\n",
              "z\r\n",
              "\" id=\"ArialMT-31\" transform=\"scale(0.015625)\"/>\r\n",
              "       </defs>\r\n",
              "       <use xlink:href=\"#ArialMT-31\"/>\r\n",
              "      </g>\r\n",
              "     </g>\r\n",
              "    </g>\r\n",
              "    <g id=\"xtick_3\">\r\n",
              "     <g id=\"line2d_5\">\r\n",
              "      <path clip-path=\"url(#p2bfcbcd4da)\" d=\"M 161.563636 224.64 \r\n",
              "L 161.563636 7.2 \r\n",
              "\" style=\"fill:none;stroke:#cccccc;stroke-linecap:round;stroke-width:0.8;\"/>\r\n",
              "     </g>\r\n",
              "     <g id=\"line2d_6\"/>\r\n",
              "     <g id=\"text_3\">\r\n",
              "      <!-- 2 -->\r\n",
              "      <g style=\"fill:#262626;\" transform=\"translate(158.783168 235.297812)scale(0.1 -0.1)\">\r\n",
              "       <defs>\r\n",
              "        <path d=\"M 3222 541 \r\n",
              "L 3222 0 \r\n",
              "L 194 0 \r\n",
              "Q 188 203 259 391 \r\n",
              "Q 375 700 629 1000 \r\n",
              "Q 884 1300 1366 1694 \r\n",
              "Q 2113 2306 2375 2664 \r\n",
              "Q 2638 3022 2638 3341 \r\n",
              "Q 2638 3675 2398 3904 \r\n",
              "Q 2159 4134 1775 4134 \r\n",
              "Q 1369 4134 1125 3890 \r\n",
              "Q 881 3647 878 3216 \r\n",
              "L 300 3275 \r\n",
              "Q 359 3922 746 4261 \r\n",
              "Q 1134 4600 1788 4600 \r\n",
              "Q 2447 4600 2831 4234 \r\n",
              "Q 3216 3869 3216 3328 \r\n",
              "Q 3216 3053 3103 2787 \r\n",
              "Q 2991 2522 2730 2228 \r\n",
              "Q 2469 1934 1863 1422 \r\n",
              "Q 1356 997 1212 845 \r\n",
              "Q 1069 694 975 541 \r\n",
              "L 3222 541 \r\n",
              "z\r\n",
              "\" id=\"ArialMT-32\" transform=\"scale(0.015625)\"/>\r\n",
              "       </defs>\r\n",
              "       <use xlink:href=\"#ArialMT-32\"/>\r\n",
              "      </g>\r\n",
              "     </g>\r\n",
              "    </g>\r\n",
              "    <g id=\"xtick_4\">\r\n",
              "     <g id=\"line2d_7\">\r\n",
              "      <path clip-path=\"url(#p2bfcbcd4da)\" d=\"M 222.436364 224.64 \r\n",
              "L 222.436364 7.2 \r\n",
              "\" style=\"fill:none;stroke:#cccccc;stroke-linecap:round;stroke-width:0.8;\"/>\r\n",
              "     </g>\r\n",
              "     <g id=\"line2d_8\"/>\r\n",
              "     <g id=\"text_4\">\r\n",
              "      <!-- 3 -->\r\n",
              "      <g style=\"fill:#262626;\" transform=\"translate(219.655895 235.297812)scale(0.1 -0.1)\">\r\n",
              "       <defs>\r\n",
              "        <path d=\"M 269 1209 \r\n",
              "L 831 1284 \r\n",
              "Q 928 806 1161 595 \r\n",
              "Q 1394 384 1728 384 \r\n",
              "Q 2125 384 2398 659 \r\n",
              "Q 2672 934 2672 1341 \r\n",
              "Q 2672 1728 2419 1979 \r\n",
              "Q 2166 2231 1775 2231 \r\n",
              "Q 1616 2231 1378 2169 \r\n",
              "L 1441 2663 \r\n",
              "Q 1497 2656 1531 2656 \r\n",
              "Q 1891 2656 2178 2843 \r\n",
              "Q 2466 3031 2466 3422 \r\n",
              "Q 2466 3731 2256 3934 \r\n",
              "Q 2047 4138 1716 4138 \r\n",
              "Q 1388 4138 1169 3931 \r\n",
              "Q 950 3725 888 3313 \r\n",
              "L 325 3413 \r\n",
              "Q 428 3978 793 4289 \r\n",
              "Q 1159 4600 1703 4600 \r\n",
              "Q 2078 4600 2393 4439 \r\n",
              "Q 2709 4278 2876 4000 \r\n",
              "Q 3044 3722 3044 3409 \r\n",
              "Q 3044 3113 2884 2869 \r\n",
              "Q 2725 2625 2413 2481 \r\n",
              "Q 2819 2388 3044 2092 \r\n",
              "Q 3269 1797 3269 1353 \r\n",
              "Q 3269 753 2831 336 \r\n",
              "Q 2394 -81 1725 -81 \r\n",
              "Q 1122 -81 723 278 \r\n",
              "Q 325 638 269 1209 \r\n",
              "z\r\n",
              "\" id=\"ArialMT-33\" transform=\"scale(0.015625)\"/>\r\n",
              "       </defs>\r\n",
              "       <use xlink:href=\"#ArialMT-33\"/>\r\n",
              "      </g>\r\n",
              "     </g>\r\n",
              "    </g>\r\n",
              "    <g id=\"xtick_5\">\r\n",
              "     <g id=\"line2d_9\">\r\n",
              "      <path clip-path=\"url(#p2bfcbcd4da)\" d=\"M 283.309091 224.64 \r\n",
              "L 283.309091 7.2 \r\n",
              "\" style=\"fill:none;stroke:#cccccc;stroke-linecap:round;stroke-width:0.8;\"/>\r\n",
              "     </g>\r\n",
              "     <g id=\"line2d_10\"/>\r\n",
              "     <g id=\"text_5\">\r\n",
              "      <!-- 4 -->\r\n",
              "      <g style=\"fill:#262626;\" transform=\"translate(280.528622 235.297812)scale(0.1 -0.1)\">\r\n",
              "       <defs>\r\n",
              "        <path d=\"M 2069 0 \r\n",
              "L 2069 1097 \r\n",
              "L 81 1097 \r\n",
              "L 81 1613 \r\n",
              "L 2172 4581 \r\n",
              "L 2631 4581 \r\n",
              "L 2631 1613 \r\n",
              "L 3250 1613 \r\n",
              "L 3250 1097 \r\n",
              "L 2631 1097 \r\n",
              "L 2631 0 \r\n",
              "L 2069 0 \r\n",
              "z\r\n",
              "M 2069 1613 \r\n",
              "L 2069 3678 \r\n",
              "L 634 1613 \r\n",
              "L 2069 1613 \r\n",
              "z\r\n",
              "\" id=\"ArialMT-34\" transform=\"scale(0.015625)\"/>\r\n",
              "       </defs>\r\n",
              "       <use xlink:href=\"#ArialMT-34\"/>\r\n",
              "      </g>\r\n",
              "     </g>\r\n",
              "    </g>\r\n",
              "    <g id=\"xtick_6\">\r\n",
              "     <g id=\"line2d_11\">\r\n",
              "      <path clip-path=\"url(#p2bfcbcd4da)\" d=\"M 344.181818 224.64 \r\n",
              "L 344.181818 7.2 \r\n",
              "\" style=\"fill:none;stroke:#cccccc;stroke-linecap:round;stroke-width:0.8;\"/>\r\n",
              "     </g>\r\n",
              "     <g id=\"line2d_12\"/>\r\n",
              "     <g id=\"text_6\">\r\n",
              "      <!-- 5 -->\r\n",
              "      <g style=\"fill:#262626;\" transform=\"translate(341.401349 235.297812)scale(0.1 -0.1)\">\r\n",
              "       <defs>\r\n",
              "        <path d=\"M 266 1200 \r\n",
              "L 856 1250 \r\n",
              "Q 922 819 1161 601 \r\n",
              "Q 1400 384 1738 384 \r\n",
              "Q 2144 384 2425 690 \r\n",
              "Q 2706 997 2706 1503 \r\n",
              "Q 2706 1984 2436 2262 \r\n",
              "Q 2166 2541 1728 2541 \r\n",
              "Q 1456 2541 1237 2417 \r\n",
              "Q 1019 2294 894 2097 \r\n",
              "L 366 2166 \r\n",
              "L 809 4519 \r\n",
              "L 3088 4519 \r\n",
              "L 3088 3981 \r\n",
              "L 1259 3981 \r\n",
              "L 1013 2750 \r\n",
              "Q 1425 3038 1878 3038 \r\n",
              "Q 2478 3038 2890 2622 \r\n",
              "Q 3303 2206 3303 1553 \r\n",
              "Q 3303 931 2941 478 \r\n",
              "Q 2500 -78 1738 -78 \r\n",
              "Q 1113 -78 717 272 \r\n",
              "Q 322 622 266 1200 \r\n",
              "z\r\n",
              "\" id=\"ArialMT-35\" transform=\"scale(0.015625)\"/>\r\n",
              "       </defs>\r\n",
              "       <use xlink:href=\"#ArialMT-35\"/>\r\n",
              "      </g>\r\n",
              "     </g>\r\n",
              "    </g>\r\n",
              "   </g>\r\n",
              "   <g id=\"matplotlib.axis_2\">\r\n",
              "    <g id=\"ytick_1\">\r\n",
              "     <g id=\"line2d_13\">\r\n",
              "      <path clip-path=\"url(#p2bfcbcd4da)\" d=\"M 24.6 214.756364 \r\n",
              "L 359.4 214.756364 \r\n",
              "\" style=\"fill:none;stroke:#cccccc;stroke-linecap:round;stroke-width:0.8;\"/>\r\n",
              "     </g>\r\n",
              "     <g id=\"line2d_14\"/>\r\n",
              "     <g id=\"text_7\">\r\n",
              "      <!-- 0.0 -->\r\n",
              "      <g style=\"fill:#262626;\" transform=\"translate(7.2 218.33527)scale(0.1 -0.1)\">\r\n",
              "       <defs>\r\n",
              "        <path d=\"M 581 0 \r\n",
              "L 581 641 \r\n",
              "L 1222 641 \r\n",
              "L 1222 0 \r\n",
              "L 581 0 \r\n",
              "z\r\n",
              "\" id=\"ArialMT-2e\" transform=\"scale(0.015625)\"/>\r\n",
              "       </defs>\r\n",
              "       <use xlink:href=\"#ArialMT-30\"/>\r\n",
              "       <use x=\"55.615234\" xlink:href=\"#ArialMT-2e\"/>\r\n",
              "       <use x=\"83.398438\" xlink:href=\"#ArialMT-30\"/>\r\n",
              "      </g>\r\n",
              "     </g>\r\n",
              "    </g>\r\n",
              "    <g id=\"ytick_2\">\r\n",
              "     <g id=\"line2d_15\">\r\n",
              "      <path clip-path=\"url(#p2bfcbcd4da)\" d=\"M 24.6 175.221818 \r\n",
              "L 359.4 175.221818 \r\n",
              "\" style=\"fill:none;stroke:#cccccc;stroke-linecap:round;stroke-width:0.8;\"/>\r\n",
              "     </g>\r\n",
              "     <g id=\"line2d_16\"/>\r\n",
              "     <g id=\"text_8\">\r\n",
              "      <!-- 0.2 -->\r\n",
              "      <g style=\"fill:#262626;\" transform=\"translate(7.2 178.800724)scale(0.1 -0.1)\">\r\n",
              "       <use xlink:href=\"#ArialMT-30\"/>\r\n",
              "       <use x=\"55.615234\" xlink:href=\"#ArialMT-2e\"/>\r\n",
              "       <use x=\"83.398438\" xlink:href=\"#ArialMT-32\"/>\r\n",
              "      </g>\r\n",
              "     </g>\r\n",
              "    </g>\r\n",
              "    <g id=\"ytick_3\">\r\n",
              "     <g id=\"line2d_17\">\r\n",
              "      <path clip-path=\"url(#p2bfcbcd4da)\" d=\"M 24.6 135.687273 \r\n",
              "L 359.4 135.687273 \r\n",
              "\" style=\"fill:none;stroke:#cccccc;stroke-linecap:round;stroke-width:0.8;\"/>\r\n",
              "     </g>\r\n",
              "     <g id=\"line2d_18\"/>\r\n",
              "     <g id=\"text_9\">\r\n",
              "      <!-- 0.4 -->\r\n",
              "      <g style=\"fill:#262626;\" transform=\"translate(7.2 139.266179)scale(0.1 -0.1)\">\r\n",
              "       <use xlink:href=\"#ArialMT-30\"/>\r\n",
              "       <use x=\"55.615234\" xlink:href=\"#ArialMT-2e\"/>\r\n",
              "       <use x=\"83.398438\" xlink:href=\"#ArialMT-34\"/>\r\n",
              "      </g>\r\n",
              "     </g>\r\n",
              "    </g>\r\n",
              "    <g id=\"ytick_4\">\r\n",
              "     <g id=\"line2d_19\">\r\n",
              "      <path clip-path=\"url(#p2bfcbcd4da)\" d=\"M 24.6 96.152727 \r\n",
              "L 359.4 96.152727 \r\n",
              "\" style=\"fill:none;stroke:#cccccc;stroke-linecap:round;stroke-width:0.8;\"/>\r\n",
              "     </g>\r\n",
              "     <g id=\"line2d_20\"/>\r\n",
              "     <g id=\"text_10\">\r\n",
              "      <!-- 0.6 -->\r\n",
              "      <g style=\"fill:#262626;\" transform=\"translate(7.2 99.731634)scale(0.1 -0.1)\">\r\n",
              "       <defs>\r\n",
              "        <path d=\"M 3184 3459 \r\n",
              "L 2625 3416 \r\n",
              "Q 2550 3747 2413 3897 \r\n",
              "Q 2184 4138 1850 4138 \r\n",
              "Q 1581 4138 1378 3988 \r\n",
              "Q 1113 3794 959 3422 \r\n",
              "Q 806 3050 800 2363 \r\n",
              "Q 1003 2672 1297 2822 \r\n",
              "Q 1591 2972 1913 2972 \r\n",
              "Q 2475 2972 2870 2558 \r\n",
              "Q 3266 2144 3266 1488 \r\n",
              "Q 3266 1056 3080 686 \r\n",
              "Q 2894 316 2569 119 \r\n",
              "Q 2244 -78 1831 -78 \r\n",
              "Q 1128 -78 684 439 \r\n",
              "Q 241 956 241 2144 \r\n",
              "Q 241 3472 731 4075 \r\n",
              "Q 1159 4600 1884 4600 \r\n",
              "Q 2425 4600 2770 4297 \r\n",
              "Q 3116 3994 3184 3459 \r\n",
              "z\r\n",
              "M 888 1484 \r\n",
              "Q 888 1194 1011 928 \r\n",
              "Q 1134 663 1356 523 \r\n",
              "Q 1578 384 1822 384 \r\n",
              "Q 2178 384 2434 671 \r\n",
              "Q 2691 959 2691 1453 \r\n",
              "Q 2691 1928 2437 2201 \r\n",
              "Q 2184 2475 1800 2475 \r\n",
              "Q 1419 2475 1153 2201 \r\n",
              "Q 888 1928 888 1484 \r\n",
              "z\r\n",
              "\" id=\"ArialMT-36\" transform=\"scale(0.015625)\"/>\r\n",
              "       </defs>\r\n",
              "       <use xlink:href=\"#ArialMT-30\"/>\r\n",
              "       <use x=\"55.615234\" xlink:href=\"#ArialMT-2e\"/>\r\n",
              "       <use x=\"83.398438\" xlink:href=\"#ArialMT-36\"/>\r\n",
              "      </g>\r\n",
              "     </g>\r\n",
              "    </g>\r\n",
              "    <g id=\"ytick_5\">\r\n",
              "     <g id=\"line2d_21\">\r\n",
              "      <path clip-path=\"url(#p2bfcbcd4da)\" d=\"M 24.6 56.618182 \r\n",
              "L 359.4 56.618182 \r\n",
              "\" style=\"fill:none;stroke:#cccccc;stroke-linecap:round;stroke-width:0.8;\"/>\r\n",
              "     </g>\r\n",
              "     <g id=\"line2d_22\"/>\r\n",
              "     <g id=\"text_11\">\r\n",
              "      <!-- 0.8 -->\r\n",
              "      <g style=\"fill:#262626;\" transform=\"translate(7.2 60.197088)scale(0.1 -0.1)\">\r\n",
              "       <defs>\r\n",
              "        <path d=\"M 1131 2484 \r\n",
              "Q 781 2613 612 2850 \r\n",
              "Q 444 3088 444 3419 \r\n",
              "Q 444 3919 803 4259 \r\n",
              "Q 1163 4600 1759 4600 \r\n",
              "Q 2359 4600 2725 4251 \r\n",
              "Q 3091 3903 3091 3403 \r\n",
              "Q 3091 3084 2923 2848 \r\n",
              "Q 2756 2613 2416 2484 \r\n",
              "Q 2838 2347 3058 2040 \r\n",
              "Q 3278 1734 3278 1309 \r\n",
              "Q 3278 722 2862 322 \r\n",
              "Q 2447 -78 1769 -78 \r\n",
              "Q 1091 -78 675 323 \r\n",
              "Q 259 725 259 1325 \r\n",
              "Q 259 1772 486 2073 \r\n",
              "Q 713 2375 1131 2484 \r\n",
              "z\r\n",
              "M 1019 3438 \r\n",
              "Q 1019 3113 1228 2906 \r\n",
              "Q 1438 2700 1772 2700 \r\n",
              "Q 2097 2700 2305 2904 \r\n",
              "Q 2513 3109 2513 3406 \r\n",
              "Q 2513 3716 2298 3927 \r\n",
              "Q 2084 4138 1766 4138 \r\n",
              "Q 1444 4138 1231 3931 \r\n",
              "Q 1019 3725 1019 3438 \r\n",
              "z\r\n",
              "M 838 1322 \r\n",
              "Q 838 1081 952 856 \r\n",
              "Q 1066 631 1291 507 \r\n",
              "Q 1516 384 1775 384 \r\n",
              "Q 2178 384 2440 643 \r\n",
              "Q 2703 903 2703 1303 \r\n",
              "Q 2703 1709 2433 1975 \r\n",
              "Q 2163 2241 1756 2241 \r\n",
              "Q 1359 2241 1098 1978 \r\n",
              "Q 838 1716 838 1322 \r\n",
              "z\r\n",
              "\" id=\"ArialMT-38\" transform=\"scale(0.015625)\"/>\r\n",
              "       </defs>\r\n",
              "       <use xlink:href=\"#ArialMT-30\"/>\r\n",
              "       <use x=\"55.615234\" xlink:href=\"#ArialMT-2e\"/>\r\n",
              "       <use x=\"83.398438\" xlink:href=\"#ArialMT-38\"/>\r\n",
              "      </g>\r\n",
              "     </g>\r\n",
              "    </g>\r\n",
              "    <g id=\"ytick_6\">\r\n",
              "     <g id=\"line2d_23\">\r\n",
              "      <path clip-path=\"url(#p2bfcbcd4da)\" d=\"M 24.6 17.083636 \r\n",
              "L 359.4 17.083636 \r\n",
              "\" style=\"fill:none;stroke:#cccccc;stroke-linecap:round;stroke-width:0.8;\"/>\r\n",
              "     </g>\r\n",
              "     <g id=\"line2d_24\"/>\r\n",
              "     <g id=\"text_12\">\r\n",
              "      <!-- 1.0 -->\r\n",
              "      <g style=\"fill:#262626;\" transform=\"translate(7.2 20.662543)scale(0.1 -0.1)\">\r\n",
              "       <use xlink:href=\"#ArialMT-31\"/>\r\n",
              "       <use x=\"55.615234\" xlink:href=\"#ArialMT-2e\"/>\r\n",
              "       <use x=\"83.398438\" xlink:href=\"#ArialMT-30\"/>\r\n",
              "      </g>\r\n",
              "     </g>\r\n",
              "    </g>\r\n",
              "   </g>\r\n",
              "   <g id=\"PolyCollection_1\">\r\n",
              "    <path clip-path=\"url(#p2bfcbcd4da)\" d=\"M 222.711634 214.756364 \r\n",
              "L 222.711634 204.930444 \r\n",
              "L 223.938606 205.125756 \r\n",
              "L 225.165577 205.317178 \r\n",
              "L 226.392549 205.504788 \r\n",
              "L 227.61952 205.688662 \r\n",
              "L 228.846492 205.868875 \r\n",
              "L 230.073463 206.045499 \r\n",
              "L 231.300435 206.218607 \r\n",
              "L 232.527407 206.388267 \r\n",
              "L 233.754378 206.55455 \r\n",
              "L 234.98135 206.717523 \r\n",
              "L 236.208321 206.87725 \r\n",
              "L 237.435293 207.033798 \r\n",
              "L 238.662264 207.18723 \r\n",
              "L 239.889236 207.337607 \r\n",
              "L 241.116207 207.484992 \r\n",
              "L 242.343179 207.629442 \r\n",
              "L 243.570151 207.771018 \r\n",
              "L 244.797122 207.909775 \r\n",
              "L 246.024094 208.045772 \r\n",
              "L 247.251065 208.179061 \r\n",
              "L 248.478037 208.309698 \r\n",
              "L 249.705008 208.437736 \r\n",
              "L 250.93198 208.563225 \r\n",
              "L 252.158951 208.686218 \r\n",
              "L 253.385923 208.806763 \r\n",
              "L 254.612895 208.92491 \r\n",
              "L 255.839866 209.040706 \r\n",
              "L 257.066838 209.154199 \r\n",
              "L 258.293809 209.265434 \r\n",
              "L 259.520781 209.374455 \r\n",
              "L 260.747752 209.481308 \r\n",
              "L 261.974724 209.586036 \r\n",
              "L 263.201695 209.68868 \r\n",
              "L 264.428667 209.789283 \r\n",
              "L 265.655639 209.887884 \r\n",
              "L 266.88261 209.984525 \r\n",
              "L 268.109582 210.079244 \r\n",
              "L 269.336553 210.172078 \r\n",
              "L 270.563525 210.263067 \r\n",
              "L 271.790496 210.352247 \r\n",
              "L 273.017468 210.439652 \r\n",
              "L 274.244439 210.52532 \r\n",
              "L 275.471411 210.609285 \r\n",
              "L 276.698383 210.69158 \r\n",
              "L 277.925354 210.772239 \r\n",
              "L 279.152326 210.851294 \r\n",
              "L 280.379297 210.928778 \r\n",
              "L 281.606269 211.004721 \r\n",
              "L 282.83324 211.079155 \r\n",
              "L 284.060212 211.152109 \r\n",
              "L 285.287183 211.223613 \r\n",
              "L 286.514155 211.293695 \r\n",
              "L 287.741127 211.362385 \r\n",
              "L 288.968098 211.429709 \r\n",
              "L 290.19507 211.495696 \r\n",
              "L 291.422041 211.560371 \r\n",
              "L 292.649013 211.623761 \r\n",
              "L 293.875984 211.685891 \r\n",
              "L 295.102956 211.746786 \r\n",
              "L 296.329927 211.806472 \r\n",
              "L 297.556899 211.864971 \r\n",
              "L 298.783871 211.922308 \r\n",
              "L 300.010842 211.978506 \r\n",
              "L 301.237814 212.033588 \r\n",
              "L 302.464785 212.087575 \r\n",
              "L 303.691757 212.14049 \r\n",
              "L 304.918728 212.192353 \r\n",
              "L 306.1457 212.243186 \r\n",
              "L 307.372672 212.29301 \r\n",
              "L 308.599643 212.341844 \r\n",
              "L 309.826615 212.389708 \r\n",
              "L 311.053586 212.436621 \r\n",
              "L 312.280558 212.482603 \r\n",
              "L 313.507529 212.527671 \r\n",
              "L 314.734501 212.571845 \r\n",
              "L 315.961472 212.615141 \r\n",
              "L 317.188444 212.657577 \r\n",
              "L 318.415416 212.699171 \r\n",
              "L 319.642387 212.739939 \r\n",
              "L 320.869359 212.779897 \r\n",
              "L 322.09633 212.819063 \r\n",
              "L 323.323302 212.85745 \r\n",
              "L 324.550273 212.895076 \r\n",
              "L 325.777245 212.931954 \r\n",
              "L 327.004216 212.968101 \r\n",
              "L 328.231188 213.003529 \r\n",
              "L 329.45816 213.038255 \r\n",
              "L 330.685131 213.072291 \r\n",
              "L 331.912103 213.105652 \r\n",
              "L 333.139074 213.138351 \r\n",
              "L 334.366046 213.170401 \r\n",
              "L 335.593017 213.201814 \r\n",
              "L 336.819989 213.232604 \r\n",
              "L 338.04696 213.262784 \r\n",
              "L 339.273932 213.292364 \r\n",
              "L 340.500904 213.321357 \r\n",
              "L 341.727875 213.349776 \r\n",
              "L 342.954847 213.37763 \r\n",
              "L 344.181818 213.404931 \r\n",
              "L 344.181818 214.756364 \r\n",
              "L 344.181818 214.756364 \r\n",
              "L 342.954847 214.756364 \r\n",
              "L 341.727875 214.756364 \r\n",
              "L 340.500904 214.756364 \r\n",
              "L 339.273932 214.756364 \r\n",
              "L 338.04696 214.756364 \r\n",
              "L 336.819989 214.756364 \r\n",
              "L 335.593017 214.756364 \r\n",
              "L 334.366046 214.756364 \r\n",
              "L 333.139074 214.756364 \r\n",
              "L 331.912103 214.756364 \r\n",
              "L 330.685131 214.756364 \r\n",
              "L 329.45816 214.756364 \r\n",
              "L 328.231188 214.756364 \r\n",
              "L 327.004216 214.756364 \r\n",
              "L 325.777245 214.756364 \r\n",
              "L 324.550273 214.756364 \r\n",
              "L 323.323302 214.756364 \r\n",
              "L 322.09633 214.756364 \r\n",
              "L 320.869359 214.756364 \r\n",
              "L 319.642387 214.756364 \r\n",
              "L 318.415416 214.756364 \r\n",
              "L 317.188444 214.756364 \r\n",
              "L 315.961472 214.756364 \r\n",
              "L 314.734501 214.756364 \r\n",
              "L 313.507529 214.756364 \r\n",
              "L 312.280558 214.756364 \r\n",
              "L 311.053586 214.756364 \r\n",
              "L 309.826615 214.756364 \r\n",
              "L 308.599643 214.756364 \r\n",
              "L 307.372672 214.756364 \r\n",
              "L 306.1457 214.756364 \r\n",
              "L 304.918728 214.756364 \r\n",
              "L 303.691757 214.756364 \r\n",
              "L 302.464785 214.756364 \r\n",
              "L 301.237814 214.756364 \r\n",
              "L 300.010842 214.756364 \r\n",
              "L 298.783871 214.756364 \r\n",
              "L 297.556899 214.756364 \r\n",
              "L 296.329927 214.756364 \r\n",
              "L 295.102956 214.756364 \r\n",
              "L 293.875984 214.756364 \r\n",
              "L 292.649013 214.756364 \r\n",
              "L 291.422041 214.756364 \r\n",
              "L 290.19507 214.756364 \r\n",
              "L 288.968098 214.756364 \r\n",
              "L 287.741127 214.756364 \r\n",
              "L 286.514155 214.756364 \r\n",
              "L 285.287183 214.756364 \r\n",
              "L 284.060212 214.756364 \r\n",
              "L 282.83324 214.756364 \r\n",
              "L 281.606269 214.756364 \r\n",
              "L 280.379297 214.756364 \r\n",
              "L 279.152326 214.756364 \r\n",
              "L 277.925354 214.756364 \r\n",
              "L 276.698383 214.756364 \r\n",
              "L 275.471411 214.756364 \r\n",
              "L 274.244439 214.756364 \r\n",
              "L 273.017468 214.756364 \r\n",
              "L 271.790496 214.756364 \r\n",
              "L 270.563525 214.756364 \r\n",
              "L 269.336553 214.756364 \r\n",
              "L 268.109582 214.756364 \r\n",
              "L 266.88261 214.756364 \r\n",
              "L 265.655639 214.756364 \r\n",
              "L 264.428667 214.756364 \r\n",
              "L 263.201695 214.756364 \r\n",
              "L 261.974724 214.756364 \r\n",
              "L 260.747752 214.756364 \r\n",
              "L 259.520781 214.756364 \r\n",
              "L 258.293809 214.756364 \r\n",
              "L 257.066838 214.756364 \r\n",
              "L 255.839866 214.756364 \r\n",
              "L 254.612895 214.756364 \r\n",
              "L 253.385923 214.756364 \r\n",
              "L 252.158951 214.756364 \r\n",
              "L 250.93198 214.756364 \r\n",
              "L 249.705008 214.756364 \r\n",
              "L 248.478037 214.756364 \r\n",
              "L 247.251065 214.756364 \r\n",
              "L 246.024094 214.756364 \r\n",
              "L 244.797122 214.756364 \r\n",
              "L 243.570151 214.756364 \r\n",
              "L 242.343179 214.756364 \r\n",
              "L 241.116207 214.756364 \r\n",
              "L 239.889236 214.756364 \r\n",
              "L 238.662264 214.756364 \r\n",
              "L 237.435293 214.756364 \r\n",
              "L 236.208321 214.756364 \r\n",
              "L 234.98135 214.756364 \r\n",
              "L 233.754378 214.756364 \r\n",
              "L 232.527407 214.756364 \r\n",
              "L 231.300435 214.756364 \r\n",
              "L 230.073463 214.756364 \r\n",
              "L 228.846492 214.756364 \r\n",
              "L 227.61952 214.756364 \r\n",
              "L 226.392549 214.756364 \r\n",
              "L 225.165577 214.756364 \r\n",
              "L 223.938606 214.756364 \r\n",
              "L 222.711634 214.756364 \r\n",
              "z\r\n",
              "\" style=\"fill:#1f77b4;fill-opacity:0.5;\"/>\r\n",
              "   </g>\r\n",
              "   <g id=\"line2d_25\">\r\n",
              "    <path clip-path=\"url(#p2bfcbcd4da)\" d=\"M 39.818182 17.083636 \r\n",
              "L 43.477865 28.638801 \r\n",
              "L 47.137548 39.517256 \r\n",
              "L 50.797231 49.758704 \r\n",
              "L 54.456914 59.400515 \r\n",
              "L 58.116597 68.477862 \r\n",
              "L 61.77628 77.023851 \r\n",
              "L 65.435963 85.069644 \r\n",
              "L 69.095646 92.644569 \r\n",
              "L 72.755329 99.776235 \r\n",
              "L 76.415012 106.490627 \r\n",
              "L 80.684642 113.829248 \r\n",
              "L 84.954272 120.669527 \r\n",
              "L 89.223902 127.045368 \r\n",
              "L 93.493533 132.988361 \r\n",
              "L 97.763163 138.527945 \r\n",
              "L 102.032793 143.691554 \r\n",
              "L 106.302423 148.504751 \r\n",
              "L 110.572053 152.991359 \r\n",
              "L 114.841683 157.173578 \r\n",
              "L 119.111314 161.072097 \r\n",
              "L 123.990891 165.204829 \r\n",
              "L 128.870468 169.018843 \r\n",
              "L 133.750046 172.538761 \r\n",
              "L 138.629623 175.787302 \r\n",
              "L 143.5092 178.785425 \r\n",
              "L 148.998725 181.883007 \r\n",
              "L 154.488249 184.71337 \r\n",
              "L 159.977774 187.299608 \r\n",
              "L 166.077245 189.912478 \r\n",
              "L 172.176717 192.276261 \r\n",
              "L 178.276189 194.414744 \r\n",
              "L 184.985608 196.532466 \r\n",
              "L 192.304974 198.591639 \r\n",
              "L 199.62434 200.417738 \r\n",
              "L 207.553653 202.163571 \r\n",
              "L 216.092913 203.806335 \r\n",
              "L 225.242121 205.328993 \r\n",
              "L 235.001275 206.720142 \r\n",
              "L 245.370377 207.973655 \r\n",
              "L 256.959373 209.14435 \r\n",
              "L 269.768264 210.204302 \r\n",
              "L 283.797049 211.136585 \r\n",
              "L 299.655675 211.962355 \r\n",
              "L 317.95409 212.68363 \r\n",
              "L 339.302241 213.29304 \r\n",
              "L 344.181818 213.404931 \r\n",
              "L 344.181818 213.404931 \r\n",
              "\" style=\"fill:none;stroke:#1f77b4;stroke-linecap:round;stroke-width:1.5;\"/>\r\n",
              "   </g>\r\n",
              "   <g id=\"patch_3\">\r\n",
              "    <path d=\"M 24.6 224.64 \r\n",
              "L 24.6 7.2 \r\n",
              "\" style=\"fill:none;stroke:#cccccc;stroke-linecap:square;stroke-linejoin:miter;\"/>\r\n",
              "   </g>\r\n",
              "   <g id=\"patch_4\">\r\n",
              "    <path d=\"M 359.4 224.64 \r\n",
              "L 359.4 7.2 \r\n",
              "\" style=\"fill:none;stroke:#cccccc;stroke-linecap:square;stroke-linejoin:miter;\"/>\r\n",
              "   </g>\r\n",
              "   <g id=\"patch_5\">\r\n",
              "    <path d=\"M 24.6 224.64 \r\n",
              "L 359.4 224.64 \r\n",
              "\" style=\"fill:none;stroke:#cccccc;stroke-linecap:square;stroke-linejoin:miter;\"/>\r\n",
              "   </g>\r\n",
              "   <g id=\"patch_6\">\r\n",
              "    <path d=\"M 24.6 7.2 \r\n",
              "L 359.4 7.2 \r\n",
              "\" style=\"fill:none;stroke:#cccccc;stroke-linecap:square;stroke-linejoin:miter;\"/>\r\n",
              "   </g>\r\n",
              "  </g>\r\n",
              " </g>\r\n",
              " <defs>\r\n",
              "  <clipPath id=\"p2bfcbcd4da\">\r\n",
              "   <rect height=\"217.44\" width=\"334.8\" x=\"24.6\" y=\"7.2\"/>\r\n",
              "  </clipPath>\r\n",
              " </defs>\r\n",
              "</svg>\r\n"
            ],
            "text/plain": [
              "<Figure size 432x288 with 1 Axes>"
            ]
          },
          "metadata": {},
          "output_type": "display_data"
        }
      ],
      "source": [
        "ox = np.linspace(0, 5, 500)\n",
        "oy = stats.f.pdf(ox, k1, k2)\n",
        "ox_right = np.linspace(t, 5, 100)\n",
        "oy_right = stats.f.pdf(ox_right, k1, k2)\n",
        "plt.plot(ox, oy)\n",
        "plt.fill_between(ox_right, oy_right, alpha=0.5)"
      ]
    },
    {
      "cell_type": "markdown",
      "id": "531e15c6",
      "metadata": {
        "id": "531e15c6"
      },
      "source": [
        "Поскольку статистика (F) попадает в критическую область, поэтом делается заключение о том, что между ростом хоккеистов выбранных стран есть значимое отличие."
      ]
    },
    {
      "cell_type": "markdown",
      "id": "10f5ce30",
      "metadata": {
        "id": "10f5ce30"
      },
      "source": [
        "Аналогично для BMI. Пересчитать нужно только статистику (F), поскольку остальные параметры такие же, как раньше."
      ]
    },
    {
      "cell_type": "markdown",
      "id": "f73a4ab0",
      "metadata": {
        "id": "f73a4ab0"
      },
      "source": [
        "Статистика BMI хоккеистов целевых стран (F):"
      ]
    },
    {
      "cell_type": "code",
      "execution_count": null,
      "id": "b8d0ef19",
      "metadata": {
        "id": "b8d0ef19",
        "outputId": "59b14564-2a7a-4697-d2e5-c620b672be16"
      },
      "outputs": [
        {
          "data": {
            "text/plain": [
              "36.05816727743814"
            ]
          },
          "execution_count": 12,
          "metadata": {},
          "output_type": "execute_result"
        }
      ],
      "source": [
        "ys = [df.loc[df['country'] == country, 'bmi'] for country in countries]\n",
        "F = anova(*ys)\n",
        "F"
      ]
    },
    {
      "cell_type": "markdown",
      "id": "be42ef7e",
      "metadata": {
        "id": "be42ef7e"
      },
      "source": [
        "Поскольку статистика (F) попадает в критическую область, поэтом делается заключение о том, что между BMI хоккеистов выбранных стран есть значимое отличие."
      ]
    },
    {
      "cell_type": "markdown",
      "id": "6b2e253e",
      "metadata": {
        "id": "6b2e253e"
      },
      "source": [
        "Ответ: а) является; б) является."
      ]
    },
    {
      "cell_type": "code",
      "execution_count": null,
      "id": "538a7cfb",
      "metadata": {
        "id": "538a7cfb"
      },
      "outputs": [],
      "source": [
        ""
      ]
    }
  ],
  "metadata": {
    "kernelspec": {
      "display_name": "Python 3 (ipykernel)",
      "language": "python",
      "name": "python3"
    },
    "language_info": {
      "codemirror_mode": {
        "name": "ipython",
        "version": 3
      },
      "file_extension": ".py",
      "mimetype": "text/x-python",
      "name": "python",
      "nbconvert_exporter": "python",
      "pygments_lexer": "ipython3",
      "version": "3.9.7"
    },
    "colab": {
      "name": "lesson_8.ipynb",
      "provenance": [],
      "include_colab_link": true
    }
  },
  "nbformat": 4,
  "nbformat_minor": 5
}