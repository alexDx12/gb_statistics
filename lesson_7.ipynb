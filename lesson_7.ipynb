{
  "cells": [
    {
      "cell_type": "markdown",
      "metadata": {
        "id": "view-in-github",
        "colab_type": "text"
      },
      "source": [
        "<a href=\"https://colab.research.google.com/github/alexDx12/gb_statistics/blob/lesson_7/lesson_7.ipynb\" target=\"_parent\"><img src=\"https://colab.research.google.com/assets/colab-badge.svg\" alt=\"Open In Colab\"/></a>"
      ]
    },
    {
      "cell_type": "markdown",
      "id": "b052a465",
      "metadata": {
        "id": "b052a465"
      },
      "source": [
        "# Теория вероятностей и математическая статистика\n",
        "\n",
        "## Урок 7\n",
        "\n",
        "## Линейная регрессия. Двухвыборочный t-тест. A/B-тестирование\n",
        "\n",
        "### Домашнее задание"
      ]
    },
    {
      "cell_type": "markdown",
      "id": "72545e4c",
      "metadata": {
        "id": "72545e4c"
      },
      "source": [
        "### Задача 1"
      ]
    },
    {
      "cell_type": "markdown",
      "id": "cb92e8b1",
      "metadata": {
        "id": "cb92e8b1"
      },
      "source": [
        "__Постановка задачи__"
      ]
    },
    {
      "cell_type": "markdown",
      "id": "0b2604c7",
      "metadata": {
        "id": "0b2604c7"
      },
      "source": [
        "Дана матрица объект-признак\n",
        "```\n",
        "X = [[ 1.22401313,  2.30868478,  3.03636353,  2.69287214],\n",
        "     [-0.18757272,  1.30337355,  5.12093014,  3.46363202],\n",
        "     [-0.81094525,  1.82463398,  5.79686488,  1.86159445],\n",
        "     [ 0.75129018,  2.67392052,  3.65529809,  1.66746094],\n",
        "     [ 0.00972362,  1.97367255,  2.50594319,  1.69755173],\n",
        "     [-0.62972637,  0.77750764,  2.84124027,  4.54410559],\n",
        "     [ 2.29536229,  1.81206697,  1.95026215,  1.51874636],\n",
        "     [ 0.0920418 ,  2.26971361,  7.47708735,  2.61081203],\n",
        "     [ 2.39252799,  3.17563985,  3.61420599,  5.10773362],\n",
        "     [ 0.54983815,  2.87988651,  1.65752765,  1.59635987]]\n",
        "```\n",
        "и значения целевой переменной\n",
        "```\n",
        "y = [ 9.26193358,  9.700363  ,  8.67214805,  8.74796974,  6.18689108,\n",
        "      7.53312713,  7.57643777, 12.44965478, 14.29010746,  6.68361218]\n",
        "```\n",
        "\n",
        "Подберите два признака (из четырёх) так, чтобы уровень линейной зависимости целевой переменной от значений этих признаков был максимальным. Другими словами, модель линейной регрессии на этих признаках должна давать наилучший результат. В качестве ответа запишите значение коэффициента детерминации для модели на этих признаках."
      ]
    },
    {
      "cell_type": "markdown",
      "id": "14329d81",
      "metadata": {
        "id": "14329d81"
      },
      "source": [
        "__Решение__"
      ]
    },
    {
      "cell_type": "markdown",
      "id": "6f26618c",
      "metadata": {
        "id": "6f26618c"
      },
      "source": [
        "Импорт библиотек и скриптов:"
      ]
    },
    {
      "cell_type": "code",
      "execution_count": null,
      "id": "6b81a908",
      "metadata": {
        "id": "6b81a908"
      },
      "outputs": [],
      "source": [
        "import numpy as np\n",
        "import pandas as pd\n",
        "from sklearn.linear_model import LinearRegression\n",
        "from scipy import stats"
      ]
    },
    {
      "cell_type": "markdown",
      "id": "57bc5005",
      "metadata": {
        "id": "57bc5005"
      },
      "source": [
        "Матрица объект-признак (X) и значения целевой переменной (y) исходя из постановки задачи:"
      ]
    },
    {
      "cell_type": "code",
      "execution_count": null,
      "id": "6b6b13a1",
      "metadata": {
        "id": "6b6b13a1"
      },
      "outputs": [],
      "source": [
        "X = [[ 1.22401313,  2.30868478,  3.03636353,  2.69287214],\n",
        "     [-0.18757272,  1.30337355,  5.12093014,  3.46363202],\n",
        "     [-0.81094525,  1.82463398,  5.79686488,  1.86159445],\n",
        "     [ 0.75129018,  2.67392052,  3.65529809,  1.66746094],\n",
        "     [ 0.00972362,  1.97367255,  2.50594319,  1.69755173],\n",
        "     [-0.62972637,  0.77750764,  2.84124027,  4.54410559],\n",
        "     [ 2.29536229,  1.81206697,  1.95026215,  1.51874636],\n",
        "     [ 0.0920418 ,  2.26971361,  7.47708735,  2.61081203],\n",
        "     [ 2.39252799,  3.17563985,  3.61420599,  5.10773362],\n",
        "     [ 0.54983815,  2.87988651,  1.65752765,  1.59635987]]\n",
        "y = [ 9.26193358,  9.700363  ,  8.67214805,  8.74796974,  6.18689108,\n",
        "      7.53312713,  7.57643777, 12.44965478, 14.29010746,  6.68361218]"
      ]
    },
    {
      "cell_type": "markdown",
      "id": "ed18c3ff",
      "metadata": {
        "id": "ed18c3ff"
      },
      "source": [
        "Транспонирование матрицы объект-признак X в матрицу XT с целью упрощения извлечения признаков:"
      ]
    },
    {
      "cell_type": "code",
      "execution_count": null,
      "id": "d53f94ab",
      "metadata": {
        "id": "d53f94ab",
        "outputId": "5d9e63de-90ff-41ec-bf7e-038c1ceeb28f"
      },
      "outputs": [
        {
          "data": {
            "text/plain": [
              "array([[ 1.22401313, -0.18757272, -0.81094525,  0.75129018,  0.00972362,\n",
              "        -0.62972637,  2.29536229,  0.0920418 ,  2.39252799,  0.54983815],\n",
              "       [ 2.30868478,  1.30337355,  1.82463398,  2.67392052,  1.97367255,\n",
              "         0.77750764,  1.81206697,  2.26971361,  3.17563985,  2.87988651],\n",
              "       [ 3.03636353,  5.12093014,  5.79686488,  3.65529809,  2.50594319,\n",
              "         2.84124027,  1.95026215,  7.47708735,  3.61420599,  1.65752765],\n",
              "       [ 2.69287214,  3.46363202,  1.86159445,  1.66746094,  1.69755173,\n",
              "         4.54410559,  1.51874636,  2.61081203,  5.10773362,  1.59635987]])"
            ]
          },
          "execution_count": 3,
          "metadata": {},
          "output_type": "execute_result"
        }
      ],
      "source": [
        "XT = np.transpose(X)\n",
        "XT"
      ]
    },
    {
      "cell_type": "markdown",
      "id": "6bbcf084",
      "metadata": {
        "id": "6bbcf084"
      },
      "source": [
        "Формирование транспонированных матриц парных признаков (XT1, XT2, XT3, XT4, XT5, XT6, XT7, XT8, XT9, XT10, XT11, XT12):"
      ]
    },
    {
      "cell_type": "code",
      "execution_count": null,
      "id": "c533feb1",
      "metadata": {
        "id": "c533feb1"
      },
      "outputs": [],
      "source": [
        "XT1 = np.array([XT[0], XT[1]])\n",
        "XT2 = np.array([XT[1], XT[0]])\n",
        "XT3 = np.array([XT[0], XT[2]])\n",
        "XT4 = np.array([XT[2], XT[0]])\n",
        "XT5 = np.array([XT[0], XT[3]])\n",
        "XT6 = np.array([XT[3], XT[0]])\n",
        "XT7 = np.array([XT[1], XT[2]])\n",
        "XT8 = np.array([XT[2], XT[1]])\n",
        "XT9 = np.array([XT[1], XT[3]])\n",
        "XT10 = np.array([XT[3], XT[1]])\n",
        "XT11 = np.array([XT[2], XT[3]])\n",
        "XT12 = np.array([XT[3], XT[2]])"
      ]
    },
    {
      "cell_type": "markdown",
      "id": "544e4a9d",
      "metadata": {
        "id": "544e4a9d"
      },
      "source": [
        "Транспонирование транспонированных матриц парных признаков в матрицы X1, X2, X3, X4, X5, X6, X7, X8, X9, X10, X11, X12 для дальнейшего решения задачи:"
      ]
    },
    {
      "cell_type": "code",
      "execution_count": null,
      "id": "06535504",
      "metadata": {
        "id": "06535504"
      },
      "outputs": [],
      "source": [
        "X1 = np.transpose(XT1)\n",
        "X2 = np.transpose(XT2)\n",
        "X3 = np.transpose(XT3)\n",
        "X4 = np.transpose(XT4)\n",
        "X5 = np.transpose(XT5)\n",
        "X6 = np.transpose(XT6)\n",
        "X7 = np.transpose(XT7)\n",
        "X8 = np.transpose(XT8)\n",
        "X9 = np.transpose(XT9)\n",
        "X10 = np.transpose(XT10)\n",
        "X11 = np.transpose(XT11)\n",
        "X12 = np.transpose(XT12)"
      ]
    },
    {
      "cell_type": "markdown",
      "id": "9668d3d4",
      "metadata": {
        "id": "9668d3d4"
      },
      "source": [
        "Добавление единичного признака для приведения матриц праных признаков в удобную для дальнейшего решения задачи форму:"
      ]
    },
    {
      "cell_type": "code",
      "execution_count": null,
      "id": "b416d579",
      "metadata": {
        "id": "b416d579"
      },
      "outputs": [],
      "source": [
        "ones = np.ones((X1.shape[0], 1))\n",
        "X1 = np.hstack((ones, X1))\n",
        "X2 = np.hstack((ones, X2))\n",
        "X3 = np.hstack((ones, X3))\n",
        "X4 = np.hstack((ones, X4))\n",
        "X5 = np.hstack((ones, X5))\n",
        "X6 = np.hstack((ones, X6))\n",
        "X7 = np.hstack((ones, X7))\n",
        "X8 = np.hstack((ones, X8))\n",
        "X9 = np.hstack((ones, X9))\n",
        "X10 = np.hstack((ones, X10))\n",
        "X11 = np.hstack((ones, X11))\n",
        "X12 = np.hstack((ones, X12))"
      ]
    },
    {
      "cell_type": "markdown",
      "id": "485063ab",
      "metadata": {
        "id": "485063ab"
      },
      "source": [
        "Создание моделей линейной регресии для каждой пары признаков (lr1, lr2, lr3, lr4, lr5, lr6, lr7, lr8, lr9, lr10, lr11, lr12):"
      ]
    },
    {
      "cell_type": "code",
      "execution_count": null,
      "id": "6244ce85",
      "metadata": {
        "id": "6244ce85"
      },
      "outputs": [],
      "source": [
        "lr1 = LinearRegression(fit_intercept=False).fit(X1, y)\n",
        "lr2 = LinearRegression(fit_intercept=False).fit(X2, y)\n",
        "lr3 = LinearRegression(fit_intercept=False).fit(X3, y)\n",
        "lr4 = LinearRegression(fit_intercept=False).fit(X4, y)\n",
        "lr5 = LinearRegression(fit_intercept=False).fit(X5, y)\n",
        "lr6 = LinearRegression(fit_intercept=False).fit(X6, y)\n",
        "lr7 = LinearRegression(fit_intercept=False).fit(X7, y)\n",
        "lr8 = LinearRegression(fit_intercept=False).fit(X8, y)\n",
        "lr9 = LinearRegression(fit_intercept=False).fit(X9, y)\n",
        "lr10 = LinearRegression(fit_intercept=False).fit(X10, y)\n",
        "lr11 = LinearRegression(fit_intercept=False).fit(X11, y)\n",
        "lr12 = LinearRegression(fit_intercept=False).fit(X12, y)"
      ]
    },
    {
      "cell_type": "markdown",
      "id": "749ddf3b",
      "metadata": {
        "id": "749ddf3b"
      },
      "source": [
        "Коэффициенты моделей линейной регрессии для каждой пары признаков (b1, b2, b3, b4, b5, b6, b7, b8, b9, b10, b11, b12):"
      ]
    },
    {
      "cell_type": "code",
      "execution_count": null,
      "id": "14ed21e1",
      "metadata": {
        "id": "14ed21e1"
      },
      "outputs": [],
      "source": [
        "b1 = lr1.coef_\n",
        "b2 = lr2.coef_\n",
        "b3 = lr3.coef_\n",
        "b4 = lr4.coef_\n",
        "b5 = lr5.coef_\n",
        "b6 = lr6.coef_\n",
        "b7 = lr7.coef_\n",
        "b8 = lr8.coef_\n",
        "b9 = lr9.coef_\n",
        "b10 = lr10.coef_\n",
        "b11 = lr11.coef_\n",
        "b12 = lr12.coef_"
      ]
    },
    {
      "cell_type": "markdown",
      "id": "a19ceef8",
      "metadata": {
        "id": "a19ceef8"
      },
      "source": [
        "Массивы значений модели линейной регрессии для каждой пары признаков (Z1, Z2, Z3, Z4, Z5, Z6, Z7, Z8, Z9, Z10, Z11, Z12):"
      ]
    },
    {
      "cell_type": "code",
      "execution_count": null,
      "id": "7d94340d",
      "metadata": {
        "id": "7d94340d"
      },
      "outputs": [],
      "source": [
        "Z1 = X1.dot(b1)\n",
        "Z2 = X2.dot(b2)\n",
        "Z3 = X3.dot(b3)\n",
        "Z4 = X3.dot(b4)\n",
        "Z5 = X3.dot(b5)\n",
        "Z6 = X3.dot(b6)\n",
        "Z7 = X3.dot(b7)\n",
        "Z8 = X3.dot(b8)\n",
        "Z9 = X3.dot(b9)\n",
        "Z10 = X3.dot(b10)\n",
        "Z11 = X3.dot(b11)\n",
        "Z12 = X3.dot(b12)"
      ]
    },
    {
      "cell_type": "markdown",
      "id": "70932d00",
      "metadata": {
        "id": "70932d00"
      },
      "source": [
        "Коэффициенты детерминации модели линейной регрессии для каждой пары признаков (r2_1, r2_2, r2_3, r2_4, r2_5, r2_6, r2_7, r2_8, r2_9, r2_10, r2_11, r2_12):"
      ]
    },
    {
      "cell_type": "code",
      "execution_count": null,
      "id": "266c37a7",
      "metadata": {
        "id": "266c37a7",
        "outputId": "7fe57426-d519-4e54-fa23-d209de4a4dab"
      },
      "outputs": [
        {
          "data": {
            "text/plain": [
              "(0.181135947425852,\n",
              " 0.18113594742585226,\n",
              " 0.7634246238793149,\n",
              " 0.6625224959282909,\n",
              " 0.6103431121601612,\n",
              " 0.7445923886559904,\n",
              " 0.7159421858650817,\n",
              " 0.5811680634272685,\n",
              " 0.7633241246936724,\n",
              " 0.6664547500217303,\n",
              " 0.6370360161828557,\n",
              " 0.759076337903573)"
            ]
          },
          "execution_count": 10,
          "metadata": {},
          "output_type": "execute_result"
        }
      ],
      "source": [
        "r2_1 = np.corrcoef(y, Z1) ** 2\n",
        "r2_2 = np.corrcoef(y, Z2) ** 2\n",
        "r2_3 = np.corrcoef(y, Z3) ** 2\n",
        "r2_4 = np.corrcoef(y, Z4) ** 2\n",
        "r2_5 = np.corrcoef(y, Z5) ** 2\n",
        "r2_6 = np.corrcoef(y, Z6) ** 2\n",
        "r2_7 = np.corrcoef(y, Z7) ** 2\n",
        "r2_8 = np.corrcoef(y, Z8) ** 2\n",
        "r2_9 = np.corrcoef(y, Z9) ** 2\n",
        "r2_10 = np.corrcoef(y, Z10) ** 2\n",
        "r2_11 = np.corrcoef(y, Z11) ** 2\n",
        "r2_12 = np.corrcoef(y, Z12) ** 2\n",
        "r2 = r2_1[0][1], r2_2[0][1], r2_3[0][1], r2_4[0][1], r2_5[0][1], r2_6[0][1], r2_7[0][1], r2_8[0][1], r2_9[0][1], r2_10[0][1], r2_11[0][1], r2_12[0][1]\n",
        "r2"
      ]
    },
    {
      "cell_type": "markdown",
      "id": "0a1dcfe8",
      "metadata": {
        "id": "0a1dcfe8"
      },
      "source": [
        "Максимальный коэффициент детерминации модели линейной регрессии:"
      ]
    },
    {
      "cell_type": "code",
      "execution_count": null,
      "id": "a0861154",
      "metadata": {
        "id": "a0861154",
        "outputId": "acc6db8c-ecc0-4f59-aba5-85a4a28461b8"
      },
      "outputs": [
        {
          "data": {
            "text/plain": [
              "0.7634246238793149"
            ]
          },
          "execution_count": 11,
          "metadata": {},
          "output_type": "execute_result"
        }
      ],
      "source": [
        "max(r2)"
      ]
    },
    {
      "cell_type": "markdown",
      "id": "b3efbb57",
      "metadata": {
        "id": "b3efbb57"
      },
      "source": [
        "Ответ: 0.76342462."
      ]
    },
    {
      "cell_type": "markdown",
      "id": "8bc5aaba",
      "metadata": {
        "id": "8bc5aaba"
      },
      "source": [
        "### Задача 2"
      ]
    },
    {
      "cell_type": "markdown",
      "id": "da5544f7",
      "metadata": {
        "id": "da5544f7"
      },
      "source": [
        "__Постановка задачи__"
      ]
    },
    {
      "cell_type": "markdown",
      "id": "ae8b21e4",
      "metadata": {
        "id": "ae8b21e4"
      },
      "source": [
        "Является ли значимым уравнение регрессии, полученное в предыдущей задаче? В качестве ответа запишите 1, если является, и 0 иначе."
      ]
    },
    {
      "cell_type": "markdown",
      "id": "c7ec9dd9",
      "metadata": {
        "id": "c7ec9dd9"
      },
      "source": [
        "__Решение__"
      ]
    },
    {
      "cell_type": "markdown",
      "id": "a3aee3b6",
      "metadata": {
        "id": "a3aee3b6"
      },
      "source": [
        "Максимальный коэффициент детерминации модели линейной регрессии из прошлой задачи (r2):"
      ]
    },
    {
      "cell_type": "code",
      "execution_count": null,
      "id": "04cc17db",
      "metadata": {
        "id": "04cc17db",
        "outputId": "e8878b99-2bd8-45b3-9066-4363a7499060"
      },
      "outputs": [
        {
          "data": {
            "text/plain": [
              "0.7634246238793149"
            ]
          },
          "execution_count": 12,
          "metadata": {},
          "output_type": "execute_result"
        }
      ],
      "source": [
        "r2 = r2_3[0][1]\n",
        "r2"
      ]
    },
    {
      "cell_type": "markdown",
      "id": "8a0ec1f7",
      "metadata": {
        "id": "8a0ec1f7"
      },
      "source": [
        "Параметры статистики F-теста Фишера для матрицы парных признаков (X3) с максимальным коэффициентом детерминации модели линейной регрессии из прошлой задачи (n, m, k1, k2):"
      ]
    },
    {
      "cell_type": "code",
      "execution_count": null,
      "id": "0005fa6a",
      "metadata": {
        "id": "0005fa6a",
        "outputId": "0f8fe9dd-5c0d-4183-e84d-66c5e6b59e49"
      },
      "outputs": [
        {
          "data": {
            "text/plain": [
              "(10, 2, 2, 7)"
            ]
          },
          "execution_count": 13,
          "metadata": {},
          "output_type": "execute_result"
        }
      ],
      "source": [
        "n = X3.shape[0]\n",
        "m = X3.shape[1] - 1  # поскольку добавляли нулевой фактор\n",
        "k1 = m\n",
        "k2 = n - m - 1\n",
        "n, m, k1, k2"
      ]
    },
    {
      "cell_type": "markdown",
      "id": "4409f572",
      "metadata": {
        "id": "4409f572"
      },
      "source": [
        "Критическое значение статистки (t):"
      ]
    },
    {
      "cell_type": "code",
      "execution_count": null,
      "id": "b7f7be5c",
      "metadata": {
        "id": "b7f7be5c",
        "outputId": "bb200f03-4b3e-4483-ef3e-25435c861ad5"
      },
      "outputs": [
        {
          "data": {
            "text/plain": [
              "4.73741412777588"
            ]
          },
          "execution_count": 14,
          "metadata": {},
          "output_type": "execute_result"
        }
      ],
      "source": [
        "alpha = 0.05\n",
        "t = stats.f.ppf(1 - alpha, k1, k2)\n",
        "t"
      ]
    },
    {
      "cell_type": "markdown",
      "id": "28bcdcf4",
      "metadata": {
        "id": "28bcdcf4"
      },
      "source": [
        "Значение статистики (F):"
      ]
    },
    {
      "cell_type": "code",
      "execution_count": null,
      "id": "8aa16f61",
      "metadata": {
        "id": "8aa16f61",
        "outputId": "c3c49d2d-48a4-4723-a611-1c4b19ae071b"
      },
      "outputs": [
        {
          "data": {
            "text/plain": [
              "11.294439122922629"
            ]
          },
          "execution_count": 15,
          "metadata": {},
          "output_type": "execute_result"
        }
      ],
      "source": [
        "F = (r2 / k1) / ((1 - r2) / k2)\n",
        "F"
      ]
    },
    {
      "cell_type": "markdown",
      "id": "dfd50b65",
      "metadata": {
        "id": "dfd50b65"
      },
      "source": [
        "Поскольку значение стаитсики (F) превышает критическое значение статистики (t), то уравнение регресии принимается значимым. "
      ]
    },
    {
      "cell_type": "markdown",
      "id": "d71f88d2",
      "metadata": {
        "id": "d71f88d2"
      },
      "source": [
        "Ответ: 1."
      ]
    },
    {
      "cell_type": "markdown",
      "id": "34cd22ee",
      "metadata": {
        "id": "34cd22ee"
      },
      "source": [
        "### Задача 3"
      ]
    },
    {
      "cell_type": "markdown",
      "id": "899ebcfc",
      "metadata": {
        "id": "899ebcfc"
      },
      "source": [
        "__Постановка задачи__"
      ]
    },
    {
      "cell_type": "markdown",
      "id": "6346abaf",
      "metadata": {
        "id": "6346abaf"
      },
      "source": [
        "Для проведения A/B-тестирования сайта интернет-магазина были получены следующие данные: страница `A` была посещена 2509 раз, из них 77 закончились совершением покупки, страница `B` была посещена 1465 раз, 60 из них закончились совершением покупки. Является ли значимым отличие конверсии на страницах `A` и `B`? В качестве ответа запишите 1, если является, и 0 иначе.\n",
        "_Подсказка_. Реализуйте двухвыборочный t-тест. В качестве выборок здесь можно взять наборы меток совершения покупки (0 или 1) каждым посетителем."
      ]
    },
    {
      "cell_type": "markdown",
      "id": "1f483019",
      "metadata": {
        "id": "1f483019"
      },
      "source": [
        "__Решение__"
      ]
    },
    {
      "cell_type": "markdown",
      "id": "fdb3db4c",
      "metadata": {
        "id": "fdb3db4c"
      },
      "source": [
        "Пустые массивы выборок для страницы A (a) и страницы B (b):"
      ]
    },
    {
      "cell_type": "code",
      "execution_count": null,
      "id": "9449d1e6",
      "metadata": {
        "id": "9449d1e6"
      },
      "outputs": [],
      "source": [
        "a = np.array([0 for i in range(2509)])\n",
        "b = np.array([0 for i in range(1465)])"
      ]
    },
    {
      "cell_type": "markdown",
      "id": "ee27ca46",
      "metadata": {
        "id": "ee27ca46"
      },
      "source": [
        "Заполнение массивов выборок a и b единичными значениями в соотвествии с количеством совершённых покупок:"
      ]
    },
    {
      "cell_type": "code",
      "execution_count": null,
      "id": "342d6dfb",
      "metadata": {
        "id": "342d6dfb"
      },
      "outputs": [],
      "source": [
        "a[:77] = 1\n",
        "b[:60] = 1"
      ]
    },
    {
      "cell_type": "markdown",
      "id": "3966884e",
      "metadata": {
        "id": "3966884e"
      },
      "source": [
        "Размеры выборок для страниц A и B соотвественно (na, nb):"
      ]
    },
    {
      "cell_type": "code",
      "execution_count": null,
      "id": "ab23ea2b",
      "metadata": {
        "id": "ab23ea2b",
        "outputId": "16f70cad-d424-41e6-eefa-1b49598305cb"
      },
      "outputs": [
        {
          "data": {
            "text/plain": [
              "(2509, 1465)"
            ]
          },
          "execution_count": 18,
          "metadata": {},
          "output_type": "execute_result"
        }
      ],
      "source": [
        "na = a.size\n",
        "nb = b.size\n",
        "na, nb"
      ]
    },
    {
      "cell_type": "markdown",
      "id": "ae3f9484",
      "metadata": {
        "id": "ae3f9484"
      },
      "source": [
        "Несчещённые оценки стандарных отклонений выборок для страниц A и B соотвественно (sa, sb):"
      ]
    },
    {
      "cell_type": "code",
      "execution_count": null,
      "id": "4b6f3684",
      "metadata": {
        "id": "4b6f3684",
        "outputId": "8be4d0d6-03ee-464f-ad13-f92f2be015be"
      },
      "outputs": [
        {
          "data": {
            "text/plain": [
              "(0.17250951379621338, 0.19825513126725994)"
            ]
          },
          "execution_count": 19,
          "metadata": {},
          "output_type": "execute_result"
        }
      ],
      "source": [
        "sa = a.std(ddof=1)\n",
        "sb = b.std(ddof=1)\n",
        "sa, sb"
      ]
    },
    {
      "cell_type": "markdown",
      "id": "196668c5",
      "metadata": {
        "id": "196668c5"
      },
      "source": [
        "Cреднее квадратическое отклонение разности между выборочными средними выборок a и b:"
      ]
    },
    {
      "cell_type": "code",
      "execution_count": null,
      "id": "48f9d191",
      "metadata": {
        "id": "48f9d191",
        "outputId": "0ce9aaf6-5119-4401-e59a-74346ae08c35"
      },
      "outputs": [
        {
          "data": {
            "text/plain": [
              "0.006220171278295827"
            ]
          },
          "execution_count": 20,
          "metadata": {},
          "output_type": "execute_result"
        }
      ],
      "source": [
        "s_delta = np.sqrt(sa ** 2 / na + sb ** 2 / nb)\n",
        "s_delta"
      ]
    },
    {
      "cell_type": "markdown",
      "id": "5731eb38",
      "metadata": {
        "id": "5731eb38"
      },
      "source": [
        "Значение статистики (t):"
      ]
    },
    {
      "cell_type": "code",
      "execution_count": null,
      "id": "77670e45",
      "metadata": {
        "id": "77670e45",
        "outputId": "c85c4907-a522-41a5-ce8b-06c716004a4d"
      },
      "outputs": [
        {
          "data": {
            "text/plain": [
              "-1.6504551408398205"
            ]
          },
          "execution_count": 21,
          "metadata": {},
          "output_type": "execute_result"
        }
      ],
      "source": [
        "t = (a.mean() - b.mean()) / s_delta\n",
        "t"
      ]
    },
    {
      "cell_type": "markdown",
      "id": "8fdcc944",
      "metadata": {
        "id": "8fdcc944"
      },
      "source": [
        "Число степеней свободы (df):"
      ]
    },
    {
      "cell_type": "code",
      "execution_count": null,
      "id": "a4064a19",
      "metadata": {
        "id": "a4064a19",
        "outputId": "a00d1a8a-312d-4c98-e1f4-4e483f5a29fb"
      },
      "outputs": [
        {
          "data": {
            "text/plain": [
              "2732.8025644352133"
            ]
          },
          "execution_count": 22,
          "metadata": {},
          "output_type": "execute_result"
        }
      ],
      "source": [
        "df = (sa ** 2 / na + sb ** 2 / nb) ** 2 / \\\n",
        "    ((sa ** 2 / na) ** 2 / (na - 1) + (sb ** 2 / nb) ** 2 / (nb - 1))\n",
        "df"
      ]
    },
    {
      "cell_type": "markdown",
      "id": "0d6a9d64",
      "metadata": {
        "id": "0d6a9d64"
      },
      "source": [
        "Квантили (t1, t2):"
      ]
    },
    {
      "cell_type": "code",
      "execution_count": null,
      "id": "7d43cb9a",
      "metadata": {
        "id": "7d43cb9a",
        "outputId": "5b6c5e5f-bca5-4312-d456-a731dd90b89f"
      },
      "outputs": [
        {
          "data": {
            "text/plain": [
              "(-1.9608324352746576, 1.9608324352746571)"
            ]
          },
          "execution_count": 23,
          "metadata": {},
          "output_type": "execute_result"
        }
      ],
      "source": [
        "alpha = 0.05\n",
        "t1 = stats.t.ppf(alpha / 2, df=df)\n",
        "t2 = stats.t.ppf(1 - alpha / 2, df=df)\n",
        "t1, t2"
      ]
    },
    {
      "cell_type": "markdown",
      "id": "8736663a",
      "metadata": {
        "id": "8736663a"
      },
      "source": [
        "Поскольку значение статистики не входит в критическую область, отсекаемую квантилями, то отличие конверсии на страницах A и B принимается не значимым."
      ]
    },
    {
      "cell_type": "markdown",
      "id": "0db4de51",
      "metadata": {
        "id": "0db4de51"
      },
      "source": [
        "Ответ: 0."
      ]
    },
    {
      "cell_type": "code",
      "execution_count": null,
      "id": "4bcb51c5",
      "metadata": {
        "id": "4bcb51c5"
      },
      "outputs": [],
      "source": [
        ""
      ]
    }
  ],
  "metadata": {
    "kernelspec": {
      "display_name": "Python 3 (ipykernel)",
      "language": "python",
      "name": "python3"
    },
    "language_info": {
      "codemirror_mode": {
        "name": "ipython",
        "version": 3
      },
      "file_extension": ".py",
      "mimetype": "text/x-python",
      "name": "python",
      "nbconvert_exporter": "python",
      "pygments_lexer": "ipython3",
      "version": "3.9.7"
    },
    "colab": {
      "name": "lesson_7.ipynb",
      "provenance": [],
      "include_colab_link": true
    }
  },
  "nbformat": 4,
  "nbformat_minor": 5
}