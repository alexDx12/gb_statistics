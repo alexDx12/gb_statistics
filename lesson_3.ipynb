{
  "cells": [
    {
      "cell_type": "markdown",
      "metadata": {
        "id": "view-in-github",
        "colab_type": "text"
      },
      "source": [
        "<a href=\"https://colab.research.google.com/github/alexDx12/gb_statistics/blob/lesson_3/lesson_3.ipynb\" target=\"_parent\"><img src=\"https://colab.research.google.com/assets/colab-badge.svg\" alt=\"Open In Colab\"/></a>"
      ]
    },
    {
      "cell_type": "markdown",
      "id": "70cb325e",
      "metadata": {
        "id": "70cb325e"
      },
      "source": [
        "# Теория вероятностей и математическая статистика\n",
        "\n",
        "## Урок 3\n",
        "\n",
        "## Основы математической статистики. Количественные характеристики популяции. Графическое представление данных\n",
        "\n",
        "### Домашнее задание\n",
        "\n",
        "В поле ответа впишите одно число. Нецелые числа следует округлить до 8 знаков после запятой."
      ]
    },
    {
      "cell_type": "markdown",
      "id": "44e4d381",
      "metadata": {
        "id": "44e4d381"
      },
      "source": [
        "### Задача 1"
      ]
    },
    {
      "cell_type": "markdown",
      "id": "94d1e19a",
      "metadata": {
        "id": "94d1e19a"
      },
      "source": [
        "__Постановка задачи__"
      ]
    },
    {
      "cell_type": "markdown",
      "id": "d23fd0eb",
      "metadata": {
        "id": "d23fd0eb"
      },
      "source": [
        "Даны значения зарплат из выборки выпускников: \n",
        "```\n",
        "100, 80, 75, 77, 89, 33, 45, 25, 65, 17, 30, 230, 24, 57, 55, 70, 75, 65, 84, 90, 150\n",
        "```\n",
        "Используя только встроенные питоновские функции и структуры данных (т.е. без библиотек `numpy`, `pandas` и др.), посчитайте (несмещённое) среднее квадратичное отклонение для данной выборки."
      ]
    },
    {
      "cell_type": "markdown",
      "id": "33a9d7c2",
      "metadata": {
        "id": "33a9d7c2"
      },
      "source": [
        "__Решение__"
      ]
    },
    {
      "cell_type": "markdown",
      "id": "bf2b9562",
      "metadata": {
        "id": "bf2b9562"
      },
      "source": [
        "Список с выборкой (sample):"
      ]
    },
    {
      "cell_type": "code",
      "execution_count": null,
      "id": "e619ebbe",
      "metadata": {
        "id": "e619ebbe"
      },
      "outputs": [],
      "source": [
        "sample = [100, 80, 75, 77, 89, 33, 45, 25, 65, 17, 30, 230, 24, 57, 55, 70, 75, 65, 84, 90, 150]"
      ]
    },
    {
      "cell_type": "markdown",
      "id": "15a79841",
      "metadata": {
        "id": "15a79841"
      },
      "source": [
        "Выборочное среднее (mean):"
      ]
    },
    {
      "cell_type": "code",
      "execution_count": null,
      "id": "df1840db",
      "metadata": {
        "id": "df1840db",
        "outputId": "a0b1b30b-c7d9-424a-a347-897dd9a445fb"
      },
      "outputs": [
        {
          "data": {
            "text/plain": [
              "73.14285714285714"
            ]
          },
          "execution_count": 72,
          "metadata": {},
          "output_type": "execute_result"
        }
      ],
      "source": [
        "mean = sum(sample) / len (sample)\n",
        "mean"
      ]
    },
    {
      "cell_type": "markdown",
      "id": "b08ad6d2",
      "metadata": {
        "id": "b08ad6d2"
      },
      "source": [
        "Выборочная (несмещённая) дисперсия (variance):"
      ]
    },
    {
      "cell_type": "code",
      "execution_count": null,
      "id": "a24e5c56",
      "metadata": {
        "id": "a24e5c56",
        "outputId": "7bc10240-0972-4e9b-9f0f-dd761003d326"
      },
      "outputs": [
        {
          "data": {
            "text/plain": [
              "2241.8285714285716"
            ]
          },
          "execution_count": 73,
          "metadata": {},
          "output_type": "execute_result"
        }
      ],
      "source": [
        "variance = sum([(value - mean) ** 2 for value in sample]) / (len(sample) - 1)\n",
        "variance"
      ]
    },
    {
      "cell_type": "markdown",
      "id": "fdff886a",
      "metadata": {
        "id": "fdff886a"
      },
      "source": [
        "Выборочное (несмещённое) стандартное отклонение (std):"
      ]
    },
    {
      "cell_type": "code",
      "execution_count": null,
      "id": "834d61f8",
      "metadata": {
        "id": "834d61f8",
        "outputId": "2fdcb555-11a5-48aa-ebfa-794ebf5beee2"
      },
      "outputs": [
        {
          "data": {
            "text/plain": [
              "47.34795214"
            ]
          },
          "execution_count": 74,
          "metadata": {},
          "output_type": "execute_result"
        }
      ],
      "source": [
        "std = variance ** 0.5\n",
        "round(std, 8)"
      ]
    },
    {
      "cell_type": "markdown",
      "id": "5447066d",
      "metadata": {
        "id": "5447066d"
      },
      "source": [
        "Ответ: 47.34795214."
      ]
    },
    {
      "cell_type": "markdown",
      "id": "092ef9bb",
      "metadata": {
        "id": "092ef9bb"
      },
      "source": [
        "### Задача 2"
      ]
    },
    {
      "cell_type": "markdown",
      "id": "4778eed8",
      "metadata": {
        "id": "4778eed8"
      },
      "source": [
        "__Постановка задачи__"
      ]
    },
    {
      "cell_type": "markdown",
      "id": "fd8ebdcf",
      "metadata": {
        "id": "fd8ebdcf"
      },
      "source": [
        "Найдите число выбросов в выборке из задачи 1. Для определения выбросов используйте методику как при построении \"усов\" в `boxplot`, однако, как и в задаче 1, пользоваться можно только встроенными функциями и структурами данных."
      ]
    },
    {
      "cell_type": "markdown",
      "id": "7390f108",
      "metadata": {
        "id": "7390f108"
      },
      "source": [
        "__Решение__"
      ]
    },
    {
      "cell_type": "markdown",
      "id": "fdd78884",
      "metadata": {
        "id": "fdd78884"
      },
      "source": [
        "Импорт библиотек и скриптов:"
      ]
    },
    {
      "cell_type": "code",
      "execution_count": null,
      "id": "394aedf9",
      "metadata": {
        "id": "394aedf9"
      },
      "outputs": [],
      "source": [
        "import seaborn as sns"
      ]
    },
    {
      "cell_type": "markdown",
      "id": "8ec17baf",
      "metadata": {
        "id": "8ec17baf"
      },
      "source": [
        "Вспомогательные классы и функции:"
      ]
    },
    {
      "cell_type": "code",
      "execution_count": null,
      "id": "ef402545",
      "metadata": {
        "id": "ef402545"
      },
      "outputs": [],
      "source": [
        "def quantile(l: list, order: float) -> float:\n",
        "    \"\"\"Квантиль порядка `order` по списку `l`.\n",
        "    \"\"\"\n",
        "    \n",
        "    l = sorted(l)\n",
        "    n = len(l)\n",
        "    \n",
        "    n_left_elements = int(n * order)\n",
        "    n_right_elements = int(n * (1 - order))\n",
        "    \n",
        "    print(f\"Общее количество элементов: {n}, количество элементов слева: {n_left_elements}, количество элементов справа: {n_right_elements}.\")\n",
        "    \n",
        "    if n_left_elements + n_right_elements == n:\n",
        "        return (l[n_left_elements - 1] + l[n_left_elements]) / 2\n",
        "    \n",
        "    else:\n",
        "        assert n_left_elements + n_right_elements == n - 1\n",
        "        \n",
        "        return l[n_left_elements]"
      ]
    },
    {
      "cell_type": "markdown",
      "id": "c6a86252",
      "metadata": {
        "id": "c6a86252"
      },
      "source": [
        "Список с выборкой (sample):"
      ]
    },
    {
      "cell_type": "code",
      "execution_count": null,
      "id": "6159c594",
      "metadata": {
        "id": "6159c594"
      },
      "outputs": [],
      "source": [
        "sample = [100, 80, 75, 77, 89, 33, 45, 25, 65, 17, 30, 230, 24, 57, 55, 70, 75, 65, 84, 90, 150]"
      ]
    },
    {
      "cell_type": "markdown",
      "id": "bf05b281",
      "metadata": {
        "id": "bf05b281"
      },
      "source": [
        "Первый квантиль (q1):"
      ]
    },
    {
      "cell_type": "code",
      "execution_count": null,
      "id": "a43d64ef",
      "metadata": {
        "id": "a43d64ef",
        "outputId": "6967efce-6b55-41fa-e996-554f2e2289de"
      },
      "outputs": [
        {
          "name": "stdout",
          "output_type": "stream",
          "text": [
            "Общее количество элементов: 21, количество элементов слева: 5, количество элементов справа: 15.\n"
          ]
        },
        {
          "data": {
            "text/plain": [
              "45"
            ]
          },
          "execution_count": 78,
          "metadata": {},
          "output_type": "execute_result"
        }
      ],
      "source": [
        "q1 = quantile(sample, 0.25)\n",
        "q1"
      ]
    },
    {
      "cell_type": "markdown",
      "id": "6517d316",
      "metadata": {
        "id": "6517d316"
      },
      "source": [
        "Третий квантиль (q3):"
      ]
    },
    {
      "cell_type": "code",
      "execution_count": null,
      "id": "ac73f158",
      "metadata": {
        "id": "ac73f158",
        "outputId": "be5d467e-2a18-4524-adb4-3d418d03f5b4"
      },
      "outputs": [
        {
          "name": "stdout",
          "output_type": "stream",
          "text": [
            "Общее количество элементов: 21, количество элементов слева: 15, количество элементов справа: 5.\n"
          ]
        },
        {
          "data": {
            "text/plain": [
              "84"
            ]
          },
          "execution_count": 79,
          "metadata": {},
          "output_type": "execute_result"
        }
      ],
      "source": [
        "q3 = quantile(sample, 0.75)\n",
        "q3"
      ]
    },
    {
      "cell_type": "markdown",
      "id": "d6658db3",
      "metadata": {
        "id": "d6658db3"
      },
      "source": [
        "Интерквартильный размах (iqd):"
      ]
    },
    {
      "cell_type": "code",
      "execution_count": null,
      "id": "4ad6cea6",
      "metadata": {
        "id": "4ad6cea6",
        "outputId": "13058af8-05a1-4d95-eaa5-f99249cf33b6"
      },
      "outputs": [
        {
          "data": {
            "text/plain": [
              "39"
            ]
          },
          "execution_count": 80,
          "metadata": {},
          "output_type": "execute_result"
        }
      ],
      "source": [
        "iqd = q3 - q1\n",
        "iqd"
      ]
    },
    {
      "cell_type": "markdown",
      "id": "4062b266",
      "metadata": {
        "id": "4062b266"
      },
      "source": [
        "Диапазон значений, за пределами которого значения выборки считаются выбросами по методике построения \"усов\" в boxplot (boxplot_range):"
      ]
    },
    {
      "cell_type": "code",
      "execution_count": null,
      "id": "36049ae4",
      "metadata": {
        "id": "36049ae4",
        "outputId": "748ef7ea-b328-49ff-b304-008694fdd9e1"
      },
      "outputs": [
        {
          "data": {
            "text/plain": [
              "[-13.5, 142.5]"
            ]
          },
          "execution_count": 81,
          "metadata": {},
          "output_type": "execute_result"
        }
      ],
      "source": [
        "boxplot_range = [q1 - 1.5 * iqd, q3 + 1.5 * iqd]\n",
        "boxplot_range"
      ]
    },
    {
      "cell_type": "markdown",
      "id": "267d0625",
      "metadata": {
        "id": "267d0625"
      },
      "source": [
        "Список значений с выбросами (outliers):"
      ]
    },
    {
      "cell_type": "code",
      "execution_count": null,
      "id": "72860bd2",
      "metadata": {
        "id": "72860bd2",
        "outputId": "68855fe0-d660-4716-aa68-42f291bff811"
      },
      "outputs": [
        {
          "data": {
            "text/plain": [
              "[230, 150]"
            ]
          },
          "execution_count": 82,
          "metadata": {},
          "output_type": "execute_result"
        }
      ],
      "source": [
        "outliers = [item for item in sample if item < min(boxplot_range) or item > max(boxplot_range)]\n",
        "outliers"
      ]
    },
    {
      "cell_type": "markdown",
      "id": "6b4bdcf3",
      "metadata": {
        "id": "6b4bdcf3"
      },
      "source": [
        "Число выбросов:"
      ]
    },
    {
      "cell_type": "code",
      "execution_count": null,
      "id": "7c865aac",
      "metadata": {
        "id": "7c865aac",
        "outputId": "270fe2c0-7f6a-4a29-a3b0-1d198817fe79"
      },
      "outputs": [
        {
          "data": {
            "text/plain": [
              "2"
            ]
          },
          "execution_count": 83,
          "metadata": {},
          "output_type": "execute_result"
        }
      ],
      "source": [
        " len(outliers)"
      ]
    },
    {
      "cell_type": "markdown",
      "id": "42402cd9",
      "metadata": {
        "id": "42402cd9"
      },
      "source": [
        "Построение диаграммы boxplot:"
      ]
    },
    {
      "cell_type": "code",
      "execution_count": null,
      "id": "17363d96",
      "metadata": {
        "id": "17363d96"
      },
      "outputs": [],
      "source": [
        "%config InlineBackend.figure_formats = ['svg']"
      ]
    },
    {
      "cell_type": "code",
      "execution_count": null,
      "id": "32160e45",
      "metadata": {
        "id": "32160e45",
        "outputId": "ea4e88fe-0571-404c-8b31-8a2be847cb50"
      },
      "outputs": [
        {
          "data": {
            "text/plain": [
              "<AxesSubplot:>"
            ]
          },
          "execution_count": 85,
          "metadata": {},
          "output_type": "execute_result"
        },
        {
          "data": {
            "image/svg+xml": [
              "<?xml version=\"1.0\" encoding=\"utf-8\" standalone=\"no\"?>\n",
              "<!DOCTYPE svg PUBLIC \"-//W3C//DTD SVG 1.1//EN\"\n",
              "  \"http://www.w3.org/Graphics/SVG/1.1/DTD/svg11.dtd\">\n",
              "<svg height=\"248.518125pt\" version=\"1.1\" viewBox=\"0 0 375.2875 248.518125\" width=\"375.2875pt\" xmlns=\"http://www.w3.org/2000/svg\" xmlns:xlink=\"http://www.w3.org/1999/xlink\">\n",
              " <metadata>\n",
              "  <rdf:RDF xmlns:cc=\"http://creativecommons.org/ns#\" xmlns:dc=\"http://purl.org/dc/elements/1.1/\" xmlns:rdf=\"http://www.w3.org/1999/02/22-rdf-syntax-ns#\">\n",
              "   <cc:Work>\n",
              "    <dc:type rdf:resource=\"http://purl.org/dc/dcmitype/StillImage\"/>\n",
              "    <dc:date>2022-01-14T01:20:51.445805</dc:date>\n",
              "    <dc:format>image/svg+xml</dc:format>\n",
              "    <dc:creator>\n",
              "     <cc:Agent>\n",
              "      <dc:title>Matplotlib v3.4.3, https://matplotlib.org/</dc:title>\n",
              "     </cc:Agent>\n",
              "    </dc:creator>\n",
              "   </cc:Work>\n",
              "  </rdf:RDF>\n",
              " </metadata>\n",
              " <defs>\n",
              "  <style type=\"text/css\">*{stroke-linecap:butt;stroke-linejoin:round;}</style>\n",
              " </defs>\n",
              " <g id=\"figure_1\">\n",
              "  <g id=\"patch_1\">\n",
              "   <path d=\"M 0 248.518125 \n",
              "L 375.2875 248.518125 \n",
              "L 375.2875 0 \n",
              "L 0 0 \n",
              "z\n",
              "\" style=\"fill:none;\"/>\n",
              "  </g>\n",
              "  <g id=\"axes_1\">\n",
              "   <g id=\"patch_2\">\n",
              "    <path d=\"M 33.2875 224.64 \n",
              "L 368.0875 224.64 \n",
              "L 368.0875 7.2 \n",
              "L 33.2875 7.2 \n",
              "z\n",
              "\" style=\"fill:#ffffff;\"/>\n",
              "   </g>\n",
              "   <g id=\"patch_3\">\n",
              "    <path clip-path=\"url(#pc44687f603)\" d=\"M 66.7675 188.771216 \n",
              "L 334.6075 188.771216 \n",
              "L 334.6075 152.577618 \n",
              "L 66.7675 152.577618 \n",
              "L 66.7675 188.771216 \n",
              "z\n",
              "\" style=\"fill:#3274a1;stroke:#3f3f3f;stroke-linejoin:miter;stroke-width:1.5;\"/>\n",
              "   </g>\n",
              "   <g id=\"matplotlib.axis_1\">\n",
              "    <g id=\"xtick_1\">\n",
              "     <g id=\"line2d_1\">\n",
              "      <defs>\n",
              "       <path d=\"M 0 0 \n",
              "L 0 3.5 \n",
              "\" id=\"m5f64d90d61\" style=\"stroke:#000000;stroke-width:0.8;\"/>\n",
              "      </defs>\n",
              "      <g>\n",
              "       <use style=\"stroke:#000000;stroke-width:0.8;\" x=\"200.6875\" xlink:href=\"#m5f64d90d61\" y=\"224.64\"/>\n",
              "      </g>\n",
              "     </g>\n",
              "     <g id=\"text_1\">\n",
              "      <!-- 0 -->\n",
              "      <g transform=\"translate(197.50625 239.238437)scale(0.1 -0.1)\">\n",
              "       <defs>\n",
              "        <path d=\"M 2034 4250 \n",
              "Q 1547 4250 1301 3770 \n",
              "Q 1056 3291 1056 2328 \n",
              "Q 1056 1369 1301 889 \n",
              "Q 1547 409 2034 409 \n",
              "Q 2525 409 2770 889 \n",
              "Q 3016 1369 3016 2328 \n",
              "Q 3016 3291 2770 3770 \n",
              "Q 2525 4250 2034 4250 \n",
              "z\n",
              "M 2034 4750 \n",
              "Q 2819 4750 3233 4129 \n",
              "Q 3647 3509 3647 2328 \n",
              "Q 3647 1150 3233 529 \n",
              "Q 2819 -91 2034 -91 \n",
              "Q 1250 -91 836 529 \n",
              "Q 422 1150 422 2328 \n",
              "Q 422 3509 836 4129 \n",
              "Q 1250 4750 2034 4750 \n",
              "z\n",
              "\" id=\"DejaVuSans-30\" transform=\"scale(0.015625)\"/>\n",
              "       </defs>\n",
              "       <use xlink:href=\"#DejaVuSans-30\"/>\n",
              "      </g>\n",
              "     </g>\n",
              "    </g>\n",
              "   </g>\n",
              "   <g id=\"matplotlib.axis_2\">\n",
              "    <g id=\"ytick_1\">\n",
              "     <g id=\"line2d_2\">\n",
              "      <defs>\n",
              "       <path d=\"M 0 0 \n",
              "L -3.5 0 \n",
              "\" id=\"m6ee18ea318\" style=\"stroke:#000000;stroke-width:0.8;\"/>\n",
              "      </defs>\n",
              "      <g>\n",
              "       <use style=\"stroke:#000000;stroke-width:0.8;\" x=\"33.2875\" xlink:href=\"#m6ee18ea318\" y=\"184.131012\"/>\n",
              "      </g>\n",
              "     </g>\n",
              "     <g id=\"text_2\">\n",
              "      <!-- 50 -->\n",
              "      <g transform=\"translate(13.5625 187.93023)scale(0.1 -0.1)\">\n",
              "       <defs>\n",
              "        <path d=\"M 691 4666 \n",
              "L 3169 4666 \n",
              "L 3169 4134 \n",
              "L 1269 4134 \n",
              "L 1269 2991 \n",
              "Q 1406 3038 1543 3061 \n",
              "Q 1681 3084 1819 3084 \n",
              "Q 2600 3084 3056 2656 \n",
              "Q 3513 2228 3513 1497 \n",
              "Q 3513 744 3044 326 \n",
              "Q 2575 -91 1722 -91 \n",
              "Q 1428 -91 1123 -41 \n",
              "Q 819 9 494 109 \n",
              "L 494 744 \n",
              "Q 775 591 1075 516 \n",
              "Q 1375 441 1709 441 \n",
              "Q 2250 441 2565 725 \n",
              "Q 2881 1009 2881 1497 \n",
              "Q 2881 1984 2565 2268 \n",
              "Q 2250 2553 1709 2553 \n",
              "Q 1456 2553 1204 2497 \n",
              "Q 953 2441 691 2322 \n",
              "L 691 4666 \n",
              "z\n",
              "\" id=\"DejaVuSans-35\" transform=\"scale(0.015625)\"/>\n",
              "       </defs>\n",
              "       <use xlink:href=\"#DejaVuSans-35\"/>\n",
              "       <use x=\"63.623047\" xlink:href=\"#DejaVuSans-30\"/>\n",
              "      </g>\n",
              "     </g>\n",
              "    </g>\n",
              "    <g id=\"ytick_2\">\n",
              "     <g id=\"line2d_3\">\n",
              "      <g>\n",
              "       <use style=\"stroke:#000000;stroke-width:0.8;\" x=\"33.2875\" xlink:href=\"#m6ee18ea318\" y=\"137.728963\"/>\n",
              "      </g>\n",
              "     </g>\n",
              "     <g id=\"text_3\">\n",
              "      <!-- 100 -->\n",
              "      <g transform=\"translate(7.2 141.528182)scale(0.1 -0.1)\">\n",
              "       <defs>\n",
              "        <path d=\"M 794 531 \n",
              "L 1825 531 \n",
              "L 1825 4091 \n",
              "L 703 3866 \n",
              "L 703 4441 \n",
              "L 1819 4666 \n",
              "L 2450 4666 \n",
              "L 2450 531 \n",
              "L 3481 531 \n",
              "L 3481 0 \n",
              "L 794 0 \n",
              "L 794 531 \n",
              "z\n",
              "\" id=\"DejaVuSans-31\" transform=\"scale(0.015625)\"/>\n",
              "       </defs>\n",
              "       <use xlink:href=\"#DejaVuSans-31\"/>\n",
              "       <use x=\"63.623047\" xlink:href=\"#DejaVuSans-30\"/>\n",
              "       <use x=\"127.246094\" xlink:href=\"#DejaVuSans-30\"/>\n",
              "      </g>\n",
              "     </g>\n",
              "    </g>\n",
              "    <g id=\"ytick_3\">\n",
              "     <g id=\"line2d_4\">\n",
              "      <g>\n",
              "       <use style=\"stroke:#000000;stroke-width:0.8;\" x=\"33.2875\" xlink:href=\"#m6ee18ea318\" y=\"91.326914\"/>\n",
              "      </g>\n",
              "     </g>\n",
              "     <g id=\"text_4\">\n",
              "      <!-- 150 -->\n",
              "      <g transform=\"translate(7.2 95.126133)scale(0.1 -0.1)\">\n",
              "       <use xlink:href=\"#DejaVuSans-31\"/>\n",
              "       <use x=\"63.623047\" xlink:href=\"#DejaVuSans-35\"/>\n",
              "       <use x=\"127.246094\" xlink:href=\"#DejaVuSans-30\"/>\n",
              "      </g>\n",
              "     </g>\n",
              "    </g>\n",
              "    <g id=\"ytick_4\">\n",
              "     <g id=\"line2d_5\">\n",
              "      <g>\n",
              "       <use style=\"stroke:#000000;stroke-width:0.8;\" x=\"33.2875\" xlink:href=\"#m6ee18ea318\" y=\"44.924866\"/>\n",
              "      </g>\n",
              "     </g>\n",
              "     <g id=\"text_5\">\n",
              "      <!-- 200 -->\n",
              "      <g transform=\"translate(7.2 48.724084)scale(0.1 -0.1)\">\n",
              "       <defs>\n",
              "        <path d=\"M 1228 531 \n",
              "L 3431 531 \n",
              "L 3431 0 \n",
              "L 469 0 \n",
              "L 469 531 \n",
              "Q 828 903 1448 1529 \n",
              "Q 2069 2156 2228 2338 \n",
              "Q 2531 2678 2651 2914 \n",
              "Q 2772 3150 2772 3378 \n",
              "Q 2772 3750 2511 3984 \n",
              "Q 2250 4219 1831 4219 \n",
              "Q 1534 4219 1204 4116 \n",
              "Q 875 4013 500 3803 \n",
              "L 500 4441 \n",
              "Q 881 4594 1212 4672 \n",
              "Q 1544 4750 1819 4750 \n",
              "Q 2544 4750 2975 4387 \n",
              "Q 3406 4025 3406 3419 \n",
              "Q 3406 3131 3298 2873 \n",
              "Q 3191 2616 2906 2266 \n",
              "Q 2828 2175 2409 1742 \n",
              "Q 1991 1309 1228 531 \n",
              "z\n",
              "\" id=\"DejaVuSans-32\" transform=\"scale(0.015625)\"/>\n",
              "       </defs>\n",
              "       <use xlink:href=\"#DejaVuSans-32\"/>\n",
              "       <use x=\"63.623047\" xlink:href=\"#DejaVuSans-30\"/>\n",
              "       <use x=\"127.246094\" xlink:href=\"#DejaVuSans-30\"/>\n",
              "      </g>\n",
              "     </g>\n",
              "    </g>\n",
              "   </g>\n",
              "   <g id=\"line2d_6\">\n",
              "    <path clip-path=\"url(#pc44687f603)\" d=\"M 200.6875 188.771216 \n",
              "L 200.6875 214.756364 \n",
              "\" style=\"fill:none;stroke:#3f3f3f;stroke-linecap:square;stroke-width:1.5;\"/>\n",
              "   </g>\n",
              "   <g id=\"line2d_7\">\n",
              "    <path clip-path=\"url(#pc44687f603)\" d=\"M 200.6875 152.577618 \n",
              "L 200.6875 137.728963 \n",
              "\" style=\"fill:none;stroke:#3f3f3f;stroke-linecap:square;stroke-width:1.5;\"/>\n",
              "   </g>\n",
              "   <g id=\"line2d_8\">\n",
              "    <path clip-path=\"url(#pc44687f603)\" d=\"M 133.7275 214.756364 \n",
              "L 267.6475 214.756364 \n",
              "\" style=\"fill:none;stroke:#3f3f3f;stroke-linecap:square;stroke-width:1.5;\"/>\n",
              "   </g>\n",
              "   <g id=\"line2d_9\">\n",
              "    <path clip-path=\"url(#pc44687f603)\" d=\"M 133.7275 137.728963 \n",
              "L 267.6475 137.728963 \n",
              "\" style=\"fill:none;stroke:#3f3f3f;stroke-linecap:square;stroke-width:1.5;\"/>\n",
              "   </g>\n",
              "   <g id=\"line2d_10\">\n",
              "    <defs>\n",
              "     <path d=\"M -0 3.535534 \n",
              "L 2.12132 0 \n",
              "L -0 -3.535534 \n",
              "L -2.12132 -0 \n",
              "z\n",
              "\" id=\"m17d7d8dc32\" style=\"stroke:#3f3f3f;stroke-linejoin:miter;\"/>\n",
              "    </defs>\n",
              "    <g clip-path=\"url(#pc44687f603)\">\n",
              "     <use style=\"fill:#3f3f3f;stroke:#3f3f3f;stroke-linejoin:miter;\" x=\"200.6875\" xlink:href=\"#m17d7d8dc32\" y=\"17.083636\"/>\n",
              "     <use style=\"fill:#3f3f3f;stroke:#3f3f3f;stroke-linejoin:miter;\" x=\"200.6875\" xlink:href=\"#m17d7d8dc32\" y=\"91.326914\"/>\n",
              "    </g>\n",
              "   </g>\n",
              "   <g id=\"line2d_11\">\n",
              "    <path clip-path=\"url(#pc44687f603)\" d=\"M 66.7675 165.570192 \n",
              "L 334.6075 165.570192 \n",
              "\" style=\"fill:none;stroke:#3f3f3f;stroke-linecap:square;stroke-width:1.5;\"/>\n",
              "   </g>\n",
              "   <g id=\"patch_4\">\n",
              "    <path d=\"M 33.2875 224.64 \n",
              "L 33.2875 7.2 \n",
              "\" style=\"fill:none;stroke:#000000;stroke-linecap:square;stroke-linejoin:miter;stroke-width:0.8;\"/>\n",
              "   </g>\n",
              "   <g id=\"patch_5\">\n",
              "    <path d=\"M 368.0875 224.64 \n",
              "L 368.0875 7.2 \n",
              "\" style=\"fill:none;stroke:#000000;stroke-linecap:square;stroke-linejoin:miter;stroke-width:0.8;\"/>\n",
              "   </g>\n",
              "   <g id=\"patch_6\">\n",
              "    <path d=\"M 33.2875 224.64 \n",
              "L 368.0875 224.64 \n",
              "\" style=\"fill:none;stroke:#000000;stroke-linecap:square;stroke-linejoin:miter;stroke-width:0.8;\"/>\n",
              "   </g>\n",
              "   <g id=\"patch_7\">\n",
              "    <path d=\"M 33.2875 7.2 \n",
              "L 368.0875 7.2 \n",
              "\" style=\"fill:none;stroke:#000000;stroke-linecap:square;stroke-linejoin:miter;stroke-width:0.8;\"/>\n",
              "   </g>\n",
              "  </g>\n",
              " </g>\n",
              " <defs>\n",
              "  <clipPath id=\"pc44687f603\">\n",
              "   <rect height=\"217.44\" width=\"334.8\" x=\"33.2875\" y=\"7.2\"/>\n",
              "  </clipPath>\n",
              " </defs>\n",
              "</svg>\n"
            ],
            "text/plain": [
              "<Figure size 432x288 with 1 Axes>"
            ]
          },
          "metadata": {
            "needs_background": "light"
          },
          "output_type": "display_data"
        }
      ],
      "source": [
        "sns.boxplot(data=sample)"
      ]
    },
    {
      "cell_type": "markdown",
      "id": "ad988775",
      "metadata": {
        "id": "ad988775"
      },
      "source": [
        "Ответ: 2."
      ]
    },
    {
      "cell_type": "markdown",
      "id": "91588914",
      "metadata": {
        "id": "91588914"
      },
      "source": [
        "### Задача 3"
      ]
    },
    {
      "cell_type": "markdown",
      "id": "562210df",
      "metadata": {
        "id": "562210df"
      },
      "source": [
        "__Постановка задачи__"
      ]
    },
    {
      "cell_type": "markdown",
      "id": "23ede54a",
      "metadata": {
        "id": "23ede54a"
      },
      "source": [
        "В университет на факультет A поступило 100 человек, на факультет B - 90 человек и на факультет C - 45 человек. Вероятность того, что студент с факультета A сдаст первую сессию, равна 0.6. Для студента с факультета B эта вероятность равна 0.7, а для студента с факультета C - 0.8. Случайным образом выбирается студент, сдавший первую сессию. Какое событие наиболее вероятно:\n",
        "1. студент учится на факультете A,\n",
        "2. студент учится на факультете B,\n",
        "3. студент учится на факультете C?\n",
        "\n",
        "_Замечание_: да, эта задача не на тему статистики, но тема важная, и её стоит иногда освежать в памяти."
      ]
    },
    {
      "cell_type": "markdown",
      "id": "f85d6430",
      "metadata": {
        "id": "f85d6430"
      },
      "source": [
        "__Решение__"
      ]
    },
    {
      "cell_type": "markdown",
      "id": "450ad0e9",
      "metadata": {
        "id": "450ad0e9"
      },
      "source": [
        "Пусть $A$, $B$, $C$ — события, заключающиеся в том, что случайным образом взятый студент учится, соответственно, на факультете $A$, $B$ или $C$. Кроме того, пусть событие $S$ обозначает, что случайным образом взятый студент сдал первую сессию. Для решения задачи нам нужно посчитать условные вероятности\n",
        "$$P(A|S), \\: P(B|S), \\: P(C|S)$$\n",
        "и выбрать тот факультет, которому соответствует наибольшая вероятность. Данные вероятности можно посчитать с помощью формулы Байеса. Например, для факультета $A$:\n",
        "$$P(A | S) = \\dfrac{P(S | A) \\cdot P(A)}{P(S)}$$"
      ]
    },
    {
      "cell_type": "markdown",
      "id": "db15ccbc",
      "metadata": {
        "id": "db15ccbc"
      },
      "source": [
        "Количество студентов на факультетах $A$, $B$ и $C$ соотвественно (n_a, n_b, n_c): "
      ]
    },
    {
      "cell_type": "code",
      "execution_count": null,
      "id": "2d27ca59",
      "metadata": {
        "id": "2d27ca59"
      },
      "outputs": [],
      "source": [
        "n_a = 100\n",
        "n_b = 90\n",
        "n_c = 45"
      ]
    },
    {
      "cell_type": "markdown",
      "id": "499ec673",
      "metadata": {
        "id": "499ec673"
      },
      "source": [
        "Суммарное количество студентов на факультетах $A$, $B$ и $C$ (n_abc):"
      ]
    },
    {
      "cell_type": "code",
      "execution_count": null,
      "id": "16566443",
      "metadata": {
        "id": "16566443",
        "outputId": "a867e04d-e644-4c05-c73b-cd7472afbe68"
      },
      "outputs": [
        {
          "data": {
            "text/plain": [
              "235"
            ]
          },
          "execution_count": 87,
          "metadata": {},
          "output_type": "execute_result"
        }
      ],
      "source": [
        "n_abc = n_a + n_b + n_c\n",
        "n_abc"
      ]
    },
    {
      "cell_type": "markdown",
      "id": "4776db57",
      "metadata": {
        "id": "4776db57"
      },
      "source": [
        "Вероятности того, что студент сдаст первую сессию для факультетов $A$, $B$ и $C$ соответственно (p_a, p_b, p_c):"
      ]
    },
    {
      "cell_type": "code",
      "execution_count": null,
      "id": "5684af25",
      "metadata": {
        "id": "5684af25"
      },
      "outputs": [],
      "source": [
        "p_sa = 0.6\n",
        "p_sb = 0.7\n",
        "p_sc = 0.8"
      ]
    },
    {
      "cell_type": "markdown",
      "id": "1b87a442",
      "metadata": {
        "id": "1b87a442"
      },
      "source": [
        "Вероятности того, что выбранный студент относится к факультету $A$, $B$ и $C$ соответственно (p_a, p_b, p_c):"
      ]
    },
    {
      "cell_type": "code",
      "execution_count": null,
      "id": "8959c216",
      "metadata": {
        "id": "8959c216",
        "outputId": "6ab00f52-3def-40fe-ed64-9b0fa83d4c37"
      },
      "outputs": [
        {
          "data": {
            "text/plain": [
              "(0.425531914893617, 0.3829787234042553, 0.19148936170212766)"
            ]
          },
          "execution_count": 89,
          "metadata": {},
          "output_type": "execute_result"
        }
      ],
      "source": [
        "p_a = n_a / n_abc\n",
        "p_b = n_b / n_abc\n",
        "p_c = n_c / n_abc\n",
        "p_a, p_b, p_c"
      ]
    },
    {
      "cell_type": "markdown",
      "id": "aae8ab8b",
      "metadata": {
        "id": "aae8ab8b"
      },
      "source": [
        "Вероятность сдачи первой сессии студентом (p_s):"
      ]
    },
    {
      "cell_type": "code",
      "execution_count": null,
      "id": "515b60bb",
      "metadata": {
        "id": "515b60bb",
        "outputId": "8ab97212-f49f-47c7-ff05-dfe6350ff2d4"
      },
      "outputs": [
        {
          "data": {
            "text/plain": [
              "0.676595744680851"
            ]
          },
          "execution_count": 90,
          "metadata": {},
          "output_type": "execute_result"
        }
      ],
      "source": [
        "p_s = p_sa*p_a + p_sb*p_b + p_sc*p_c\n",
        "p_s"
      ]
    },
    {
      "cell_type": "markdown",
      "id": "46bd216c",
      "metadata": {
        "id": "46bd216c"
      },
      "source": [
        "Условные вероятности $P(A|S), \\: P(B|S) \\: и \\: P(C|S)$ соотвественно (p_as, p_bs, p_cs):"
      ]
    },
    {
      "cell_type": "code",
      "execution_count": null,
      "id": "e36d4a9a",
      "metadata": {
        "id": "e36d4a9a",
        "outputId": "ed6f6ae7-0efa-4870-d6ef-3148511a702a"
      },
      "outputs": [
        {
          "data": {
            "text/plain": [
              "(0.3773584905660377, 0.39622641509433965, 0.22641509433962265)"
            ]
          },
          "execution_count": 91,
          "metadata": {},
          "output_type": "execute_result"
        }
      ],
      "source": [
        "p_as = p_sa * p_a / p_s\n",
        "p_bs = p_sb * p_b / p_s\n",
        "p_cs = p_sc * p_c / p_s\n",
        "p_as, p_bs, p_cs"
      ]
    },
    {
      "cell_type": "markdown",
      "id": "3b0f14dc",
      "metadata": {
        "id": "3b0f14dc"
      },
      "source": [
        "Наиболее вероятное событие:"
      ]
    },
    {
      "cell_type": "code",
      "execution_count": null,
      "id": "a2fb25a6",
      "metadata": {
        "id": "a2fb25a6",
        "outputId": "ee42a4ad-083d-4ad4-d9bb-8ce8a7cd9583"
      },
      "outputs": [
        {
          "data": {
            "text/plain": [
              "0.39622641509433965"
            ]
          },
          "execution_count": 92,
          "metadata": {},
          "output_type": "execute_result"
        }
      ],
      "source": [
        "max(p_as, p_bs, p_cs)"
      ]
    },
    {
      "cell_type": "markdown",
      "id": "828c516b",
      "metadata": {
        "id": "828c516b"
      },
      "source": [
        "Ответ: 2."
      ]
    },
    {
      "cell_type": "code",
      "execution_count": null,
      "id": "ab870896",
      "metadata": {
        "id": "ab870896"
      },
      "outputs": [],
      "source": [
        ""
      ]
    }
  ],
  "metadata": {
    "kernelspec": {
      "display_name": "Python 3 (ipykernel)",
      "language": "python",
      "name": "python3"
    },
    "language_info": {
      "codemirror_mode": {
        "name": "ipython",
        "version": 3
      },
      "file_extension": ".py",
      "mimetype": "text/x-python",
      "name": "python",
      "nbconvert_exporter": "python",
      "pygments_lexer": "ipython3",
      "version": "3.8.8"
    },
    "colab": {
      "name": "lesson_3.ipynb",
      "provenance": [],
      "include_colab_link": true
    }
  },
  "nbformat": 4,
  "nbformat_minor": 5
}