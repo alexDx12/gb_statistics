{
  "cells": [
    {
      "cell_type": "markdown",
      "metadata": {
        "id": "view-in-github",
        "colab_type": "text"
      },
      "source": [
        "<a href=\"https://colab.research.google.com/github/alexDx12/gb_statistics/blob/lesson_2/lesson_2.ipynb\" target=\"_parent\"><img src=\"https://colab.research.google.com/assets/colab-badge.svg\" alt=\"Open In Colab\"/></a>"
      ]
    },
    {
      "cell_type": "markdown",
      "id": "c026ff39",
      "metadata": {
        "id": "c026ff39"
      },
      "source": [
        "### Задачи 1 и 2"
      ]
    },
    {
      "cell_type": "markdown",
      "id": "18cbf527",
      "metadata": {
        "id": "18cbf527"
      },
      "source": [
        "__Постановка задачи__"
      ]
    },
    {
      "cell_type": "markdown",
      "id": "2b8814f9",
      "metadata": {
        "id": "2b8814f9"
      },
      "source": [
        "Контрольная работа состоит из пяти вопросов. На каждый вопрос приведено четыре варианта ответа, один из которых правильный. Случайная величина X задаёт число правильных ответов при простом угадывании. Найдите математическое ожидание данной случайной величины. Найдите дисперсию случайной величины X.  \n",
        "Подсказка: постройте закон распределения случайной величины X."
      ]
    },
    {
      "cell_type": "markdown",
      "id": "cb7b42b3",
      "metadata": {
        "id": "cb7b42b3"
      },
      "source": [
        "__Решение__"
      ]
    },
    {
      "cell_type": "markdown",
      "id": "d2b1effe",
      "metadata": {
        "id": "d2b1effe"
      },
      "source": [
        "Исходя из формулировки задачи, речь идёт о распределении случайной величины по биномиальному закону - вероятность получения определённого количества правильных ответов (k) на определённое количество вопросов (n), при определённой вероятности угадать правильный ответ (p).  \n",
        "В результате, вероятность Px случайной величины X получения k правильных ответов на n вопросов определяется следующей формулой:  \n",
        " \n",
        "$$Px(X = k) = C_n^k p^k (1 - p)^{n - k}$$"
      ]
    },
    {
      "cell_type": "markdown",
      "id": "13cc6cdc",
      "metadata": {
        "id": "13cc6cdc"
      },
      "source": [
        "Импорт библиотек и скриптов:"
      ]
    },
    {
      "cell_type": "code",
      "execution_count": null,
      "id": "5f90c718",
      "metadata": {
        "id": "5f90c718"
      },
      "outputs": [],
      "source": [
        "import numpy as np\n",
        "from math import factorial "
      ]
    },
    {
      "cell_type": "markdown",
      "id": "2d0fd370",
      "metadata": {
        "id": "2d0fd370"
      },
      "source": [
        "Список вариантов числа правильных ответов контрольной работы (k_values):"
      ]
    },
    {
      "cell_type": "code",
      "execution_count": null,
      "id": "4fd5556c",
      "metadata": {
        "id": "4fd5556c",
        "outputId": "dfef8291-3dae-47c4-fe26-69924ff61941"
      },
      "outputs": [
        {
          "data": {
            "text/plain": [
              "[0, 1, 2, 3, 4, 5]"
            ]
          },
          "execution_count": 2,
          "metadata": {},
          "output_type": "execute_result"
        }
      ],
      "source": [
        "k_values = [i for i in range(6)]\n",
        "k_values"
      ]
    },
    {
      "cell_type": "markdown",
      "id": "4a5da9b1",
      "metadata": {
        "id": "4a5da9b1"
      },
      "source": [
        "Общее количество вопросов (n):"
      ]
    },
    {
      "cell_type": "code",
      "execution_count": null,
      "id": "86af44e3",
      "metadata": {
        "id": "86af44e3"
      },
      "outputs": [],
      "source": [
        "n = 5"
      ]
    },
    {
      "cell_type": "markdown",
      "id": "e631f516",
      "metadata": {
        "id": "e631f516"
      },
      "source": [
        "Вероятность получить правильный ответ на каждый из вопросов (p):"
      ]
    },
    {
      "cell_type": "code",
      "execution_count": null,
      "id": "d746d954",
      "metadata": {
        "id": "d746d954",
        "outputId": "1f509103-7fec-4193-fb37-1dc70b8318fb"
      },
      "outputs": [
        {
          "data": {
            "text/plain": [
              "0.25"
            ]
          },
          "execution_count": 4,
          "metadata": {},
          "output_type": "execute_result"
        }
      ],
      "source": [
        "p = 1 / 4\n",
        "p"
      ]
    },
    {
      "cell_type": "markdown",
      "id": "f2234d2a",
      "metadata": {
        "id": "f2234d2a"
      },
      "source": [
        "Список вариантов вероятностей для каждого варианта числа правильных ответов контрольной работы (px_values):"
      ]
    },
    {
      "cell_type": "code",
      "execution_count": null,
      "id": "852145e1",
      "metadata": {
        "id": "852145e1",
        "outputId": "c0f2c7b5-3c24-4bc5-9eb3-13b76787759c"
      },
      "outputs": [
        {
          "data": {
            "text/plain": [
              "[0.2373046875,\n",
              " 0.3955078125,\n",
              " 0.263671875,\n",
              " 0.087890625,\n",
              " 0.0146484375,\n",
              " 0.0009765625]"
            ]
          },
          "execution_count": 5,
          "metadata": {},
          "output_type": "execute_result"
        }
      ],
      "source": [
        "Px_values = []\n",
        "for i in range(6):\n",
        "    Px = (factorial(n) / (factorial(k_values[i]) * factorial(n - k_values[i]))) * p**k_values[i] * (1 - p)**(n - k_values[i])\n",
        "    Px_values.append(Px)\n",
        "Px_values"
      ]
    },
    {
      "cell_type": "markdown",
      "id": "6eabdf00",
      "metadata": {
        "id": "6eabdf00"
      },
      "source": [
        "Преобразование списков k_values и px_values в массивы numpy для удобства дальнейших вычислений:"
      ]
    },
    {
      "cell_type": "code",
      "execution_count": null,
      "id": "e7d7ffd1",
      "metadata": {
        "id": "e7d7ffd1"
      },
      "outputs": [],
      "source": [
        "k_values = np.array(k_values)\n",
        "Px_values = np.array(Px_values)"
      ]
    },
    {
      "cell_type": "markdown",
      "id": "2d5f66ba",
      "metadata": {
        "id": "2d5f66ba"
      },
      "source": [
        "Математическое ожидание числа правильных ответов кнтрольной работы (m):"
      ]
    },
    {
      "cell_type": "code",
      "execution_count": null,
      "id": "b9a23527",
      "metadata": {
        "id": "b9a23527",
        "outputId": "91f2b63b-6661-43e1-bd33-f9484fe125ad"
      },
      "outputs": [
        {
          "data": {
            "text/plain": [
              "1.25"
            ]
          },
          "execution_count": 7,
          "metadata": {},
          "output_type": "execute_result"
        }
      ],
      "source": [
        "m = (k_values * Px_values).sum()\n",
        "m"
      ]
    },
    {
      "cell_type": "markdown",
      "id": "74bb0ad0",
      "metadata": {
        "id": "74bb0ad0"
      },
      "source": [
        "Дисперсия числа правильных ответов контрольной работы (d):"
      ]
    },
    {
      "cell_type": "code",
      "execution_count": null,
      "id": "5eaa2baf",
      "metadata": {
        "id": "5eaa2baf",
        "outputId": "bf56f2b4-f647-401f-f449-893680cf6d2d"
      },
      "outputs": [
        {
          "data": {
            "text/plain": [
              "0.9375"
            ]
          },
          "execution_count": 8,
          "metadata": {},
          "output_type": "execute_result"
        }
      ],
      "source": [
        "d = (((k_values - m) ** 2) * Px_values).sum()\n",
        "d"
      ]
    },
    {
      "cell_type": "markdown",
      "id": "1ed6ffa5",
      "metadata": {
        "id": "1ed6ffa5"
      },
      "source": [
        "Ответ: математическое ожидание случайной величины равно 1.25; дисперсия случайной величины равна 0.9375."
      ]
    },
    {
      "cell_type": "markdown",
      "id": "8f102e53",
      "metadata": {
        "id": "8f102e53"
      },
      "source": [
        "### Задача 3"
      ]
    },
    {
      "cell_type": "markdown",
      "id": "538234e8",
      "metadata": {
        "id": "538234e8"
      },
      "source": [
        "__Постановка задачи__"
      ]
    },
    {
      "cell_type": "markdown",
      "id": "013b36dc",
      "metadata": {
        "id": "013b36dc"
      },
      "source": [
        "Пользователь получает в среднем 10 писем со спамом на свой почтовый ящик за сутки. Найти число N, такое, что с вероятностью 0.95 пользователь получит не более N писем со спамом за текущий день."
      ]
    },
    {
      "cell_type": "markdown",
      "id": "de8667b0",
      "metadata": {
        "id": "de8667b0"
      },
      "source": [
        "__Решение__"
      ]
    },
    {
      "cell_type": "markdown",
      "id": "2b53ef69",
      "metadata": {
        "id": "2b53ef69"
      },
      "source": [
        "Исходя из формулировки задачи, речь идёт о распределении случайной величины по формуле Пуассона - вероятность получения определённого количества писем со спамом (N) с определённой интенсивностью (lambda_).  \n",
        "В результате, вероятность p случайной величины X получения N писем со спамом определяется следующей формулой:  \n",
        " \n",
        "$$P(X = N) = \\dfrac{\\lambda^N e^{-\\lambda}}{N!}$$\n",
        " \n",
        "Чтобы определить количество писем со спамом не более N, необходимо сложить отдельные вероятности получения количества писем от 0 до N."
      ]
    },
    {
      "cell_type": "markdown",
      "id": "26115f13",
      "metadata": {
        "id": "26115f13"
      },
      "source": [
        "Импорт библиотек и скриптов:"
      ]
    },
    {
      "cell_type": "code",
      "execution_count": null,
      "id": "3e958f61",
      "metadata": {
        "id": "3e958f61"
      },
      "outputs": [],
      "source": [
        "import numpy as np"
      ]
    },
    {
      "cell_type": "markdown",
      "id": "e5c1b39d",
      "metadata": {
        "id": "e5c1b39d"
      },
      "source": [
        "Вспомогательные классы и функции:"
      ]
    },
    {
      "cell_type": "code",
      "execution_count": null,
      "id": "98f96f3e",
      "metadata": {
        "id": "98f96f3e"
      },
      "outputs": [],
      "source": [
        "def poisson_proba(N: int, lambda_: float) -> float:\n",
        "    \"\"\"Формула Пуассона.\n",
        "    \"\"\"\n",
        "    \n",
        "    return (lambda_ ** N) * (np.exp(-lambda_)) / np.math.factorial(N)"
      ]
    },
    {
      "cell_type": "markdown",
      "id": "262a40c3",
      "metadata": {
        "id": "262a40c3"
      },
      "source": [
        "Суммирование вероятностей получения писем со спамом до тех пор, пока суммарная вероятность не достигнет 0.95:"
      ]
    },
    {
      "cell_type": "code",
      "execution_count": null,
      "id": "ce8095b7",
      "metadata": {
        "id": "ce8095b7",
        "outputId": "a889e271-da6d-45cd-9a93-046033089876"
      },
      "outputs": [
        {
          "data": {
            "text/plain": [
              "0.9512595966960214"
            ]
          },
          "execution_count": 11,
          "metadata": {},
          "output_type": "execute_result"
        }
      ],
      "source": [
        "N = 0\n",
        "lambda_ = 10\n",
        "p = 0\n",
        "while p < 0.95:\n",
        "    p += poisson_proba(N=N, lambda_=lambda_)\n",
        "    N += 1\n",
        "p"
      ]
    },
    {
      "cell_type": "code",
      "execution_count": null,
      "id": "c857a40b",
      "metadata": {
        "id": "c857a40b",
        "outputId": "f344c185-1465-4aa2-a780-3dd69220131e"
      },
      "outputs": [
        {
          "data": {
            "text/plain": [
              "16"
            ]
          },
          "execution_count": 12,
          "metadata": {},
          "output_type": "execute_result"
        }
      ],
      "source": [
        "N"
      ]
    },
    {
      "cell_type": "markdown",
      "id": "9498b179",
      "metadata": {
        "id": "9498b179"
      },
      "source": [
        "Ответ: с вероятностью 0.95 пользователь получит не более 16 писем со спамом в день."
      ]
    },
    {
      "cell_type": "markdown",
      "id": "90766b01",
      "metadata": {
        "id": "90766b01"
      },
      "source": [
        "### Задача 4"
      ]
    },
    {
      "cell_type": "markdown",
      "id": "afb7947f",
      "metadata": {
        "id": "afb7947f"
      },
      "source": [
        "__Постановка задачи__"
      ]
    },
    {
      "cell_type": "markdown",
      "id": "20730cb6",
      "metadata": {
        "id": "20730cb6"
      },
      "source": [
        "Производятся выстрелы по мишени. Вероятность попадания в мишень при одном выстреле равна 0.01. Сколько выстрелов нужно сделать чтобы быть уверенным с вероятностью 0.9, что хотя бы 6 раз будет совершено попадание?\n",
        "Подсказка: 1) \"Вероятность попасть k раз при n выстрелах\" - на какое распределение это похоже? 2) А если нам нужна вероятность P(X >= k), а не P(X = k)? 3) Здесь предстоит немножко покодить."
      ]
    },
    {
      "cell_type": "markdown",
      "id": "a19bc8e4",
      "metadata": {
        "id": "a19bc8e4"
      },
      "source": [
        "__Решение__"
      ]
    },
    {
      "cell_type": "markdown",
      "id": "44944c76",
      "metadata": {
        "id": "44944c76"
      },
      "source": [
        "Исходя из формулировки задачи, речь идёт о распределении случайной величины по биномиальному закону - вероятность попадания определённого количества раз в мишень (k) с помощью определённого количества выстрелов (n), при определённой вероятности попадания (p).  \n",
        "В результате, вероятность Px случайной величины X попадания k раз в мишень с помощью n выстрелов определяется следующей формулой:  \n",
        " \n",
        "$$Px(X = k) = C_n^k p^k (1 - p)^{n - k}$$\n",
        " \n",
        "Чтобы определить количество выстрелов для попадания как минимум k раз в мишень, необходимо складывать отдельные вероятности попадания от 0 до n до тех пор, пока суммарная вероятность не достигнет 0.9."
      ]
    },
    {
      "cell_type": "markdown",
      "id": "a18b6652",
      "metadata": {
        "id": "a18b6652"
      },
      "source": [
        "Импорт библиотек и скриптов:"
      ]
    },
    {
      "cell_type": "code",
      "execution_count": null,
      "id": "439099ac",
      "metadata": {
        "id": "439099ac"
      },
      "outputs": [],
      "source": [
        "import numpy as np"
      ]
    },
    {
      "cell_type": "markdown",
      "id": "21443b7f",
      "metadata": {
        "id": "21443b7f"
      },
      "source": [
        "Вспомогательные классы и функции:"
      ]
    },
    {
      "cell_type": "code",
      "execution_count": null,
      "id": "3bdb7a5f",
      "metadata": {
        "id": "3bdb7a5f"
      },
      "outputs": [],
      "source": [
        "def binominal_proba(k: int, n: int, p: float) -> float:\n",
        "    \"\"\"Формула биномиального распределения.\n",
        "    \"\"\"\n",
        "    \n",
        "    return (np.math.factorial(n) / (np.math.factorial(k) * np.math.factorial(n - k))) * (p ** k) * (1 - p) ** (n - k)  "
      ]
    },
    {
      "cell_type": "markdown",
      "id": "cbaa682a",
      "metadata": {
        "id": "cbaa682a"
      },
      "source": [
        "Суммирование вероятностей попадания по мишени до тех пор, пока суммарная вероятность не достигнет 0.9:"
      ]
    },
    {
      "cell_type": "code",
      "execution_count": null,
      "id": "82d0dedf",
      "metadata": {
        "id": "82d0dedf",
        "outputId": "2fea3fb3-8e49-4413-bacb-2b22064175c5"
      },
      "outputs": [
        {
          "data": {
            "text/plain": [
              "0.9185129699543314"
            ]
          },
          "execution_count": 15,
          "metadata": {},
          "output_type": "execute_result"
        }
      ],
      "source": [
        "k = 6\n",
        "n = 6\n",
        "p = 0.01\n",
        "Px = 0\n",
        "while Px < 0.9:\n",
        "    Px += binominal_proba(k, n, p)\n",
        "    n += 1\n",
        "Px"
      ]
    },
    {
      "cell_type": "code",
      "execution_count": null,
      "id": "5239fa37",
      "metadata": {
        "id": "5239fa37",
        "outputId": "00aef7bd-abd5-4064-a472-f1f6b3a2c302"
      },
      "outputs": [
        {
          "data": {
            "text/plain": [
              "231"
            ]
          },
          "execution_count": 16,
          "metadata": {},
          "output_type": "execute_result"
        }
      ],
      "source": [
        "n"
      ]
    },
    {
      "cell_type": "markdown",
      "id": "cf87a506",
      "metadata": {
        "id": "cf87a506"
      },
      "source": [
        "Ответ: с вероятностьяю 0.9 необходимо сделать 231 выстрел, чтобы быть уверенным, что хотя бы 6 раз будет совершено попадание."
      ]
    }
  ],
  "metadata": {
    "kernelspec": {
      "display_name": "Python 3 (ipykernel)",
      "language": "python",
      "name": "python3"
    },
    "language_info": {
      "codemirror_mode": {
        "name": "ipython",
        "version": 3
      },
      "file_extension": ".py",
      "mimetype": "text/x-python",
      "name": "python",
      "nbconvert_exporter": "python",
      "pygments_lexer": "ipython3",
      "version": "3.8.8"
    },
    "colab": {
      "name": "lesson_2.ipynb",
      "provenance": [],
      "include_colab_link": true
    }
  },
  "nbformat": 4,
  "nbformat_minor": 5
}