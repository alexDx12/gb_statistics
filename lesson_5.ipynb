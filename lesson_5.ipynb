{
  "cells": [
    {
      "cell_type": "markdown",
      "metadata": {
        "id": "view-in-github",
        "colab_type": "text"
      },
      "source": [
        "<a href=\"https://colab.research.google.com/github/alexDx12/gb_statistics/blob/lesson_5/lesson_5.ipynb\" target=\"_parent\"><img src=\"https://colab.research.google.com/assets/colab-badge.svg\" alt=\"Open In Colab\"/></a>"
      ]
    },
    {
      "cell_type": "markdown",
      "id": "d834a550",
      "metadata": {
        "id": "d834a550"
      },
      "source": [
        "# Теория вероятностей и математическая статистика\n",
        "\n",
        "## Урок 5\n",
        "\n",
        "## Проверка статистических гипотез. P-значения. Доверительные интервалы\n",
        "\n",
        "### Домашнее задание"
      ]
    },
    {
      "cell_type": "markdown",
      "id": "5db83786",
      "metadata": {
        "id": "5db83786"
      },
      "source": [
        "### Задача 1"
      ]
    },
    {
      "cell_type": "markdown",
      "id": "3e32bc06",
      "metadata": {
        "id": "3e32bc06"
      },
      "source": [
        "__Постановка задачи__"
      ]
    },
    {
      "cell_type": "markdown",
      "id": "a40a1cda",
      "metadata": {
        "id": "a40a1cda"
      },
      "source": [
        "Известно, что генеральная совокупность распределена нормально с известным средним квадратическим отклонением 16. Найти ширину доверительного интервала для оценки математического ожидания `mu` с надёжностью 0.95, если выборочное среднее равно 80, а объём выборки равен 256."
      ]
    },
    {
      "cell_type": "markdown",
      "id": "21d1f10c",
      "metadata": {
        "id": "21d1f10c"
      },
      "source": [
        "__Решение__"
      ]
    },
    {
      "cell_type": "markdown",
      "id": "1ef057e3",
      "metadata": {
        "id": "1ef057e3"
      },
      "source": [
        "Импорт библиотек и скриптов:"
      ]
    },
    {
      "cell_type": "code",
      "execution_count": null,
      "id": "c404c507",
      "metadata": {
        "id": "c404c507"
      },
      "outputs": [],
      "source": [
        "import numpy as np\n",
        "from scipy import stats"
      ]
    },
    {
      "cell_type": "markdown",
      "id": "fac2abd5",
      "metadata": {
        "id": "fac2abd5"
      },
      "source": [
        "Среднее квадратическое отклонение (std), надёжность (p), выборочное среднее (mu_s) и объём выборки (n) исходя из постановки задачи:"
      ]
    },
    {
      "cell_type": "code",
      "execution_count": null,
      "id": "45de40c2",
      "metadata": {
        "id": "45de40c2"
      },
      "outputs": [],
      "source": [
        "std = 16\n",
        "p = 0.95\n",
        "mu_s = 80\n",
        "n = 256"
      ]
    },
    {
      "cell_type": "markdown",
      "id": "630fe84c",
      "metadata": {
        "id": "630fe84c"
      },
      "source": [
        "Уровень значимости (alpha):"
      ]
    },
    {
      "cell_type": "code",
      "execution_count": null,
      "id": "6208cdf5",
      "metadata": {
        "id": "6208cdf5",
        "outputId": "c3812d6e-6870-4aff-f77c-cd943c3bc80f"
      },
      "outputs": [
        {
          "data": {
            "text/plain": [
              "0.05"
            ]
          },
          "execution_count": 46,
          "metadata": {},
          "output_type": "execute_result"
        }
      ],
      "source": [
        "alpha = round(1 - p, 2)\n",
        "alpha"
      ]
    },
    {
      "cell_type": "markdown",
      "id": "65281488",
      "metadata": {
        "id": "65281488"
      },
      "source": [
        "Квантили распределения (t1, t2):"
      ]
    },
    {
      "cell_type": "code",
      "execution_count": null,
      "id": "5d842e4b",
      "metadata": {
        "id": "5d842e4b",
        "outputId": "41b6a690-9ae6-44ea-8e95-153ecaf00f75"
      },
      "outputs": [
        {
          "data": {
            "text/plain": [
              "(-1.9599639845400545, 1.959963984540054)"
            ]
          },
          "execution_count": 47,
          "metadata": {},
          "output_type": "execute_result"
        }
      ],
      "source": [
        "t1 = stats.norm.ppf(alpha / 2)\n",
        "t2 = stats.norm.ppf(1 - alpha / 2)\n",
        "t1, t2"
      ]
    },
    {
      "cell_type": "markdown",
      "id": "c4c4c0f8",
      "metadata": {
        "id": "c4c4c0f8"
      },
      "source": [
        "Нижняя (down_bond) и верхняя (up_bond) доверительные границы:"
      ]
    },
    {
      "cell_type": "code",
      "execution_count": null,
      "id": "09739735",
      "metadata": {
        "id": "09739735"
      },
      "outputs": [],
      "source": [
        "down_bond = mu_s + t1 * std / np.sqrt(n)\n",
        "up_bond = mu_s + t2 * std / np.sqrt(n)"
      ]
    },
    {
      "cell_type": "markdown",
      "id": "de510022",
      "metadata": {
        "id": "de510022"
      },
      "source": [
        "Ширина доверительного интервала:"
      ]
    },
    {
      "cell_type": "code",
      "execution_count": null,
      "id": "0a4425fc",
      "metadata": {
        "id": "0a4425fc",
        "outputId": "18134e5f-98ab-4cef-bcce-0ed63f35d8bf"
      },
      "outputs": [
        {
          "data": {
            "text/plain": [
              "3.9199279690801063"
            ]
          },
          "execution_count": 49,
          "metadata": {},
          "output_type": "execute_result"
        }
      ],
      "source": [
        "up_bond - down_bond"
      ]
    },
    {
      "cell_type": "markdown",
      "id": "13a435f6",
      "metadata": {
        "id": "13a435f6"
      },
      "source": [
        "Ответ: 3.919927969."
      ]
    },
    {
      "cell_type": "markdown",
      "id": "bf5cfb4e",
      "metadata": {
        "id": "bf5cfb4e"
      },
      "source": [
        "### Задача 2"
      ]
    },
    {
      "cell_type": "markdown",
      "id": "dcce7f9c",
      "metadata": {
        "id": "dcce7f9c"
      },
      "source": [
        "__Постановка задачи__"
      ]
    },
    {
      "cell_type": "markdown",
      "id": "def164ab",
      "metadata": {
        "id": "def164ab"
      },
      "source": [
        "Продавец утверждает, что средний вес пачки печенья составляет 200 г. Из партии извлечена выборка из 10 пачек. Вес каждой пачки составляет:\n",
        "```\n",
        "202, 203, 199, 197, 195, 201, 200, 204, 194, 190\n",
        "```\n",
        "Известно, что их веса распределены нормально. Верно ли утверждение продавца, если учитывать, что уровень значимости равен 1%? Найдите P-значение для данного теста и укажите его в качестве ответа."
      ]
    },
    {
      "cell_type": "markdown",
      "id": "a3b0cd78",
      "metadata": {
        "id": "a3b0cd78"
      },
      "source": [
        "__Решение__"
      ]
    },
    {
      "cell_type": "markdown",
      "id": "b46048c4",
      "metadata": {
        "id": "b46048c4"
      },
      "source": [
        "Импорт библиотек и скриптов:"
      ]
    },
    {
      "cell_type": "code",
      "execution_count": null,
      "id": "f10efd7a",
      "metadata": {
        "id": "f10efd7a"
      },
      "outputs": [],
      "source": [
        "import numpy as np\n",
        "from scipy import stats"
      ]
    },
    {
      "cell_type": "markdown",
      "id": "d326388e",
      "metadata": {
        "id": "d326388e"
      },
      "source": [
        "Массив выборки (samples), уровень значимости (alpha) и объём выборки (n) исходя из постановки задачи:"
      ]
    },
    {
      "cell_type": "code",
      "execution_count": null,
      "id": "aa4dfa2d",
      "metadata": {
        "id": "aa4dfa2d"
      },
      "outputs": [],
      "source": [
        "samples = np.array([202, 203, 199, 197, 195, 201, 200, 204, 194, 190])\n",
        "alpha = 0.01\n",
        "n = samples.shape[0]"
      ]
    },
    {
      "cell_type": "markdown",
      "id": "aca7a83b",
      "metadata": {
        "id": "aca7a83b"
      },
      "source": [
        "Поскольку из поставновки задачи дисперсия генеральной совокупности не известна, то при решении данной задачи можно использовать t-статистику:"
      ]
    },
    {
      "cell_type": "code",
      "execution_count": null,
      "id": "99ed1e3d",
      "metadata": {
        "id": "99ed1e3d",
        "outputId": "824772dc-bea7-4f36-f596-fa26b8442ed4"
      },
      "outputs": [
        {
          "data": {
            "text/plain": [
              "-1.0651074037450896"
            ]
          },
          "execution_count": 52,
          "metadata": {},
          "output_type": "execute_result"
        }
      ],
      "source": [
        "(samples.mean() - 200) / (samples.std(ddof=1) / np.sqrt(samples.shape[0]))"
      ]
    },
    {
      "cell_type": "markdown",
      "id": "1ee04140",
      "metadata": {
        "id": "1ee04140"
      },
      "source": [
        "Квантили распределения (t1, t2):"
      ]
    },
    {
      "cell_type": "code",
      "execution_count": null,
      "id": "ae4f3eb6",
      "metadata": {
        "id": "ae4f3eb6",
        "outputId": "739811b9-aac6-4d51-d51c-1c2268f46a81"
      },
      "outputs": [
        {
          "data": {
            "text/plain": [
              "(-3.24983554401537, 3.2498355440153697)"
            ]
          },
          "execution_count": 53,
          "metadata": {},
          "output_type": "execute_result"
        }
      ],
      "source": [
        "t1 = stats.t.ppf(alpha / 2, df=n - 1)\n",
        "t2 = stats.t.ppf(1 - alpha / 2, df=n - 1)\n",
        "t1, t2"
      ]
    },
    {
      "cell_type": "markdown",
      "id": "d191493e",
      "metadata": {
        "id": "d191493e"
      },
      "source": [
        "Поскольку значение t-статистики не выходит за границы, которые определяют квантили распределения, то можно сделать вывод о том, что утверждение продавца не противоречит гипотезе о том, что средний вес пачки печенья составляет 200 г. "
      ]
    },
    {
      "cell_type": "markdown",
      "id": "a7a3b1ec",
      "metadata": {
        "id": "a7a3b1ec"
      },
      "source": [
        "Статистика (statistic) и P-значение (pvalue):"
      ]
    },
    {
      "cell_type": "code",
      "execution_count": null,
      "id": "cdf56766",
      "metadata": {
        "id": "cdf56766",
        "outputId": "87c095ab-1396-422a-993e-64dfe4bd7f15"
      },
      "outputs": [
        {
          "data": {
            "text/plain": [
              "Ttest_1sampResult(statistic=-1.0651074037450896, pvalue=0.31456660352472854)"
            ]
          },
          "execution_count": 54,
          "metadata": {},
          "output_type": "execute_result"
        }
      ],
      "source": [
        "stats.ttest_1samp(samples, popmean=200)"
      ]
    },
    {
      "cell_type": "markdown",
      "id": "e2820975",
      "metadata": {
        "id": "e2820975"
      },
      "source": [
        "Ответ: 0.3145666."
      ]
    },
    {
      "cell_type": "markdown",
      "id": "a36797c8",
      "metadata": {
        "id": "a36797c8"
      },
      "source": [
        "### Задача 3"
      ]
    },
    {
      "cell_type": "markdown",
      "id": "c8e04aae",
      "metadata": {
        "id": "c8e04aae"
      },
      "source": [
        "__Постановка задачи__"
      ]
    },
    {
      "cell_type": "markdown",
      "id": "a01c3970",
      "metadata": {
        "id": "a01c3970"
      },
      "source": [
        "Дана выборка диаметров подшипников из примера 1 с занятия 5:\n",
        "```\n",
        "samples = [0.6603, 0.9466, 0.5968, 1.3792, 1.5481, 0.7515, 1.0681, 1.1134,\n",
        "           1.2088, 1.701 , 1.0282, 1.3579, 1.0191, 1.1784, 1.1168, 1.1372,\n",
        "           0.7273, 1.3958, 0.8665, 1.5112, 1.161 , 1.0232, 1.0865, 1.02  ]\n",
        "```\n",
        "Предполагая, что диаметры подшипников распределены нормально, проверьте гипотезу о том, что дисперсия случайной величины равна `0.0625` при уровне значимости `alpha = 0.05`. Что для этого нужно знать:\n",
        "1. Альтернативная гипотеза двухсторонняя.\n",
        "2. Статистика для теста: `H = (n - 1) * sample_variance / variance`, где `n` - число элементов в выборке, `sample_variance` - несмещённая оценка дисперсии, `variance` - утверждаемая нулевой гипотезой дисперсия.\n",
        "3. Эта статистика в предположении верности нулевой гипотезы имеет распределение хи-квадрат с параметром `df = n - 1`. Её квантили можно найти с помощью функции `scipy.stats.chi2.ppf`.\n",
        "\n",
        "В качестве ответа запишите 1, если нулевая гипотеза верна, и 0 иначе."
      ]
    },
    {
      "cell_type": "markdown",
      "id": "b5757ca8",
      "metadata": {
        "id": "b5757ca8"
      },
      "source": [
        "__Решение__"
      ]
    },
    {
      "cell_type": "markdown",
      "id": "041766c3",
      "metadata": {
        "id": "041766c3"
      },
      "source": [
        "Импорт библиотек и скриптов:"
      ]
    },
    {
      "cell_type": "code",
      "execution_count": null,
      "id": "bcd8d817",
      "metadata": {
        "id": "bcd8d817"
      },
      "outputs": [],
      "source": [
        "import numpy as np\n",
        "from scipy import stats"
      ]
    },
    {
      "cell_type": "markdown",
      "id": "173f7955",
      "metadata": {
        "id": "173f7955"
      },
      "source": [
        "Массив выборки (samples), утверждаемая нулевой гипотезой дисперсия (variance), уровень значимости (alpha) и объём выборки (n) исходя из постановки задачи:"
      ]
    },
    {
      "cell_type": "code",
      "execution_count": null,
      "id": "0390a10c",
      "metadata": {
        "id": "0390a10c"
      },
      "outputs": [],
      "source": [
        "samples = np.array([0.6603, 0.9466, 0.5968, 1.3792, 1.5481, 0.7515, 1.0681, 1.1134,\n",
        "           1.2088, 1.701 , 1.0282, 1.3579, 1.0191, 1.1784, 1.1168, 1.1372,\n",
        "           0.7273, 1.3958, 0.8665, 1.5112, 1.161 , 1.0232, 1.0865, 1.02])\n",
        "variance = 0.0625\n",
        "alpha = 0.05\n",
        "n = samples.shape[0]"
      ]
    },
    {
      "cell_type": "markdown",
      "id": "ee2c0db4",
      "metadata": {
        "id": "ee2c0db4"
      },
      "source": [
        "Несмещённая оценка дисперсии (sample_variance):"
      ]
    },
    {
      "cell_type": "code",
      "execution_count": null,
      "id": "27bb5682",
      "metadata": {
        "id": "27bb5682",
        "outputId": "0164d4dc-7eea-4e7b-c370-2a1d40d3f8db"
      },
      "outputs": [
        {
          "data": {
            "text/plain": [
              "0.07804495041666669"
            ]
          },
          "execution_count": 57,
          "metadata": {},
          "output_type": "execute_result"
        }
      ],
      "source": [
        "sample_variance = samples.var(ddof=1)\n",
        "sample_variance"
      ]
    },
    {
      "cell_type": "markdown",
      "id": "60a5ea10",
      "metadata": {
        "id": "60a5ea10"
      },
      "source": [
        "Статистика (H):"
      ]
    },
    {
      "cell_type": "code",
      "execution_count": null,
      "id": "685918d8",
      "metadata": {
        "id": "685918d8",
        "outputId": "70f3be13-f31e-4cfa-ab30-1b883f8b7bd9"
      },
      "outputs": [
        {
          "data": {
            "text/plain": [
              "28.720541753333343"
            ]
          },
          "execution_count": 58,
          "metadata": {},
          "output_type": "execute_result"
        }
      ],
      "source": [
        "H = (n - 1) * sample_variance / variance\n",
        "H"
      ]
    },
    {
      "cell_type": "markdown",
      "id": "d724dd6e",
      "metadata": {
        "id": "d724dd6e"
      },
      "source": [
        "Квантили распределения (t1, t2):"
      ]
    },
    {
      "cell_type": "code",
      "execution_count": null,
      "id": "8cedb1e9",
      "metadata": {
        "id": "8cedb1e9",
        "outputId": "13a53de2-c2c9-48fb-e3d0-cf9bf3172119"
      },
      "outputs": [
        {
          "data": {
            "text/plain": [
              "(11.688551922452438, 38.0756272503558)"
            ]
          },
          "execution_count": 59,
          "metadata": {},
          "output_type": "execute_result"
        }
      ],
      "source": [
        "t1 = stats.chi2.ppf(alpha / 2, df=n - 1)\n",
        "t2 = stats.chi2.ppf(1 - alpha / 2, df=n - 1)\n",
        "t1, t2"
      ]
    },
    {
      "cell_type": "markdown",
      "id": "111ccac6",
      "metadata": {
        "id": "111ccac6"
      },
      "source": [
        "Поскольку значение статистики не выходит за границы, которые определяют квантили распределения, то можно сделать вывод о том, что нулевая гипотеза верна."
      ]
    },
    {
      "cell_type": "markdown",
      "id": "0a431969",
      "metadata": {
        "id": "0a431969"
      },
      "source": [
        "Ответ: 1."
      ]
    },
    {
      "cell_type": "code",
      "execution_count": null,
      "id": "d014888a",
      "metadata": {
        "id": "d014888a"
      },
      "outputs": [],
      "source": [
        ""
      ]
    }
  ],
  "metadata": {
    "kernelspec": {
      "display_name": "Python 3 (ipykernel)",
      "language": "python",
      "name": "python3"
    },
    "language_info": {
      "codemirror_mode": {
        "name": "ipython",
        "version": 3
      },
      "file_extension": ".py",
      "mimetype": "text/x-python",
      "name": "python",
      "nbconvert_exporter": "python",
      "pygments_lexer": "ipython3",
      "version": "3.9.7"
    },
    "colab": {
      "name": "lesson_5.ipynb",
      "provenance": [],
      "include_colab_link": true
    }
  },
  "nbformat": 4,
  "nbformat_minor": 5
}